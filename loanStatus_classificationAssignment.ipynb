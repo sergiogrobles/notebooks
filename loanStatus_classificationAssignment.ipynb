{
 "cells": [
  {
   "cell_type": "markdown",
   "id": "f327f04d",
   "metadata": {},
   "source": [
    "# Objective:\n",
    "\n",
    "* Solve Classification Problem\n",
    "\n",
    "\n",
    "* Use different algorithms\n",
    "\n",
    "\n",
    "* Use different evaluation metrics\n",
    "\n",
    "### Questions to be asked:\n",
    "\n",
    "\n",
    "\n",
    "\n",
    "\n",
    "\n",
    "* What is the goal in solving the classification problem? \n",
    "\n",
    "\n",
    "* What are we attempting to predict? \n",
    "\n",
    "\n",
    "* What algorithms are to be used to build our model?\n",
    "\n",
    "\n",
    "* What evaluation metrics are we using?\n",
    "\n",
    "### Answers:\n",
    "* The goal: Predict whether a loan case will be paid off or not, as well as making sure the data is cleaned i.e. fill/clear NULL, clear duplicates, format datatypes, remove unneccessary features.\n",
    "\n",
    "\n",
    "* We are attempting to predict whether a customer will pay off there loan and vise-versa.\n",
    "\n",
    "\n",
    "* We will use ML algorithms: **KNN, Decision Tree, SVM, Logistic Regression.**\n",
    "\n",
    "\n",
    "* We will. use evaluation metrics: **Jaccard Index, F1-Score, Log-Loss, Confusion Matrix**"
   ]
  },
  {
   "cell_type": "code",
   "execution_count": 428,
   "id": "ca06196f",
   "metadata": {},
   "outputs": [],
   "source": [
    "import pandas as pd\n",
    "import numpy as np\n",
    "import plotly.express as px\n",
    "import matplotlib.pyplot as plt\n",
    "%matplotlib inline"
   ]
  },
  {
   "cell_type": "code",
   "execution_count": 429,
   "id": "1e730887",
   "metadata": {},
   "outputs": [],
   "source": [
    "path = 'https://cf-courses-data.s3.us.cloud-object-storage.appdomain.cloud/IBMDeveloperSkillsNetwork-ML0101EN-SkillsNetwork/labs/FinalModule_Coursera/data/loan_train.csv'\n",
    "df = pd.read_csv(path)"
   ]
  },
  {
   "cell_type": "code",
   "execution_count": 430,
   "id": "10f8d442",
   "metadata": {},
   "outputs": [
    {
     "data": {
      "text/html": [
       "<div>\n",
       "<style scoped>\n",
       "    .dataframe tbody tr th:only-of-type {\n",
       "        vertical-align: middle;\n",
       "    }\n",
       "\n",
       "    .dataframe tbody tr th {\n",
       "        vertical-align: top;\n",
       "    }\n",
       "\n",
       "    .dataframe thead th {\n",
       "        text-align: right;\n",
       "    }\n",
       "</style>\n",
       "<table border=\"1\" class=\"dataframe\">\n",
       "  <thead>\n",
       "    <tr style=\"text-align: right;\">\n",
       "      <th></th>\n",
       "      <th>Unnamed: 0.1</th>\n",
       "      <th>Unnamed: 0</th>\n",
       "      <th>loan_status</th>\n",
       "      <th>Principal</th>\n",
       "      <th>terms</th>\n",
       "      <th>effective_date</th>\n",
       "      <th>due_date</th>\n",
       "      <th>age</th>\n",
       "      <th>education</th>\n",
       "      <th>Gender</th>\n",
       "    </tr>\n",
       "  </thead>\n",
       "  <tbody>\n",
       "    <tr>\n",
       "      <th>0</th>\n",
       "      <td>0</td>\n",
       "      <td>0</td>\n",
       "      <td>PAIDOFF</td>\n",
       "      <td>1000</td>\n",
       "      <td>30</td>\n",
       "      <td>9/8/2016</td>\n",
       "      <td>10/7/2016</td>\n",
       "      <td>45</td>\n",
       "      <td>High School or Below</td>\n",
       "      <td>male</td>\n",
       "    </tr>\n",
       "    <tr>\n",
       "      <th>1</th>\n",
       "      <td>2</td>\n",
       "      <td>2</td>\n",
       "      <td>PAIDOFF</td>\n",
       "      <td>1000</td>\n",
       "      <td>30</td>\n",
       "      <td>9/8/2016</td>\n",
       "      <td>10/7/2016</td>\n",
       "      <td>33</td>\n",
       "      <td>Bechalor</td>\n",
       "      <td>female</td>\n",
       "    </tr>\n",
       "    <tr>\n",
       "      <th>2</th>\n",
       "      <td>3</td>\n",
       "      <td>3</td>\n",
       "      <td>PAIDOFF</td>\n",
       "      <td>1000</td>\n",
       "      <td>15</td>\n",
       "      <td>9/8/2016</td>\n",
       "      <td>9/22/2016</td>\n",
       "      <td>27</td>\n",
       "      <td>college</td>\n",
       "      <td>male</td>\n",
       "    </tr>\n",
       "    <tr>\n",
       "      <th>3</th>\n",
       "      <td>4</td>\n",
       "      <td>4</td>\n",
       "      <td>PAIDOFF</td>\n",
       "      <td>1000</td>\n",
       "      <td>30</td>\n",
       "      <td>9/9/2016</td>\n",
       "      <td>10/8/2016</td>\n",
       "      <td>28</td>\n",
       "      <td>college</td>\n",
       "      <td>female</td>\n",
       "    </tr>\n",
       "    <tr>\n",
       "      <th>4</th>\n",
       "      <td>6</td>\n",
       "      <td>6</td>\n",
       "      <td>PAIDOFF</td>\n",
       "      <td>1000</td>\n",
       "      <td>30</td>\n",
       "      <td>9/9/2016</td>\n",
       "      <td>10/8/2016</td>\n",
       "      <td>29</td>\n",
       "      <td>college</td>\n",
       "      <td>male</td>\n",
       "    </tr>\n",
       "  </tbody>\n",
       "</table>\n",
       "</div>"
      ],
      "text/plain": [
       "   Unnamed: 0.1  Unnamed: 0 loan_status  Principal  terms effective_date  \\\n",
       "0             0           0     PAIDOFF       1000     30       9/8/2016   \n",
       "1             2           2     PAIDOFF       1000     30       9/8/2016   \n",
       "2             3           3     PAIDOFF       1000     15       9/8/2016   \n",
       "3             4           4     PAIDOFF       1000     30       9/9/2016   \n",
       "4             6           6     PAIDOFF       1000     30       9/9/2016   \n",
       "\n",
       "    due_date  age             education  Gender  \n",
       "0  10/7/2016   45  High School or Below    male  \n",
       "1  10/7/2016   33              Bechalor  female  \n",
       "2  9/22/2016   27               college    male  \n",
       "3  10/8/2016   28               college  female  \n",
       "4  10/8/2016   29               college    male  "
      ]
     },
     "execution_count": 430,
     "metadata": {},
     "output_type": "execute_result"
    }
   ],
   "source": [
    "df.head()"
   ]
  },
  {
   "cell_type": "code",
   "execution_count": 431,
   "id": "58d1c546",
   "metadata": {},
   "outputs": [
    {
     "name": "stdout",
     "output_type": "stream",
     "text": [
      "Count of unique Loan Status values:\n",
      "\n",
      "PAIDOFF       260\n",
      "COLLECTION     86\n",
      "Name: loan_status, dtype: int64\n"
     ]
    }
   ],
   "source": [
    "print(f\"Count of unique Loan Status values:\\n\\n{df['loan_status'].value_counts()}\")"
   ]
  },
  {
   "cell_type": "code",
   "execution_count": 432,
   "id": "21f15710",
   "metadata": {},
   "outputs": [
    {
     "data": {
      "text/plain": [
       "loan_status       object\n",
       "Principal          int64\n",
       "terms              int64\n",
       "effective_date    object\n",
       "due_date          object\n",
       "age                int64\n",
       "education         object\n",
       "Gender            object\n",
       "dtype: object"
      ]
     },
     "execution_count": 432,
     "metadata": {},
     "output_type": "execute_result"
    }
   ],
   "source": [
    "df = df.drop(labels = ['Unnamed: 0.1', 'Unnamed: 0'], axis = 1)\n",
    "\n",
    "# dfTree will a variable used later, while testing the accuracy of your Decision Tree \n",
    "dfTree = df\n",
    "\n",
    "df.dtypes"
   ]
  },
  {
   "cell_type": "code",
   "execution_count": 433,
   "id": "5b158f30",
   "metadata": {},
   "outputs": [],
   "source": [
    "dfTree.head()\n",
    "dfTree = dfTree.drop(['effective_date', 'due_date'], axis = 1)"
   ]
  },
  {
   "cell_type": "code",
   "execution_count": 434,
   "id": "011e1b71",
   "metadata": {},
   "outputs": [
    {
     "data": {
      "application/vnd.plotly.v1+json": {
       "config": {
        "plotlyServerURL": "https://plot.ly"
       },
       "data": [
        {
         "alignmentgroup": "True",
         "bingroup": "x",
         "hovertemplate": "terms=30<br>loan_status=%{x}<br>count=%{y}<extra></extra>",
         "legendgroup": "30",
         "marker": {
          "color": "#636efa",
          "pattern": {
           "shape": ""
          }
         },
         "name": "30",
         "offsetgroup": "30",
         "orientation": "v",
         "showlegend": true,
         "type": "histogram",
         "x": [
          "PAIDOFF",
          "PAIDOFF",
          "PAIDOFF",
          "PAIDOFF",
          "PAIDOFF",
          "PAIDOFF",
          "PAIDOFF",
          "PAIDOFF",
          "PAIDOFF",
          "PAIDOFF",
          "PAIDOFF",
          "PAIDOFF",
          "PAIDOFF",
          "PAIDOFF",
          "PAIDOFF",
          "PAIDOFF",
          "PAIDOFF",
          "PAIDOFF",
          "PAIDOFF",
          "PAIDOFF",
          "PAIDOFF",
          "PAIDOFF",
          "PAIDOFF",
          "PAIDOFF",
          "PAIDOFF",
          "PAIDOFF",
          "PAIDOFF",
          "PAIDOFF",
          "PAIDOFF",
          "PAIDOFF",
          "PAIDOFF",
          "PAIDOFF",
          "PAIDOFF",
          "PAIDOFF",
          "PAIDOFF",
          "PAIDOFF",
          "PAIDOFF",
          "PAIDOFF",
          "PAIDOFF",
          "PAIDOFF",
          "PAIDOFF",
          "PAIDOFF",
          "PAIDOFF",
          "PAIDOFF",
          "PAIDOFF",
          "PAIDOFF",
          "PAIDOFF",
          "PAIDOFF",
          "PAIDOFF",
          "PAIDOFF",
          "PAIDOFF",
          "PAIDOFF",
          "PAIDOFF",
          "PAIDOFF",
          "PAIDOFF",
          "PAIDOFF",
          "PAIDOFF",
          "PAIDOFF",
          "PAIDOFF",
          "PAIDOFF",
          "PAIDOFF",
          "PAIDOFF",
          "PAIDOFF",
          "PAIDOFF",
          "PAIDOFF",
          "PAIDOFF",
          "PAIDOFF",
          "PAIDOFF",
          "PAIDOFF",
          "PAIDOFF",
          "PAIDOFF",
          "PAIDOFF",
          "PAIDOFF",
          "PAIDOFF",
          "PAIDOFF",
          "PAIDOFF",
          "PAIDOFF",
          "PAIDOFF",
          "PAIDOFF",
          "PAIDOFF",
          "PAIDOFF",
          "PAIDOFF",
          "PAIDOFF",
          "PAIDOFF",
          "PAIDOFF",
          "PAIDOFF",
          "PAIDOFF",
          "PAIDOFF",
          "PAIDOFF",
          "PAIDOFF",
          "PAIDOFF",
          "PAIDOFF",
          "PAIDOFF",
          "PAIDOFF",
          "PAIDOFF",
          "PAIDOFF",
          "PAIDOFF",
          "PAIDOFF",
          "PAIDOFF",
          "PAIDOFF",
          "PAIDOFF",
          "PAIDOFF",
          "PAIDOFF",
          "PAIDOFF",
          "PAIDOFF",
          "PAIDOFF",
          "PAIDOFF",
          "PAIDOFF",
          "PAIDOFF",
          "PAIDOFF",
          "PAIDOFF",
          "PAIDOFF",
          "PAIDOFF",
          "PAIDOFF",
          "PAIDOFF",
          "PAIDOFF",
          "PAIDOFF",
          "PAIDOFF",
          "PAIDOFF",
          "PAIDOFF",
          "PAIDOFF",
          "PAIDOFF",
          "PAIDOFF",
          "PAIDOFF",
          "PAIDOFF",
          "PAIDOFF",
          "PAIDOFF",
          "PAIDOFF",
          "PAIDOFF",
          "PAIDOFF",
          "PAIDOFF",
          "PAIDOFF",
          "COLLECTION",
          "COLLECTION",
          "COLLECTION",
          "COLLECTION",
          "COLLECTION",
          "COLLECTION",
          "COLLECTION",
          "COLLECTION",
          "COLLECTION",
          "COLLECTION",
          "COLLECTION",
          "COLLECTION",
          "COLLECTION",
          "COLLECTION",
          "COLLECTION",
          "COLLECTION",
          "COLLECTION",
          "COLLECTION",
          "COLLECTION",
          "COLLECTION",
          "COLLECTION",
          "COLLECTION",
          "COLLECTION",
          "COLLECTION",
          "COLLECTION",
          "COLLECTION",
          "COLLECTION",
          "COLLECTION",
          "COLLECTION",
          "COLLECTION",
          "COLLECTION",
          "COLLECTION",
          "COLLECTION",
          "COLLECTION",
          "COLLECTION",
          "COLLECTION",
          "COLLECTION",
          "COLLECTION",
          "COLLECTION",
          "COLLECTION",
          "COLLECTION",
          "COLLECTION",
          "COLLECTION",
          "COLLECTION",
          "COLLECTION",
          "COLLECTION",
          "COLLECTION",
          "COLLECTION",
          "COLLECTION",
          "COLLECTION",
          "COLLECTION",
          "COLLECTION"
         ],
         "xaxis": "x",
         "yaxis": "y"
        },
        {
         "alignmentgroup": "True",
         "bingroup": "x",
         "hovertemplate": "terms=15<br>loan_status=%{x}<br>count=%{y}<extra></extra>",
         "legendgroup": "15",
         "marker": {
          "color": "#EF553B",
          "pattern": {
           "shape": ""
          }
         },
         "name": "15",
         "offsetgroup": "15",
         "orientation": "v",
         "showlegend": true,
         "type": "histogram",
         "x": [
          "PAIDOFF",
          "PAIDOFF",
          "PAIDOFF",
          "PAIDOFF",
          "PAIDOFF",
          "PAIDOFF",
          "PAIDOFF",
          "PAIDOFF",
          "PAIDOFF",
          "PAIDOFF",
          "PAIDOFF",
          "PAIDOFF",
          "PAIDOFF",
          "PAIDOFF",
          "PAIDOFF",
          "PAIDOFF",
          "PAIDOFF",
          "PAIDOFF",
          "PAIDOFF",
          "PAIDOFF",
          "PAIDOFF",
          "PAIDOFF",
          "PAIDOFF",
          "PAIDOFF",
          "PAIDOFF",
          "PAIDOFF",
          "PAIDOFF",
          "PAIDOFF",
          "PAIDOFF",
          "PAIDOFF",
          "PAIDOFF",
          "PAIDOFF",
          "PAIDOFF",
          "PAIDOFF",
          "PAIDOFF",
          "PAIDOFF",
          "PAIDOFF",
          "PAIDOFF",
          "PAIDOFF",
          "PAIDOFF",
          "PAIDOFF",
          "PAIDOFF",
          "PAIDOFF",
          "PAIDOFF",
          "PAIDOFF",
          "PAIDOFF",
          "PAIDOFF",
          "PAIDOFF",
          "PAIDOFF",
          "PAIDOFF",
          "PAIDOFF",
          "PAIDOFF",
          "PAIDOFF",
          "PAIDOFF",
          "PAIDOFF",
          "PAIDOFF",
          "PAIDOFF",
          "PAIDOFF",
          "PAIDOFF",
          "PAIDOFF",
          "PAIDOFF",
          "PAIDOFF",
          "PAIDOFF",
          "PAIDOFF",
          "PAIDOFF",
          "PAIDOFF",
          "PAIDOFF",
          "PAIDOFF",
          "PAIDOFF",
          "PAIDOFF",
          "PAIDOFF",
          "PAIDOFF",
          "PAIDOFF",
          "PAIDOFF",
          "PAIDOFF",
          "PAIDOFF",
          "PAIDOFF",
          "PAIDOFF",
          "PAIDOFF",
          "PAIDOFF",
          "PAIDOFF",
          "PAIDOFF",
          "PAIDOFF",
          "PAIDOFF",
          "PAIDOFF",
          "PAIDOFF",
          "PAIDOFF",
          "PAIDOFF",
          "PAIDOFF",
          "PAIDOFF",
          "PAIDOFF",
          "PAIDOFF",
          "PAIDOFF",
          "PAIDOFF",
          "PAIDOFF",
          "PAIDOFF",
          "PAIDOFF",
          "PAIDOFF",
          "PAIDOFF",
          "PAIDOFF",
          "PAIDOFF",
          "PAIDOFF",
          "PAIDOFF",
          "PAIDOFF",
          "PAIDOFF",
          "PAIDOFF",
          "PAIDOFF",
          "PAIDOFF",
          "PAIDOFF",
          "PAIDOFF",
          "PAIDOFF",
          "PAIDOFF",
          "PAIDOFF",
          "PAIDOFF",
          "COLLECTION",
          "COLLECTION",
          "COLLECTION",
          "COLLECTION",
          "COLLECTION",
          "COLLECTION",
          "COLLECTION",
          "COLLECTION",
          "COLLECTION",
          "COLLECTION",
          "COLLECTION",
          "COLLECTION",
          "COLLECTION",
          "COLLECTION",
          "COLLECTION",
          "COLLECTION",
          "COLLECTION",
          "COLLECTION",
          "COLLECTION",
          "COLLECTION",
          "COLLECTION",
          "COLLECTION",
          "COLLECTION",
          "COLLECTION",
          "COLLECTION",
          "COLLECTION",
          "COLLECTION",
          "COLLECTION",
          "COLLECTION",
          "COLLECTION",
          "COLLECTION",
          "COLLECTION",
          "COLLECTION",
          "COLLECTION"
         ],
         "xaxis": "x",
         "yaxis": "y"
        },
        {
         "alignmentgroup": "True",
         "bingroup": "x",
         "hovertemplate": "terms=7<br>loan_status=%{x}<br>count=%{y}<extra></extra>",
         "legendgroup": "7",
         "marker": {
          "color": "#00cc96",
          "pattern": {
           "shape": ""
          }
         },
         "name": "7",
         "offsetgroup": "7",
         "orientation": "v",
         "showlegend": true,
         "type": "histogram",
         "x": [
          "PAIDOFF",
          "PAIDOFF",
          "PAIDOFF",
          "PAIDOFF",
          "PAIDOFF",
          "PAIDOFF",
          "PAIDOFF",
          "PAIDOFF",
          "PAIDOFF",
          "PAIDOFF",
          "PAIDOFF",
          "PAIDOFF",
          "PAIDOFF",
          "PAIDOFF"
         ],
         "xaxis": "x",
         "yaxis": "y"
        }
       ],
       "layout": {
        "barmode": "relative",
        "legend": {
         "title": {
          "text": "terms"
         },
         "tracegroupgap": 0
        },
        "margin": {
         "t": 60
        },
        "template": {
         "data": {
          "bar": [
           {
            "error_x": {
             "color": "#2a3f5f"
            },
            "error_y": {
             "color": "#2a3f5f"
            },
            "marker": {
             "line": {
              "color": "#E5ECF6",
              "width": 0.5
             },
             "pattern": {
              "fillmode": "overlay",
              "size": 10,
              "solidity": 0.2
             }
            },
            "type": "bar"
           }
          ],
          "barpolar": [
           {
            "marker": {
             "line": {
              "color": "#E5ECF6",
              "width": 0.5
             },
             "pattern": {
              "fillmode": "overlay",
              "size": 10,
              "solidity": 0.2
             }
            },
            "type": "barpolar"
           }
          ],
          "carpet": [
           {
            "aaxis": {
             "endlinecolor": "#2a3f5f",
             "gridcolor": "white",
             "linecolor": "white",
             "minorgridcolor": "white",
             "startlinecolor": "#2a3f5f"
            },
            "baxis": {
             "endlinecolor": "#2a3f5f",
             "gridcolor": "white",
             "linecolor": "white",
             "minorgridcolor": "white",
             "startlinecolor": "#2a3f5f"
            },
            "type": "carpet"
           }
          ],
          "choropleth": [
           {
            "colorbar": {
             "outlinewidth": 0,
             "ticks": ""
            },
            "type": "choropleth"
           }
          ],
          "contour": [
           {
            "colorbar": {
             "outlinewidth": 0,
             "ticks": ""
            },
            "colorscale": [
             [
              0,
              "#0d0887"
             ],
             [
              0.1111111111111111,
              "#46039f"
             ],
             [
              0.2222222222222222,
              "#7201a8"
             ],
             [
              0.3333333333333333,
              "#9c179e"
             ],
             [
              0.4444444444444444,
              "#bd3786"
             ],
             [
              0.5555555555555556,
              "#d8576b"
             ],
             [
              0.6666666666666666,
              "#ed7953"
             ],
             [
              0.7777777777777778,
              "#fb9f3a"
             ],
             [
              0.8888888888888888,
              "#fdca26"
             ],
             [
              1,
              "#f0f921"
             ]
            ],
            "type": "contour"
           }
          ],
          "contourcarpet": [
           {
            "colorbar": {
             "outlinewidth": 0,
             "ticks": ""
            },
            "type": "contourcarpet"
           }
          ],
          "heatmap": [
           {
            "colorbar": {
             "outlinewidth": 0,
             "ticks": ""
            },
            "colorscale": [
             [
              0,
              "#0d0887"
             ],
             [
              0.1111111111111111,
              "#46039f"
             ],
             [
              0.2222222222222222,
              "#7201a8"
             ],
             [
              0.3333333333333333,
              "#9c179e"
             ],
             [
              0.4444444444444444,
              "#bd3786"
             ],
             [
              0.5555555555555556,
              "#d8576b"
             ],
             [
              0.6666666666666666,
              "#ed7953"
             ],
             [
              0.7777777777777778,
              "#fb9f3a"
             ],
             [
              0.8888888888888888,
              "#fdca26"
             ],
             [
              1,
              "#f0f921"
             ]
            ],
            "type": "heatmap"
           }
          ],
          "heatmapgl": [
           {
            "colorbar": {
             "outlinewidth": 0,
             "ticks": ""
            },
            "colorscale": [
             [
              0,
              "#0d0887"
             ],
             [
              0.1111111111111111,
              "#46039f"
             ],
             [
              0.2222222222222222,
              "#7201a8"
             ],
             [
              0.3333333333333333,
              "#9c179e"
             ],
             [
              0.4444444444444444,
              "#bd3786"
             ],
             [
              0.5555555555555556,
              "#d8576b"
             ],
             [
              0.6666666666666666,
              "#ed7953"
             ],
             [
              0.7777777777777778,
              "#fb9f3a"
             ],
             [
              0.8888888888888888,
              "#fdca26"
             ],
             [
              1,
              "#f0f921"
             ]
            ],
            "type": "heatmapgl"
           }
          ],
          "histogram": [
           {
            "marker": {
             "pattern": {
              "fillmode": "overlay",
              "size": 10,
              "solidity": 0.2
             }
            },
            "type": "histogram"
           }
          ],
          "histogram2d": [
           {
            "colorbar": {
             "outlinewidth": 0,
             "ticks": ""
            },
            "colorscale": [
             [
              0,
              "#0d0887"
             ],
             [
              0.1111111111111111,
              "#46039f"
             ],
             [
              0.2222222222222222,
              "#7201a8"
             ],
             [
              0.3333333333333333,
              "#9c179e"
             ],
             [
              0.4444444444444444,
              "#bd3786"
             ],
             [
              0.5555555555555556,
              "#d8576b"
             ],
             [
              0.6666666666666666,
              "#ed7953"
             ],
             [
              0.7777777777777778,
              "#fb9f3a"
             ],
             [
              0.8888888888888888,
              "#fdca26"
             ],
             [
              1,
              "#f0f921"
             ]
            ],
            "type": "histogram2d"
           }
          ],
          "histogram2dcontour": [
           {
            "colorbar": {
             "outlinewidth": 0,
             "ticks": ""
            },
            "colorscale": [
             [
              0,
              "#0d0887"
             ],
             [
              0.1111111111111111,
              "#46039f"
             ],
             [
              0.2222222222222222,
              "#7201a8"
             ],
             [
              0.3333333333333333,
              "#9c179e"
             ],
             [
              0.4444444444444444,
              "#bd3786"
             ],
             [
              0.5555555555555556,
              "#d8576b"
             ],
             [
              0.6666666666666666,
              "#ed7953"
             ],
             [
              0.7777777777777778,
              "#fb9f3a"
             ],
             [
              0.8888888888888888,
              "#fdca26"
             ],
             [
              1,
              "#f0f921"
             ]
            ],
            "type": "histogram2dcontour"
           }
          ],
          "mesh3d": [
           {
            "colorbar": {
             "outlinewidth": 0,
             "ticks": ""
            },
            "type": "mesh3d"
           }
          ],
          "parcoords": [
           {
            "line": {
             "colorbar": {
              "outlinewidth": 0,
              "ticks": ""
             }
            },
            "type": "parcoords"
           }
          ],
          "pie": [
           {
            "automargin": true,
            "type": "pie"
           }
          ],
          "scatter": [
           {
            "fillpattern": {
             "fillmode": "overlay",
             "size": 10,
             "solidity": 0.2
            },
            "type": "scatter"
           }
          ],
          "scatter3d": [
           {
            "line": {
             "colorbar": {
              "outlinewidth": 0,
              "ticks": ""
             }
            },
            "marker": {
             "colorbar": {
              "outlinewidth": 0,
              "ticks": ""
             }
            },
            "type": "scatter3d"
           }
          ],
          "scattercarpet": [
           {
            "marker": {
             "colorbar": {
              "outlinewidth": 0,
              "ticks": ""
             }
            },
            "type": "scattercarpet"
           }
          ],
          "scattergeo": [
           {
            "marker": {
             "colorbar": {
              "outlinewidth": 0,
              "ticks": ""
             }
            },
            "type": "scattergeo"
           }
          ],
          "scattergl": [
           {
            "marker": {
             "colorbar": {
              "outlinewidth": 0,
              "ticks": ""
             }
            },
            "type": "scattergl"
           }
          ],
          "scattermapbox": [
           {
            "marker": {
             "colorbar": {
              "outlinewidth": 0,
              "ticks": ""
             }
            },
            "type": "scattermapbox"
           }
          ],
          "scatterpolar": [
           {
            "marker": {
             "colorbar": {
              "outlinewidth": 0,
              "ticks": ""
             }
            },
            "type": "scatterpolar"
           }
          ],
          "scatterpolargl": [
           {
            "marker": {
             "colorbar": {
              "outlinewidth": 0,
              "ticks": ""
             }
            },
            "type": "scatterpolargl"
           }
          ],
          "scatterternary": [
           {
            "marker": {
             "colorbar": {
              "outlinewidth": 0,
              "ticks": ""
             }
            },
            "type": "scatterternary"
           }
          ],
          "surface": [
           {
            "colorbar": {
             "outlinewidth": 0,
             "ticks": ""
            },
            "colorscale": [
             [
              0,
              "#0d0887"
             ],
             [
              0.1111111111111111,
              "#46039f"
             ],
             [
              0.2222222222222222,
              "#7201a8"
             ],
             [
              0.3333333333333333,
              "#9c179e"
             ],
             [
              0.4444444444444444,
              "#bd3786"
             ],
             [
              0.5555555555555556,
              "#d8576b"
             ],
             [
              0.6666666666666666,
              "#ed7953"
             ],
             [
              0.7777777777777778,
              "#fb9f3a"
             ],
             [
              0.8888888888888888,
              "#fdca26"
             ],
             [
              1,
              "#f0f921"
             ]
            ],
            "type": "surface"
           }
          ],
          "table": [
           {
            "cells": {
             "fill": {
              "color": "#EBF0F8"
             },
             "line": {
              "color": "white"
             }
            },
            "header": {
             "fill": {
              "color": "#C8D4E3"
             },
             "line": {
              "color": "white"
             }
            },
            "type": "table"
           }
          ]
         },
         "layout": {
          "annotationdefaults": {
           "arrowcolor": "#2a3f5f",
           "arrowhead": 0,
           "arrowwidth": 1
          },
          "autotypenumbers": "strict",
          "coloraxis": {
           "colorbar": {
            "outlinewidth": 0,
            "ticks": ""
           }
          },
          "colorscale": {
           "diverging": [
            [
             0,
             "#8e0152"
            ],
            [
             0.1,
             "#c51b7d"
            ],
            [
             0.2,
             "#de77ae"
            ],
            [
             0.3,
             "#f1b6da"
            ],
            [
             0.4,
             "#fde0ef"
            ],
            [
             0.5,
             "#f7f7f7"
            ],
            [
             0.6,
             "#e6f5d0"
            ],
            [
             0.7,
             "#b8e186"
            ],
            [
             0.8,
             "#7fbc41"
            ],
            [
             0.9,
             "#4d9221"
            ],
            [
             1,
             "#276419"
            ]
           ],
           "sequential": [
            [
             0,
             "#0d0887"
            ],
            [
             0.1111111111111111,
             "#46039f"
            ],
            [
             0.2222222222222222,
             "#7201a8"
            ],
            [
             0.3333333333333333,
             "#9c179e"
            ],
            [
             0.4444444444444444,
             "#bd3786"
            ],
            [
             0.5555555555555556,
             "#d8576b"
            ],
            [
             0.6666666666666666,
             "#ed7953"
            ],
            [
             0.7777777777777778,
             "#fb9f3a"
            ],
            [
             0.8888888888888888,
             "#fdca26"
            ],
            [
             1,
             "#f0f921"
            ]
           ],
           "sequentialminus": [
            [
             0,
             "#0d0887"
            ],
            [
             0.1111111111111111,
             "#46039f"
            ],
            [
             0.2222222222222222,
             "#7201a8"
            ],
            [
             0.3333333333333333,
             "#9c179e"
            ],
            [
             0.4444444444444444,
             "#bd3786"
            ],
            [
             0.5555555555555556,
             "#d8576b"
            ],
            [
             0.6666666666666666,
             "#ed7953"
            ],
            [
             0.7777777777777778,
             "#fb9f3a"
            ],
            [
             0.8888888888888888,
             "#fdca26"
            ],
            [
             1,
             "#f0f921"
            ]
           ]
          },
          "colorway": [
           "#636efa",
           "#EF553B",
           "#00cc96",
           "#ab63fa",
           "#FFA15A",
           "#19d3f3",
           "#FF6692",
           "#B6E880",
           "#FF97FF",
           "#FECB52"
          ],
          "font": {
           "color": "#2a3f5f"
          },
          "geo": {
           "bgcolor": "white",
           "lakecolor": "white",
           "landcolor": "#E5ECF6",
           "showlakes": true,
           "showland": true,
           "subunitcolor": "white"
          },
          "hoverlabel": {
           "align": "left"
          },
          "hovermode": "closest",
          "mapbox": {
           "style": "light"
          },
          "paper_bgcolor": "white",
          "plot_bgcolor": "#E5ECF6",
          "polar": {
           "angularaxis": {
            "gridcolor": "white",
            "linecolor": "white",
            "ticks": ""
           },
           "bgcolor": "#E5ECF6",
           "radialaxis": {
            "gridcolor": "white",
            "linecolor": "white",
            "ticks": ""
           }
          },
          "scene": {
           "xaxis": {
            "backgroundcolor": "#E5ECF6",
            "gridcolor": "white",
            "gridwidth": 2,
            "linecolor": "white",
            "showbackground": true,
            "ticks": "",
            "zerolinecolor": "white"
           },
           "yaxis": {
            "backgroundcolor": "#E5ECF6",
            "gridcolor": "white",
            "gridwidth": 2,
            "linecolor": "white",
            "showbackground": true,
            "ticks": "",
            "zerolinecolor": "white"
           },
           "zaxis": {
            "backgroundcolor": "#E5ECF6",
            "gridcolor": "white",
            "gridwidth": 2,
            "linecolor": "white",
            "showbackground": true,
            "ticks": "",
            "zerolinecolor": "white"
           }
          },
          "shapedefaults": {
           "line": {
            "color": "#2a3f5f"
           }
          },
          "ternary": {
           "aaxis": {
            "gridcolor": "white",
            "linecolor": "white",
            "ticks": ""
           },
           "baxis": {
            "gridcolor": "white",
            "linecolor": "white",
            "ticks": ""
           },
           "bgcolor": "#E5ECF6",
           "caxis": {
            "gridcolor": "white",
            "linecolor": "white",
            "ticks": ""
           }
          },
          "title": {
           "x": 0.05
          },
          "xaxis": {
           "automargin": true,
           "gridcolor": "white",
           "linecolor": "white",
           "ticks": "",
           "title": {
            "standoff": 15
           },
           "zerolinecolor": "white",
           "zerolinewidth": 2
          },
          "yaxis": {
           "automargin": true,
           "gridcolor": "white",
           "linecolor": "white",
           "ticks": "",
           "title": {
            "standoff": 15
           },
           "zerolinecolor": "white",
           "zerolinewidth": 2
          }
         }
        },
        "xaxis": {
         "anchor": "y",
         "domain": [
          0,
          1
         ],
         "title": {
          "text": "loan_status"
         }
        },
        "yaxis": {
         "anchor": "x",
         "domain": [
          0,
          1
         ],
         "title": {
          "text": "count"
         }
        }
       }
      },
      "text/html": [
       "<div>                            <div id=\"40312d6d-00d4-46bc-81ae-1ff45ea29273\" class=\"plotly-graph-div\" style=\"height:525px; width:100%;\"></div>            <script type=\"text/javascript\">                require([\"plotly\"], function(Plotly) {                    window.PLOTLYENV=window.PLOTLYENV || {};                                    if (document.getElementById(\"40312d6d-00d4-46bc-81ae-1ff45ea29273\")) {                    Plotly.newPlot(                        \"40312d6d-00d4-46bc-81ae-1ff45ea29273\",                        [{\"alignmentgroup\":\"True\",\"bingroup\":\"x\",\"hovertemplate\":\"terms=30<br>loan_status=%{x}<br>count=%{y}<extra></extra>\",\"legendgroup\":\"30\",\"marker\":{\"color\":\"#636efa\",\"pattern\":{\"shape\":\"\"}},\"name\":\"30\",\"offsetgroup\":\"30\",\"orientation\":\"v\",\"showlegend\":true,\"x\":[\"PAIDOFF\",\"PAIDOFF\",\"PAIDOFF\",\"PAIDOFF\",\"PAIDOFF\",\"PAIDOFF\",\"PAIDOFF\",\"PAIDOFF\",\"PAIDOFF\",\"PAIDOFF\",\"PAIDOFF\",\"PAIDOFF\",\"PAIDOFF\",\"PAIDOFF\",\"PAIDOFF\",\"PAIDOFF\",\"PAIDOFF\",\"PAIDOFF\",\"PAIDOFF\",\"PAIDOFF\",\"PAIDOFF\",\"PAIDOFF\",\"PAIDOFF\",\"PAIDOFF\",\"PAIDOFF\",\"PAIDOFF\",\"PAIDOFF\",\"PAIDOFF\",\"PAIDOFF\",\"PAIDOFF\",\"PAIDOFF\",\"PAIDOFF\",\"PAIDOFF\",\"PAIDOFF\",\"PAIDOFF\",\"PAIDOFF\",\"PAIDOFF\",\"PAIDOFF\",\"PAIDOFF\",\"PAIDOFF\",\"PAIDOFF\",\"PAIDOFF\",\"PAIDOFF\",\"PAIDOFF\",\"PAIDOFF\",\"PAIDOFF\",\"PAIDOFF\",\"PAIDOFF\",\"PAIDOFF\",\"PAIDOFF\",\"PAIDOFF\",\"PAIDOFF\",\"PAIDOFF\",\"PAIDOFF\",\"PAIDOFF\",\"PAIDOFF\",\"PAIDOFF\",\"PAIDOFF\",\"PAIDOFF\",\"PAIDOFF\",\"PAIDOFF\",\"PAIDOFF\",\"PAIDOFF\",\"PAIDOFF\",\"PAIDOFF\",\"PAIDOFF\",\"PAIDOFF\",\"PAIDOFF\",\"PAIDOFF\",\"PAIDOFF\",\"PAIDOFF\",\"PAIDOFF\",\"PAIDOFF\",\"PAIDOFF\",\"PAIDOFF\",\"PAIDOFF\",\"PAIDOFF\",\"PAIDOFF\",\"PAIDOFF\",\"PAIDOFF\",\"PAIDOFF\",\"PAIDOFF\",\"PAIDOFF\",\"PAIDOFF\",\"PAIDOFF\",\"PAIDOFF\",\"PAIDOFF\",\"PAIDOFF\",\"PAIDOFF\",\"PAIDOFF\",\"PAIDOFF\",\"PAIDOFF\",\"PAIDOFF\",\"PAIDOFF\",\"PAIDOFF\",\"PAIDOFF\",\"PAIDOFF\",\"PAIDOFF\",\"PAIDOFF\",\"PAIDOFF\",\"PAIDOFF\",\"PAIDOFF\",\"PAIDOFF\",\"PAIDOFF\",\"PAIDOFF\",\"PAIDOFF\",\"PAIDOFF\",\"PAIDOFF\",\"PAIDOFF\",\"PAIDOFF\",\"PAIDOFF\",\"PAIDOFF\",\"PAIDOFF\",\"PAIDOFF\",\"PAIDOFF\",\"PAIDOFF\",\"PAIDOFF\",\"PAIDOFF\",\"PAIDOFF\",\"PAIDOFF\",\"PAIDOFF\",\"PAIDOFF\",\"PAIDOFF\",\"PAIDOFF\",\"PAIDOFF\",\"PAIDOFF\",\"PAIDOFF\",\"PAIDOFF\",\"PAIDOFF\",\"PAIDOFF\",\"PAIDOFF\",\"PAIDOFF\",\"COLLECTION\",\"COLLECTION\",\"COLLECTION\",\"COLLECTION\",\"COLLECTION\",\"COLLECTION\",\"COLLECTION\",\"COLLECTION\",\"COLLECTION\",\"COLLECTION\",\"COLLECTION\",\"COLLECTION\",\"COLLECTION\",\"COLLECTION\",\"COLLECTION\",\"COLLECTION\",\"COLLECTION\",\"COLLECTION\",\"COLLECTION\",\"COLLECTION\",\"COLLECTION\",\"COLLECTION\",\"COLLECTION\",\"COLLECTION\",\"COLLECTION\",\"COLLECTION\",\"COLLECTION\",\"COLLECTION\",\"COLLECTION\",\"COLLECTION\",\"COLLECTION\",\"COLLECTION\",\"COLLECTION\",\"COLLECTION\",\"COLLECTION\",\"COLLECTION\",\"COLLECTION\",\"COLLECTION\",\"COLLECTION\",\"COLLECTION\",\"COLLECTION\",\"COLLECTION\",\"COLLECTION\",\"COLLECTION\",\"COLLECTION\",\"COLLECTION\",\"COLLECTION\",\"COLLECTION\",\"COLLECTION\",\"COLLECTION\",\"COLLECTION\",\"COLLECTION\"],\"xaxis\":\"x\",\"yaxis\":\"y\",\"type\":\"histogram\"},{\"alignmentgroup\":\"True\",\"bingroup\":\"x\",\"hovertemplate\":\"terms=15<br>loan_status=%{x}<br>count=%{y}<extra></extra>\",\"legendgroup\":\"15\",\"marker\":{\"color\":\"#EF553B\",\"pattern\":{\"shape\":\"\"}},\"name\":\"15\",\"offsetgroup\":\"15\",\"orientation\":\"v\",\"showlegend\":true,\"x\":[\"PAIDOFF\",\"PAIDOFF\",\"PAIDOFF\",\"PAIDOFF\",\"PAIDOFF\",\"PAIDOFF\",\"PAIDOFF\",\"PAIDOFF\",\"PAIDOFF\",\"PAIDOFF\",\"PAIDOFF\",\"PAIDOFF\",\"PAIDOFF\",\"PAIDOFF\",\"PAIDOFF\",\"PAIDOFF\",\"PAIDOFF\",\"PAIDOFF\",\"PAIDOFF\",\"PAIDOFF\",\"PAIDOFF\",\"PAIDOFF\",\"PAIDOFF\",\"PAIDOFF\",\"PAIDOFF\",\"PAIDOFF\",\"PAIDOFF\",\"PAIDOFF\",\"PAIDOFF\",\"PAIDOFF\",\"PAIDOFF\",\"PAIDOFF\",\"PAIDOFF\",\"PAIDOFF\",\"PAIDOFF\",\"PAIDOFF\",\"PAIDOFF\",\"PAIDOFF\",\"PAIDOFF\",\"PAIDOFF\",\"PAIDOFF\",\"PAIDOFF\",\"PAIDOFF\",\"PAIDOFF\",\"PAIDOFF\",\"PAIDOFF\",\"PAIDOFF\",\"PAIDOFF\",\"PAIDOFF\",\"PAIDOFF\",\"PAIDOFF\",\"PAIDOFF\",\"PAIDOFF\",\"PAIDOFF\",\"PAIDOFF\",\"PAIDOFF\",\"PAIDOFF\",\"PAIDOFF\",\"PAIDOFF\",\"PAIDOFF\",\"PAIDOFF\",\"PAIDOFF\",\"PAIDOFF\",\"PAIDOFF\",\"PAIDOFF\",\"PAIDOFF\",\"PAIDOFF\",\"PAIDOFF\",\"PAIDOFF\",\"PAIDOFF\",\"PAIDOFF\",\"PAIDOFF\",\"PAIDOFF\",\"PAIDOFF\",\"PAIDOFF\",\"PAIDOFF\",\"PAIDOFF\",\"PAIDOFF\",\"PAIDOFF\",\"PAIDOFF\",\"PAIDOFF\",\"PAIDOFF\",\"PAIDOFF\",\"PAIDOFF\",\"PAIDOFF\",\"PAIDOFF\",\"PAIDOFF\",\"PAIDOFF\",\"PAIDOFF\",\"PAIDOFF\",\"PAIDOFF\",\"PAIDOFF\",\"PAIDOFF\",\"PAIDOFF\",\"PAIDOFF\",\"PAIDOFF\",\"PAIDOFF\",\"PAIDOFF\",\"PAIDOFF\",\"PAIDOFF\",\"PAIDOFF\",\"PAIDOFF\",\"PAIDOFF\",\"PAIDOFF\",\"PAIDOFF\",\"PAIDOFF\",\"PAIDOFF\",\"PAIDOFF\",\"PAIDOFF\",\"PAIDOFF\",\"PAIDOFF\",\"PAIDOFF\",\"PAIDOFF\",\"PAIDOFF\",\"COLLECTION\",\"COLLECTION\",\"COLLECTION\",\"COLLECTION\",\"COLLECTION\",\"COLLECTION\",\"COLLECTION\",\"COLLECTION\",\"COLLECTION\",\"COLLECTION\",\"COLLECTION\",\"COLLECTION\",\"COLLECTION\",\"COLLECTION\",\"COLLECTION\",\"COLLECTION\",\"COLLECTION\",\"COLLECTION\",\"COLLECTION\",\"COLLECTION\",\"COLLECTION\",\"COLLECTION\",\"COLLECTION\",\"COLLECTION\",\"COLLECTION\",\"COLLECTION\",\"COLLECTION\",\"COLLECTION\",\"COLLECTION\",\"COLLECTION\",\"COLLECTION\",\"COLLECTION\",\"COLLECTION\",\"COLLECTION\"],\"xaxis\":\"x\",\"yaxis\":\"y\",\"type\":\"histogram\"},{\"alignmentgroup\":\"True\",\"bingroup\":\"x\",\"hovertemplate\":\"terms=7<br>loan_status=%{x}<br>count=%{y}<extra></extra>\",\"legendgroup\":\"7\",\"marker\":{\"color\":\"#00cc96\",\"pattern\":{\"shape\":\"\"}},\"name\":\"7\",\"offsetgroup\":\"7\",\"orientation\":\"v\",\"showlegend\":true,\"x\":[\"PAIDOFF\",\"PAIDOFF\",\"PAIDOFF\",\"PAIDOFF\",\"PAIDOFF\",\"PAIDOFF\",\"PAIDOFF\",\"PAIDOFF\",\"PAIDOFF\",\"PAIDOFF\",\"PAIDOFF\",\"PAIDOFF\",\"PAIDOFF\",\"PAIDOFF\"],\"xaxis\":\"x\",\"yaxis\":\"y\",\"type\":\"histogram\"}],                        {\"template\":{\"data\":{\"histogram2dcontour\":[{\"type\":\"histogram2dcontour\",\"colorbar\":{\"outlinewidth\":0,\"ticks\":\"\"},\"colorscale\":[[0.0,\"#0d0887\"],[0.1111111111111111,\"#46039f\"],[0.2222222222222222,\"#7201a8\"],[0.3333333333333333,\"#9c179e\"],[0.4444444444444444,\"#bd3786\"],[0.5555555555555556,\"#d8576b\"],[0.6666666666666666,\"#ed7953\"],[0.7777777777777778,\"#fb9f3a\"],[0.8888888888888888,\"#fdca26\"],[1.0,\"#f0f921\"]]}],\"choropleth\":[{\"type\":\"choropleth\",\"colorbar\":{\"outlinewidth\":0,\"ticks\":\"\"}}],\"histogram2d\":[{\"type\":\"histogram2d\",\"colorbar\":{\"outlinewidth\":0,\"ticks\":\"\"},\"colorscale\":[[0.0,\"#0d0887\"],[0.1111111111111111,\"#46039f\"],[0.2222222222222222,\"#7201a8\"],[0.3333333333333333,\"#9c179e\"],[0.4444444444444444,\"#bd3786\"],[0.5555555555555556,\"#d8576b\"],[0.6666666666666666,\"#ed7953\"],[0.7777777777777778,\"#fb9f3a\"],[0.8888888888888888,\"#fdca26\"],[1.0,\"#f0f921\"]]}],\"heatmap\":[{\"type\":\"heatmap\",\"colorbar\":{\"outlinewidth\":0,\"ticks\":\"\"},\"colorscale\":[[0.0,\"#0d0887\"],[0.1111111111111111,\"#46039f\"],[0.2222222222222222,\"#7201a8\"],[0.3333333333333333,\"#9c179e\"],[0.4444444444444444,\"#bd3786\"],[0.5555555555555556,\"#d8576b\"],[0.6666666666666666,\"#ed7953\"],[0.7777777777777778,\"#fb9f3a\"],[0.8888888888888888,\"#fdca26\"],[1.0,\"#f0f921\"]]}],\"heatmapgl\":[{\"type\":\"heatmapgl\",\"colorbar\":{\"outlinewidth\":0,\"ticks\":\"\"},\"colorscale\":[[0.0,\"#0d0887\"],[0.1111111111111111,\"#46039f\"],[0.2222222222222222,\"#7201a8\"],[0.3333333333333333,\"#9c179e\"],[0.4444444444444444,\"#bd3786\"],[0.5555555555555556,\"#d8576b\"],[0.6666666666666666,\"#ed7953\"],[0.7777777777777778,\"#fb9f3a\"],[0.8888888888888888,\"#fdca26\"],[1.0,\"#f0f921\"]]}],\"contourcarpet\":[{\"type\":\"contourcarpet\",\"colorbar\":{\"outlinewidth\":0,\"ticks\":\"\"}}],\"contour\":[{\"type\":\"contour\",\"colorbar\":{\"outlinewidth\":0,\"ticks\":\"\"},\"colorscale\":[[0.0,\"#0d0887\"],[0.1111111111111111,\"#46039f\"],[0.2222222222222222,\"#7201a8\"],[0.3333333333333333,\"#9c179e\"],[0.4444444444444444,\"#bd3786\"],[0.5555555555555556,\"#d8576b\"],[0.6666666666666666,\"#ed7953\"],[0.7777777777777778,\"#fb9f3a\"],[0.8888888888888888,\"#fdca26\"],[1.0,\"#f0f921\"]]}],\"surface\":[{\"type\":\"surface\",\"colorbar\":{\"outlinewidth\":0,\"ticks\":\"\"},\"colorscale\":[[0.0,\"#0d0887\"],[0.1111111111111111,\"#46039f\"],[0.2222222222222222,\"#7201a8\"],[0.3333333333333333,\"#9c179e\"],[0.4444444444444444,\"#bd3786\"],[0.5555555555555556,\"#d8576b\"],[0.6666666666666666,\"#ed7953\"],[0.7777777777777778,\"#fb9f3a\"],[0.8888888888888888,\"#fdca26\"],[1.0,\"#f0f921\"]]}],\"mesh3d\":[{\"type\":\"mesh3d\",\"colorbar\":{\"outlinewidth\":0,\"ticks\":\"\"}}],\"scatter\":[{\"fillpattern\":{\"fillmode\":\"overlay\",\"size\":10,\"solidity\":0.2},\"type\":\"scatter\"}],\"parcoords\":[{\"type\":\"parcoords\",\"line\":{\"colorbar\":{\"outlinewidth\":0,\"ticks\":\"\"}}}],\"scatterpolargl\":[{\"type\":\"scatterpolargl\",\"marker\":{\"colorbar\":{\"outlinewidth\":0,\"ticks\":\"\"}}}],\"bar\":[{\"error_x\":{\"color\":\"#2a3f5f\"},\"error_y\":{\"color\":\"#2a3f5f\"},\"marker\":{\"line\":{\"color\":\"#E5ECF6\",\"width\":0.5},\"pattern\":{\"fillmode\":\"overlay\",\"size\":10,\"solidity\":0.2}},\"type\":\"bar\"}],\"scattergeo\":[{\"type\":\"scattergeo\",\"marker\":{\"colorbar\":{\"outlinewidth\":0,\"ticks\":\"\"}}}],\"scatterpolar\":[{\"type\":\"scatterpolar\",\"marker\":{\"colorbar\":{\"outlinewidth\":0,\"ticks\":\"\"}}}],\"histogram\":[{\"marker\":{\"pattern\":{\"fillmode\":\"overlay\",\"size\":10,\"solidity\":0.2}},\"type\":\"histogram\"}],\"scattergl\":[{\"type\":\"scattergl\",\"marker\":{\"colorbar\":{\"outlinewidth\":0,\"ticks\":\"\"}}}],\"scatter3d\":[{\"type\":\"scatter3d\",\"line\":{\"colorbar\":{\"outlinewidth\":0,\"ticks\":\"\"}},\"marker\":{\"colorbar\":{\"outlinewidth\":0,\"ticks\":\"\"}}}],\"scattermapbox\":[{\"type\":\"scattermapbox\",\"marker\":{\"colorbar\":{\"outlinewidth\":0,\"ticks\":\"\"}}}],\"scatterternary\":[{\"type\":\"scatterternary\",\"marker\":{\"colorbar\":{\"outlinewidth\":0,\"ticks\":\"\"}}}],\"scattercarpet\":[{\"type\":\"scattercarpet\",\"marker\":{\"colorbar\":{\"outlinewidth\":0,\"ticks\":\"\"}}}],\"carpet\":[{\"aaxis\":{\"endlinecolor\":\"#2a3f5f\",\"gridcolor\":\"white\",\"linecolor\":\"white\",\"minorgridcolor\":\"white\",\"startlinecolor\":\"#2a3f5f\"},\"baxis\":{\"endlinecolor\":\"#2a3f5f\",\"gridcolor\":\"white\",\"linecolor\":\"white\",\"minorgridcolor\":\"white\",\"startlinecolor\":\"#2a3f5f\"},\"type\":\"carpet\"}],\"table\":[{\"cells\":{\"fill\":{\"color\":\"#EBF0F8\"},\"line\":{\"color\":\"white\"}},\"header\":{\"fill\":{\"color\":\"#C8D4E3\"},\"line\":{\"color\":\"white\"}},\"type\":\"table\"}],\"barpolar\":[{\"marker\":{\"line\":{\"color\":\"#E5ECF6\",\"width\":0.5},\"pattern\":{\"fillmode\":\"overlay\",\"size\":10,\"solidity\":0.2}},\"type\":\"barpolar\"}],\"pie\":[{\"automargin\":true,\"type\":\"pie\"}]},\"layout\":{\"autotypenumbers\":\"strict\",\"colorway\":[\"#636efa\",\"#EF553B\",\"#00cc96\",\"#ab63fa\",\"#FFA15A\",\"#19d3f3\",\"#FF6692\",\"#B6E880\",\"#FF97FF\",\"#FECB52\"],\"font\":{\"color\":\"#2a3f5f\"},\"hovermode\":\"closest\",\"hoverlabel\":{\"align\":\"left\"},\"paper_bgcolor\":\"white\",\"plot_bgcolor\":\"#E5ECF6\",\"polar\":{\"bgcolor\":\"#E5ECF6\",\"angularaxis\":{\"gridcolor\":\"white\",\"linecolor\":\"white\",\"ticks\":\"\"},\"radialaxis\":{\"gridcolor\":\"white\",\"linecolor\":\"white\",\"ticks\":\"\"}},\"ternary\":{\"bgcolor\":\"#E5ECF6\",\"aaxis\":{\"gridcolor\":\"white\",\"linecolor\":\"white\",\"ticks\":\"\"},\"baxis\":{\"gridcolor\":\"white\",\"linecolor\":\"white\",\"ticks\":\"\"},\"caxis\":{\"gridcolor\":\"white\",\"linecolor\":\"white\",\"ticks\":\"\"}},\"coloraxis\":{\"colorbar\":{\"outlinewidth\":0,\"ticks\":\"\"}},\"colorscale\":{\"sequential\":[[0.0,\"#0d0887\"],[0.1111111111111111,\"#46039f\"],[0.2222222222222222,\"#7201a8\"],[0.3333333333333333,\"#9c179e\"],[0.4444444444444444,\"#bd3786\"],[0.5555555555555556,\"#d8576b\"],[0.6666666666666666,\"#ed7953\"],[0.7777777777777778,\"#fb9f3a\"],[0.8888888888888888,\"#fdca26\"],[1.0,\"#f0f921\"]],\"sequentialminus\":[[0.0,\"#0d0887\"],[0.1111111111111111,\"#46039f\"],[0.2222222222222222,\"#7201a8\"],[0.3333333333333333,\"#9c179e\"],[0.4444444444444444,\"#bd3786\"],[0.5555555555555556,\"#d8576b\"],[0.6666666666666666,\"#ed7953\"],[0.7777777777777778,\"#fb9f3a\"],[0.8888888888888888,\"#fdca26\"],[1.0,\"#f0f921\"]],\"diverging\":[[0,\"#8e0152\"],[0.1,\"#c51b7d\"],[0.2,\"#de77ae\"],[0.3,\"#f1b6da\"],[0.4,\"#fde0ef\"],[0.5,\"#f7f7f7\"],[0.6,\"#e6f5d0\"],[0.7,\"#b8e186\"],[0.8,\"#7fbc41\"],[0.9,\"#4d9221\"],[1,\"#276419\"]]},\"xaxis\":{\"gridcolor\":\"white\",\"linecolor\":\"white\",\"ticks\":\"\",\"title\":{\"standoff\":15},\"zerolinecolor\":\"white\",\"automargin\":true,\"zerolinewidth\":2},\"yaxis\":{\"gridcolor\":\"white\",\"linecolor\":\"white\",\"ticks\":\"\",\"title\":{\"standoff\":15},\"zerolinecolor\":\"white\",\"automargin\":true,\"zerolinewidth\":2},\"scene\":{\"xaxis\":{\"backgroundcolor\":\"#E5ECF6\",\"gridcolor\":\"white\",\"linecolor\":\"white\",\"showbackground\":true,\"ticks\":\"\",\"zerolinecolor\":\"white\",\"gridwidth\":2},\"yaxis\":{\"backgroundcolor\":\"#E5ECF6\",\"gridcolor\":\"white\",\"linecolor\":\"white\",\"showbackground\":true,\"ticks\":\"\",\"zerolinecolor\":\"white\",\"gridwidth\":2},\"zaxis\":{\"backgroundcolor\":\"#E5ECF6\",\"gridcolor\":\"white\",\"linecolor\":\"white\",\"showbackground\":true,\"ticks\":\"\",\"zerolinecolor\":\"white\",\"gridwidth\":2}},\"shapedefaults\":{\"line\":{\"color\":\"#2a3f5f\"}},\"annotationdefaults\":{\"arrowcolor\":\"#2a3f5f\",\"arrowhead\":0,\"arrowwidth\":1},\"geo\":{\"bgcolor\":\"white\",\"landcolor\":\"#E5ECF6\",\"subunitcolor\":\"white\",\"showland\":true,\"showlakes\":true,\"lakecolor\":\"white\"},\"title\":{\"x\":0.05},\"mapbox\":{\"style\":\"light\"}}},\"xaxis\":{\"anchor\":\"y\",\"domain\":[0.0,1.0],\"title\":{\"text\":\"loan_status\"}},\"yaxis\":{\"anchor\":\"x\",\"domain\":[0.0,1.0],\"title\":{\"text\":\"count\"}},\"legend\":{\"title\":{\"text\":\"terms\"},\"tracegroupgap\":0},\"margin\":{\"t\":60},\"barmode\":\"relative\"},                        {\"responsive\": true}                    ).then(function(){\n",
       "                            \n",
       "var gd = document.getElementById('40312d6d-00d4-46bc-81ae-1ff45ea29273');\n",
       "var x = new MutationObserver(function (mutations, observer) {{\n",
       "        var display = window.getComputedStyle(gd).display;\n",
       "        if (!display || display === 'none') {{\n",
       "            console.log([gd, 'removed!']);\n",
       "            Plotly.purge(gd);\n",
       "            observer.disconnect();\n",
       "        }}\n",
       "}});\n",
       "\n",
       "// Listen for the removal of the full notebook cells\n",
       "var notebookContainer = gd.closest('#notebook-container');\n",
       "if (notebookContainer) {{\n",
       "    x.observe(notebookContainer, {childList: true});\n",
       "}}\n",
       "\n",
       "// Listen for the clearing of the current output cell\n",
       "var outputEl = gd.closest('.output');\n",
       "if (outputEl) {{\n",
       "    x.observe(outputEl, {childList: true});\n",
       "}}\n",
       "\n",
       "                        })                };                });            </script>        </div>"
      ]
     },
     "metadata": {},
     "output_type": "display_data"
    }
   ],
   "source": [
    "px.histogram(df, df.loan_status, color = 'terms')"
   ]
  },
  {
   "cell_type": "code",
   "execution_count": 435,
   "id": "b3c13de5",
   "metadata": {},
   "outputs": [
    {
     "data": {
      "application/vnd.plotly.v1+json": {
       "config": {
        "plotlyServerURL": "https://plot.ly"
       },
       "data": [
        {
         "alignmentgroup": "True",
         "bingroup": "x",
         "hovertemplate": "terms=30<br>loan_status=%{x}<br>count=%{y}<extra></extra>",
         "legendgroup": "30",
         "marker": {
          "color": "#636efa",
          "pattern": {
           "shape": ""
          }
         },
         "name": "30",
         "offsetgroup": "30",
         "orientation": "v",
         "showlegend": true,
         "type": "histogram",
         "x": [
          "PAIDOFF",
          "PAIDOFF",
          "PAIDOFF",
          "PAIDOFF",
          "PAIDOFF",
          "PAIDOFF",
          "PAIDOFF",
          "PAIDOFF",
          "PAIDOFF",
          "PAIDOFF",
          "PAIDOFF",
          "PAIDOFF",
          "PAIDOFF",
          "PAIDOFF",
          "PAIDOFF",
          "PAIDOFF",
          "PAIDOFF",
          "PAIDOFF",
          "PAIDOFF",
          "PAIDOFF",
          "PAIDOFF",
          "PAIDOFF",
          "PAIDOFF",
          "PAIDOFF",
          "PAIDOFF",
          "PAIDOFF",
          "PAIDOFF",
          "PAIDOFF",
          "PAIDOFF",
          "PAIDOFF",
          "PAIDOFF",
          "PAIDOFF",
          "PAIDOFF",
          "PAIDOFF",
          "PAIDOFF",
          "PAIDOFF",
          "PAIDOFF",
          "PAIDOFF",
          "PAIDOFF",
          "PAIDOFF",
          "PAIDOFF",
          "PAIDOFF",
          "PAIDOFF",
          "PAIDOFF",
          "PAIDOFF",
          "PAIDOFF",
          "PAIDOFF",
          "PAIDOFF",
          "PAIDOFF",
          "PAIDOFF",
          "PAIDOFF",
          "PAIDOFF",
          "PAIDOFF",
          "PAIDOFF",
          "PAIDOFF",
          "PAIDOFF",
          "PAIDOFF",
          "PAIDOFF",
          "PAIDOFF",
          "PAIDOFF",
          "PAIDOFF",
          "PAIDOFF",
          "PAIDOFF",
          "PAIDOFF",
          "PAIDOFF",
          "PAIDOFF",
          "PAIDOFF",
          "PAIDOFF",
          "PAIDOFF",
          "PAIDOFF",
          "PAIDOFF",
          "PAIDOFF",
          "PAIDOFF",
          "PAIDOFF",
          "PAIDOFF",
          "PAIDOFF",
          "PAIDOFF",
          "PAIDOFF",
          "PAIDOFF",
          "PAIDOFF",
          "PAIDOFF",
          "PAIDOFF",
          "PAIDOFF",
          "PAIDOFF",
          "PAIDOFF",
          "PAIDOFF",
          "PAIDOFF",
          "PAIDOFF",
          "PAIDOFF",
          "PAIDOFF",
          "PAIDOFF",
          "PAIDOFF",
          "PAIDOFF",
          "PAIDOFF",
          "PAIDOFF",
          "PAIDOFF",
          "PAIDOFF",
          "PAIDOFF",
          "PAIDOFF",
          "PAIDOFF",
          "PAIDOFF",
          "PAIDOFF",
          "PAIDOFF",
          "PAIDOFF",
          "PAIDOFF",
          "PAIDOFF",
          "PAIDOFF",
          "PAIDOFF",
          "PAIDOFF",
          "PAIDOFF",
          "PAIDOFF",
          "PAIDOFF",
          "PAIDOFF",
          "PAIDOFF",
          "PAIDOFF",
          "PAIDOFF",
          "PAIDOFF",
          "PAIDOFF",
          "PAIDOFF",
          "PAIDOFF",
          "PAIDOFF",
          "PAIDOFF",
          "PAIDOFF",
          "PAIDOFF",
          "PAIDOFF",
          "PAIDOFF",
          "PAIDOFF",
          "PAIDOFF",
          "PAIDOFF",
          "PAIDOFF",
          "PAIDOFF",
          "PAIDOFF",
          "COLLECTION",
          "COLLECTION",
          "COLLECTION",
          "COLLECTION",
          "COLLECTION",
          "COLLECTION",
          "COLLECTION",
          "COLLECTION",
          "COLLECTION",
          "COLLECTION",
          "COLLECTION",
          "COLLECTION",
          "COLLECTION",
          "COLLECTION",
          "COLLECTION",
          "COLLECTION",
          "COLLECTION",
          "COLLECTION",
          "COLLECTION",
          "COLLECTION",
          "COLLECTION",
          "COLLECTION",
          "COLLECTION",
          "COLLECTION",
          "COLLECTION",
          "COLLECTION",
          "COLLECTION",
          "COLLECTION",
          "COLLECTION",
          "COLLECTION",
          "COLLECTION",
          "COLLECTION",
          "COLLECTION",
          "COLLECTION",
          "COLLECTION",
          "COLLECTION",
          "COLLECTION",
          "COLLECTION",
          "COLLECTION",
          "COLLECTION",
          "COLLECTION",
          "COLLECTION",
          "COLLECTION",
          "COLLECTION",
          "COLLECTION",
          "COLLECTION",
          "COLLECTION",
          "COLLECTION",
          "COLLECTION",
          "COLLECTION",
          "COLLECTION",
          "COLLECTION"
         ],
         "xaxis": "x",
         "yaxis": "y"
        },
        {
         "alignmentgroup": "True",
         "bingroup": "x",
         "hovertemplate": "terms=15<br>loan_status=%{x}<br>count=%{y}<extra></extra>",
         "legendgroup": "15",
         "marker": {
          "color": "#EF553B",
          "pattern": {
           "shape": ""
          }
         },
         "name": "15",
         "offsetgroup": "15",
         "orientation": "v",
         "showlegend": true,
         "type": "histogram",
         "x": [
          "PAIDOFF",
          "PAIDOFF",
          "PAIDOFF",
          "PAIDOFF",
          "PAIDOFF",
          "PAIDOFF",
          "PAIDOFF",
          "PAIDOFF",
          "PAIDOFF",
          "PAIDOFF",
          "PAIDOFF",
          "PAIDOFF",
          "PAIDOFF",
          "PAIDOFF",
          "PAIDOFF",
          "PAIDOFF",
          "PAIDOFF",
          "PAIDOFF",
          "PAIDOFF",
          "PAIDOFF",
          "PAIDOFF",
          "PAIDOFF",
          "PAIDOFF",
          "PAIDOFF",
          "PAIDOFF",
          "PAIDOFF",
          "PAIDOFF",
          "PAIDOFF",
          "PAIDOFF",
          "PAIDOFF",
          "PAIDOFF",
          "PAIDOFF",
          "PAIDOFF",
          "PAIDOFF",
          "PAIDOFF",
          "PAIDOFF",
          "PAIDOFF",
          "PAIDOFF",
          "PAIDOFF",
          "PAIDOFF",
          "PAIDOFF",
          "PAIDOFF",
          "PAIDOFF",
          "PAIDOFF",
          "PAIDOFF",
          "PAIDOFF",
          "PAIDOFF",
          "PAIDOFF",
          "PAIDOFF",
          "PAIDOFF",
          "PAIDOFF",
          "PAIDOFF",
          "PAIDOFF",
          "PAIDOFF",
          "PAIDOFF",
          "PAIDOFF",
          "PAIDOFF",
          "PAIDOFF",
          "PAIDOFF",
          "PAIDOFF",
          "PAIDOFF",
          "PAIDOFF",
          "PAIDOFF",
          "PAIDOFF",
          "PAIDOFF",
          "PAIDOFF",
          "PAIDOFF",
          "PAIDOFF",
          "PAIDOFF",
          "PAIDOFF",
          "PAIDOFF",
          "PAIDOFF",
          "PAIDOFF",
          "PAIDOFF",
          "PAIDOFF",
          "PAIDOFF",
          "PAIDOFF",
          "PAIDOFF",
          "PAIDOFF",
          "PAIDOFF",
          "PAIDOFF",
          "PAIDOFF",
          "PAIDOFF",
          "PAIDOFF",
          "PAIDOFF",
          "PAIDOFF",
          "PAIDOFF",
          "PAIDOFF",
          "PAIDOFF",
          "PAIDOFF",
          "PAIDOFF",
          "PAIDOFF",
          "PAIDOFF",
          "PAIDOFF",
          "PAIDOFF",
          "PAIDOFF",
          "PAIDOFF",
          "PAIDOFF",
          "PAIDOFF",
          "PAIDOFF",
          "PAIDOFF",
          "PAIDOFF",
          "PAIDOFF",
          "PAIDOFF",
          "PAIDOFF",
          "PAIDOFF",
          "PAIDOFF",
          "PAIDOFF",
          "PAIDOFF",
          "PAIDOFF",
          "PAIDOFF",
          "PAIDOFF",
          "PAIDOFF",
          "PAIDOFF",
          "COLLECTION",
          "COLLECTION",
          "COLLECTION",
          "COLLECTION",
          "COLLECTION",
          "COLLECTION",
          "COLLECTION",
          "COLLECTION",
          "COLLECTION",
          "COLLECTION",
          "COLLECTION",
          "COLLECTION",
          "COLLECTION",
          "COLLECTION",
          "COLLECTION",
          "COLLECTION",
          "COLLECTION",
          "COLLECTION",
          "COLLECTION",
          "COLLECTION",
          "COLLECTION",
          "COLLECTION",
          "COLLECTION",
          "COLLECTION",
          "COLLECTION",
          "COLLECTION",
          "COLLECTION",
          "COLLECTION",
          "COLLECTION",
          "COLLECTION",
          "COLLECTION",
          "COLLECTION",
          "COLLECTION",
          "COLLECTION"
         ],
         "xaxis": "x",
         "yaxis": "y"
        },
        {
         "alignmentgroup": "True",
         "bingroup": "x",
         "hovertemplate": "terms=7<br>loan_status=%{x}<br>count=%{y}<extra></extra>",
         "legendgroup": "7",
         "marker": {
          "color": "#00cc96",
          "pattern": {
           "shape": ""
          }
         },
         "name": "7",
         "offsetgroup": "7",
         "orientation": "v",
         "showlegend": true,
         "type": "histogram",
         "x": [
          "PAIDOFF",
          "PAIDOFF",
          "PAIDOFF",
          "PAIDOFF",
          "PAIDOFF",
          "PAIDOFF",
          "PAIDOFF",
          "PAIDOFF",
          "PAIDOFF",
          "PAIDOFF",
          "PAIDOFF",
          "PAIDOFF",
          "PAIDOFF",
          "PAIDOFF"
         ],
         "xaxis": "x",
         "yaxis": "y"
        }
       ],
       "layout": {
        "barmode": "relative",
        "legend": {
         "title": {
          "text": "terms"
         },
         "tracegroupgap": 0
        },
        "margin": {
         "t": 60
        },
        "template": {
         "data": {
          "bar": [
           {
            "error_x": {
             "color": "#2a3f5f"
            },
            "error_y": {
             "color": "#2a3f5f"
            },
            "marker": {
             "line": {
              "color": "#E5ECF6",
              "width": 0.5
             },
             "pattern": {
              "fillmode": "overlay",
              "size": 10,
              "solidity": 0.2
             }
            },
            "type": "bar"
           }
          ],
          "barpolar": [
           {
            "marker": {
             "line": {
              "color": "#E5ECF6",
              "width": 0.5
             },
             "pattern": {
              "fillmode": "overlay",
              "size": 10,
              "solidity": 0.2
             }
            },
            "type": "barpolar"
           }
          ],
          "carpet": [
           {
            "aaxis": {
             "endlinecolor": "#2a3f5f",
             "gridcolor": "white",
             "linecolor": "white",
             "minorgridcolor": "white",
             "startlinecolor": "#2a3f5f"
            },
            "baxis": {
             "endlinecolor": "#2a3f5f",
             "gridcolor": "white",
             "linecolor": "white",
             "minorgridcolor": "white",
             "startlinecolor": "#2a3f5f"
            },
            "type": "carpet"
           }
          ],
          "choropleth": [
           {
            "colorbar": {
             "outlinewidth": 0,
             "ticks": ""
            },
            "type": "choropleth"
           }
          ],
          "contour": [
           {
            "colorbar": {
             "outlinewidth": 0,
             "ticks": ""
            },
            "colorscale": [
             [
              0,
              "#0d0887"
             ],
             [
              0.1111111111111111,
              "#46039f"
             ],
             [
              0.2222222222222222,
              "#7201a8"
             ],
             [
              0.3333333333333333,
              "#9c179e"
             ],
             [
              0.4444444444444444,
              "#bd3786"
             ],
             [
              0.5555555555555556,
              "#d8576b"
             ],
             [
              0.6666666666666666,
              "#ed7953"
             ],
             [
              0.7777777777777778,
              "#fb9f3a"
             ],
             [
              0.8888888888888888,
              "#fdca26"
             ],
             [
              1,
              "#f0f921"
             ]
            ],
            "type": "contour"
           }
          ],
          "contourcarpet": [
           {
            "colorbar": {
             "outlinewidth": 0,
             "ticks": ""
            },
            "type": "contourcarpet"
           }
          ],
          "heatmap": [
           {
            "colorbar": {
             "outlinewidth": 0,
             "ticks": ""
            },
            "colorscale": [
             [
              0,
              "#0d0887"
             ],
             [
              0.1111111111111111,
              "#46039f"
             ],
             [
              0.2222222222222222,
              "#7201a8"
             ],
             [
              0.3333333333333333,
              "#9c179e"
             ],
             [
              0.4444444444444444,
              "#bd3786"
             ],
             [
              0.5555555555555556,
              "#d8576b"
             ],
             [
              0.6666666666666666,
              "#ed7953"
             ],
             [
              0.7777777777777778,
              "#fb9f3a"
             ],
             [
              0.8888888888888888,
              "#fdca26"
             ],
             [
              1,
              "#f0f921"
             ]
            ],
            "type": "heatmap"
           }
          ],
          "heatmapgl": [
           {
            "colorbar": {
             "outlinewidth": 0,
             "ticks": ""
            },
            "colorscale": [
             [
              0,
              "#0d0887"
             ],
             [
              0.1111111111111111,
              "#46039f"
             ],
             [
              0.2222222222222222,
              "#7201a8"
             ],
             [
              0.3333333333333333,
              "#9c179e"
             ],
             [
              0.4444444444444444,
              "#bd3786"
             ],
             [
              0.5555555555555556,
              "#d8576b"
             ],
             [
              0.6666666666666666,
              "#ed7953"
             ],
             [
              0.7777777777777778,
              "#fb9f3a"
             ],
             [
              0.8888888888888888,
              "#fdca26"
             ],
             [
              1,
              "#f0f921"
             ]
            ],
            "type": "heatmapgl"
           }
          ],
          "histogram": [
           {
            "marker": {
             "pattern": {
              "fillmode": "overlay",
              "size": 10,
              "solidity": 0.2
             }
            },
            "type": "histogram"
           }
          ],
          "histogram2d": [
           {
            "colorbar": {
             "outlinewidth": 0,
             "ticks": ""
            },
            "colorscale": [
             [
              0,
              "#0d0887"
             ],
             [
              0.1111111111111111,
              "#46039f"
             ],
             [
              0.2222222222222222,
              "#7201a8"
             ],
             [
              0.3333333333333333,
              "#9c179e"
             ],
             [
              0.4444444444444444,
              "#bd3786"
             ],
             [
              0.5555555555555556,
              "#d8576b"
             ],
             [
              0.6666666666666666,
              "#ed7953"
             ],
             [
              0.7777777777777778,
              "#fb9f3a"
             ],
             [
              0.8888888888888888,
              "#fdca26"
             ],
             [
              1,
              "#f0f921"
             ]
            ],
            "type": "histogram2d"
           }
          ],
          "histogram2dcontour": [
           {
            "colorbar": {
             "outlinewidth": 0,
             "ticks": ""
            },
            "colorscale": [
             [
              0,
              "#0d0887"
             ],
             [
              0.1111111111111111,
              "#46039f"
             ],
             [
              0.2222222222222222,
              "#7201a8"
             ],
             [
              0.3333333333333333,
              "#9c179e"
             ],
             [
              0.4444444444444444,
              "#bd3786"
             ],
             [
              0.5555555555555556,
              "#d8576b"
             ],
             [
              0.6666666666666666,
              "#ed7953"
             ],
             [
              0.7777777777777778,
              "#fb9f3a"
             ],
             [
              0.8888888888888888,
              "#fdca26"
             ],
             [
              1,
              "#f0f921"
             ]
            ],
            "type": "histogram2dcontour"
           }
          ],
          "mesh3d": [
           {
            "colorbar": {
             "outlinewidth": 0,
             "ticks": ""
            },
            "type": "mesh3d"
           }
          ],
          "parcoords": [
           {
            "line": {
             "colorbar": {
              "outlinewidth": 0,
              "ticks": ""
             }
            },
            "type": "parcoords"
           }
          ],
          "pie": [
           {
            "automargin": true,
            "type": "pie"
           }
          ],
          "scatter": [
           {
            "fillpattern": {
             "fillmode": "overlay",
             "size": 10,
             "solidity": 0.2
            },
            "type": "scatter"
           }
          ],
          "scatter3d": [
           {
            "line": {
             "colorbar": {
              "outlinewidth": 0,
              "ticks": ""
             }
            },
            "marker": {
             "colorbar": {
              "outlinewidth": 0,
              "ticks": ""
             }
            },
            "type": "scatter3d"
           }
          ],
          "scattercarpet": [
           {
            "marker": {
             "colorbar": {
              "outlinewidth": 0,
              "ticks": ""
             }
            },
            "type": "scattercarpet"
           }
          ],
          "scattergeo": [
           {
            "marker": {
             "colorbar": {
              "outlinewidth": 0,
              "ticks": ""
             }
            },
            "type": "scattergeo"
           }
          ],
          "scattergl": [
           {
            "marker": {
             "colorbar": {
              "outlinewidth": 0,
              "ticks": ""
             }
            },
            "type": "scattergl"
           }
          ],
          "scattermapbox": [
           {
            "marker": {
             "colorbar": {
              "outlinewidth": 0,
              "ticks": ""
             }
            },
            "type": "scattermapbox"
           }
          ],
          "scatterpolar": [
           {
            "marker": {
             "colorbar": {
              "outlinewidth": 0,
              "ticks": ""
             }
            },
            "type": "scatterpolar"
           }
          ],
          "scatterpolargl": [
           {
            "marker": {
             "colorbar": {
              "outlinewidth": 0,
              "ticks": ""
             }
            },
            "type": "scatterpolargl"
           }
          ],
          "scatterternary": [
           {
            "marker": {
             "colorbar": {
              "outlinewidth": 0,
              "ticks": ""
             }
            },
            "type": "scatterternary"
           }
          ],
          "surface": [
           {
            "colorbar": {
             "outlinewidth": 0,
             "ticks": ""
            },
            "colorscale": [
             [
              0,
              "#0d0887"
             ],
             [
              0.1111111111111111,
              "#46039f"
             ],
             [
              0.2222222222222222,
              "#7201a8"
             ],
             [
              0.3333333333333333,
              "#9c179e"
             ],
             [
              0.4444444444444444,
              "#bd3786"
             ],
             [
              0.5555555555555556,
              "#d8576b"
             ],
             [
              0.6666666666666666,
              "#ed7953"
             ],
             [
              0.7777777777777778,
              "#fb9f3a"
             ],
             [
              0.8888888888888888,
              "#fdca26"
             ],
             [
              1,
              "#f0f921"
             ]
            ],
            "type": "surface"
           }
          ],
          "table": [
           {
            "cells": {
             "fill": {
              "color": "#EBF0F8"
             },
             "line": {
              "color": "white"
             }
            },
            "header": {
             "fill": {
              "color": "#C8D4E3"
             },
             "line": {
              "color": "white"
             }
            },
            "type": "table"
           }
          ]
         },
         "layout": {
          "annotationdefaults": {
           "arrowcolor": "#2a3f5f",
           "arrowhead": 0,
           "arrowwidth": 1
          },
          "autotypenumbers": "strict",
          "coloraxis": {
           "colorbar": {
            "outlinewidth": 0,
            "ticks": ""
           }
          },
          "colorscale": {
           "diverging": [
            [
             0,
             "#8e0152"
            ],
            [
             0.1,
             "#c51b7d"
            ],
            [
             0.2,
             "#de77ae"
            ],
            [
             0.3,
             "#f1b6da"
            ],
            [
             0.4,
             "#fde0ef"
            ],
            [
             0.5,
             "#f7f7f7"
            ],
            [
             0.6,
             "#e6f5d0"
            ],
            [
             0.7,
             "#b8e186"
            ],
            [
             0.8,
             "#7fbc41"
            ],
            [
             0.9,
             "#4d9221"
            ],
            [
             1,
             "#276419"
            ]
           ],
           "sequential": [
            [
             0,
             "#0d0887"
            ],
            [
             0.1111111111111111,
             "#46039f"
            ],
            [
             0.2222222222222222,
             "#7201a8"
            ],
            [
             0.3333333333333333,
             "#9c179e"
            ],
            [
             0.4444444444444444,
             "#bd3786"
            ],
            [
             0.5555555555555556,
             "#d8576b"
            ],
            [
             0.6666666666666666,
             "#ed7953"
            ],
            [
             0.7777777777777778,
             "#fb9f3a"
            ],
            [
             0.8888888888888888,
             "#fdca26"
            ],
            [
             1,
             "#f0f921"
            ]
           ],
           "sequentialminus": [
            [
             0,
             "#0d0887"
            ],
            [
             0.1111111111111111,
             "#46039f"
            ],
            [
             0.2222222222222222,
             "#7201a8"
            ],
            [
             0.3333333333333333,
             "#9c179e"
            ],
            [
             0.4444444444444444,
             "#bd3786"
            ],
            [
             0.5555555555555556,
             "#d8576b"
            ],
            [
             0.6666666666666666,
             "#ed7953"
            ],
            [
             0.7777777777777778,
             "#fb9f3a"
            ],
            [
             0.8888888888888888,
             "#fdca26"
            ],
            [
             1,
             "#f0f921"
            ]
           ]
          },
          "colorway": [
           "#636efa",
           "#EF553B",
           "#00cc96",
           "#ab63fa",
           "#FFA15A",
           "#19d3f3",
           "#FF6692",
           "#B6E880",
           "#FF97FF",
           "#FECB52"
          ],
          "font": {
           "color": "#2a3f5f"
          },
          "geo": {
           "bgcolor": "white",
           "lakecolor": "white",
           "landcolor": "#E5ECF6",
           "showlakes": true,
           "showland": true,
           "subunitcolor": "white"
          },
          "hoverlabel": {
           "align": "left"
          },
          "hovermode": "closest",
          "mapbox": {
           "style": "light"
          },
          "paper_bgcolor": "white",
          "plot_bgcolor": "#E5ECF6",
          "polar": {
           "angularaxis": {
            "gridcolor": "white",
            "linecolor": "white",
            "ticks": ""
           },
           "bgcolor": "#E5ECF6",
           "radialaxis": {
            "gridcolor": "white",
            "linecolor": "white",
            "ticks": ""
           }
          },
          "scene": {
           "xaxis": {
            "backgroundcolor": "#E5ECF6",
            "gridcolor": "white",
            "gridwidth": 2,
            "linecolor": "white",
            "showbackground": true,
            "ticks": "",
            "zerolinecolor": "white"
           },
           "yaxis": {
            "backgroundcolor": "#E5ECF6",
            "gridcolor": "white",
            "gridwidth": 2,
            "linecolor": "white",
            "showbackground": true,
            "ticks": "",
            "zerolinecolor": "white"
           },
           "zaxis": {
            "backgroundcolor": "#E5ECF6",
            "gridcolor": "white",
            "gridwidth": 2,
            "linecolor": "white",
            "showbackground": true,
            "ticks": "",
            "zerolinecolor": "white"
           }
          },
          "shapedefaults": {
           "line": {
            "color": "#2a3f5f"
           }
          },
          "ternary": {
           "aaxis": {
            "gridcolor": "white",
            "linecolor": "white",
            "ticks": ""
           },
           "baxis": {
            "gridcolor": "white",
            "linecolor": "white",
            "ticks": ""
           },
           "bgcolor": "#E5ECF6",
           "caxis": {
            "gridcolor": "white",
            "linecolor": "white",
            "ticks": ""
           }
          },
          "title": {
           "x": 0.05
          },
          "xaxis": {
           "automargin": true,
           "gridcolor": "white",
           "linecolor": "white",
           "ticks": "",
           "title": {
            "standoff": 15
           },
           "zerolinecolor": "white",
           "zerolinewidth": 2
          },
          "yaxis": {
           "automargin": true,
           "gridcolor": "white",
           "linecolor": "white",
           "ticks": "",
           "title": {
            "standoff": 15
           },
           "zerolinecolor": "white",
           "zerolinewidth": 2
          }
         }
        },
        "xaxis": {
         "anchor": "y",
         "domain": [
          0,
          1
         ],
         "title": {
          "text": "loan_status"
         }
        },
        "yaxis": {
         "anchor": "x",
         "domain": [
          0,
          1
         ],
         "title": {
          "text": "count"
         }
        }
       }
      },
      "text/html": [
       "<div>                            <div id=\"fa5b7ef8-fc25-4073-8d93-e4f41990b78d\" class=\"plotly-graph-div\" style=\"height:525px; width:100%;\"></div>            <script type=\"text/javascript\">                require([\"plotly\"], function(Plotly) {                    window.PLOTLYENV=window.PLOTLYENV || {};                                    if (document.getElementById(\"fa5b7ef8-fc25-4073-8d93-e4f41990b78d\")) {                    Plotly.newPlot(                        \"fa5b7ef8-fc25-4073-8d93-e4f41990b78d\",                        [{\"alignmentgroup\":\"True\",\"bingroup\":\"x\",\"hovertemplate\":\"terms=30<br>loan_status=%{x}<br>count=%{y}<extra></extra>\",\"legendgroup\":\"30\",\"marker\":{\"color\":\"#636efa\",\"pattern\":{\"shape\":\"\"}},\"name\":\"30\",\"offsetgroup\":\"30\",\"orientation\":\"v\",\"showlegend\":true,\"x\":[\"PAIDOFF\",\"PAIDOFF\",\"PAIDOFF\",\"PAIDOFF\",\"PAIDOFF\",\"PAIDOFF\",\"PAIDOFF\",\"PAIDOFF\",\"PAIDOFF\",\"PAIDOFF\",\"PAIDOFF\",\"PAIDOFF\",\"PAIDOFF\",\"PAIDOFF\",\"PAIDOFF\",\"PAIDOFF\",\"PAIDOFF\",\"PAIDOFF\",\"PAIDOFF\",\"PAIDOFF\",\"PAIDOFF\",\"PAIDOFF\",\"PAIDOFF\",\"PAIDOFF\",\"PAIDOFF\",\"PAIDOFF\",\"PAIDOFF\",\"PAIDOFF\",\"PAIDOFF\",\"PAIDOFF\",\"PAIDOFF\",\"PAIDOFF\",\"PAIDOFF\",\"PAIDOFF\",\"PAIDOFF\",\"PAIDOFF\",\"PAIDOFF\",\"PAIDOFF\",\"PAIDOFF\",\"PAIDOFF\",\"PAIDOFF\",\"PAIDOFF\",\"PAIDOFF\",\"PAIDOFF\",\"PAIDOFF\",\"PAIDOFF\",\"PAIDOFF\",\"PAIDOFF\",\"PAIDOFF\",\"PAIDOFF\",\"PAIDOFF\",\"PAIDOFF\",\"PAIDOFF\",\"PAIDOFF\",\"PAIDOFF\",\"PAIDOFF\",\"PAIDOFF\",\"PAIDOFF\",\"PAIDOFF\",\"PAIDOFF\",\"PAIDOFF\",\"PAIDOFF\",\"PAIDOFF\",\"PAIDOFF\",\"PAIDOFF\",\"PAIDOFF\",\"PAIDOFF\",\"PAIDOFF\",\"PAIDOFF\",\"PAIDOFF\",\"PAIDOFF\",\"PAIDOFF\",\"PAIDOFF\",\"PAIDOFF\",\"PAIDOFF\",\"PAIDOFF\",\"PAIDOFF\",\"PAIDOFF\",\"PAIDOFF\",\"PAIDOFF\",\"PAIDOFF\",\"PAIDOFF\",\"PAIDOFF\",\"PAIDOFF\",\"PAIDOFF\",\"PAIDOFF\",\"PAIDOFF\",\"PAIDOFF\",\"PAIDOFF\",\"PAIDOFF\",\"PAIDOFF\",\"PAIDOFF\",\"PAIDOFF\",\"PAIDOFF\",\"PAIDOFF\",\"PAIDOFF\",\"PAIDOFF\",\"PAIDOFF\",\"PAIDOFF\",\"PAIDOFF\",\"PAIDOFF\",\"PAIDOFF\",\"PAIDOFF\",\"PAIDOFF\",\"PAIDOFF\",\"PAIDOFF\",\"PAIDOFF\",\"PAIDOFF\",\"PAIDOFF\",\"PAIDOFF\",\"PAIDOFF\",\"PAIDOFF\",\"PAIDOFF\",\"PAIDOFF\",\"PAIDOFF\",\"PAIDOFF\",\"PAIDOFF\",\"PAIDOFF\",\"PAIDOFF\",\"PAIDOFF\",\"PAIDOFF\",\"PAIDOFF\",\"PAIDOFF\",\"PAIDOFF\",\"PAIDOFF\",\"PAIDOFF\",\"PAIDOFF\",\"PAIDOFF\",\"PAIDOFF\",\"PAIDOFF\",\"PAIDOFF\",\"PAIDOFF\",\"COLLECTION\",\"COLLECTION\",\"COLLECTION\",\"COLLECTION\",\"COLLECTION\",\"COLLECTION\",\"COLLECTION\",\"COLLECTION\",\"COLLECTION\",\"COLLECTION\",\"COLLECTION\",\"COLLECTION\",\"COLLECTION\",\"COLLECTION\",\"COLLECTION\",\"COLLECTION\",\"COLLECTION\",\"COLLECTION\",\"COLLECTION\",\"COLLECTION\",\"COLLECTION\",\"COLLECTION\",\"COLLECTION\",\"COLLECTION\",\"COLLECTION\",\"COLLECTION\",\"COLLECTION\",\"COLLECTION\",\"COLLECTION\",\"COLLECTION\",\"COLLECTION\",\"COLLECTION\",\"COLLECTION\",\"COLLECTION\",\"COLLECTION\",\"COLLECTION\",\"COLLECTION\",\"COLLECTION\",\"COLLECTION\",\"COLLECTION\",\"COLLECTION\",\"COLLECTION\",\"COLLECTION\",\"COLLECTION\",\"COLLECTION\",\"COLLECTION\",\"COLLECTION\",\"COLLECTION\",\"COLLECTION\",\"COLLECTION\",\"COLLECTION\",\"COLLECTION\"],\"xaxis\":\"x\",\"yaxis\":\"y\",\"type\":\"histogram\"},{\"alignmentgroup\":\"True\",\"bingroup\":\"x\",\"hovertemplate\":\"terms=15<br>loan_status=%{x}<br>count=%{y}<extra></extra>\",\"legendgroup\":\"15\",\"marker\":{\"color\":\"#EF553B\",\"pattern\":{\"shape\":\"\"}},\"name\":\"15\",\"offsetgroup\":\"15\",\"orientation\":\"v\",\"showlegend\":true,\"x\":[\"PAIDOFF\",\"PAIDOFF\",\"PAIDOFF\",\"PAIDOFF\",\"PAIDOFF\",\"PAIDOFF\",\"PAIDOFF\",\"PAIDOFF\",\"PAIDOFF\",\"PAIDOFF\",\"PAIDOFF\",\"PAIDOFF\",\"PAIDOFF\",\"PAIDOFF\",\"PAIDOFF\",\"PAIDOFF\",\"PAIDOFF\",\"PAIDOFF\",\"PAIDOFF\",\"PAIDOFF\",\"PAIDOFF\",\"PAIDOFF\",\"PAIDOFF\",\"PAIDOFF\",\"PAIDOFF\",\"PAIDOFF\",\"PAIDOFF\",\"PAIDOFF\",\"PAIDOFF\",\"PAIDOFF\",\"PAIDOFF\",\"PAIDOFF\",\"PAIDOFF\",\"PAIDOFF\",\"PAIDOFF\",\"PAIDOFF\",\"PAIDOFF\",\"PAIDOFF\",\"PAIDOFF\",\"PAIDOFF\",\"PAIDOFF\",\"PAIDOFF\",\"PAIDOFF\",\"PAIDOFF\",\"PAIDOFF\",\"PAIDOFF\",\"PAIDOFF\",\"PAIDOFF\",\"PAIDOFF\",\"PAIDOFF\",\"PAIDOFF\",\"PAIDOFF\",\"PAIDOFF\",\"PAIDOFF\",\"PAIDOFF\",\"PAIDOFF\",\"PAIDOFF\",\"PAIDOFF\",\"PAIDOFF\",\"PAIDOFF\",\"PAIDOFF\",\"PAIDOFF\",\"PAIDOFF\",\"PAIDOFF\",\"PAIDOFF\",\"PAIDOFF\",\"PAIDOFF\",\"PAIDOFF\",\"PAIDOFF\",\"PAIDOFF\",\"PAIDOFF\",\"PAIDOFF\",\"PAIDOFF\",\"PAIDOFF\",\"PAIDOFF\",\"PAIDOFF\",\"PAIDOFF\",\"PAIDOFF\",\"PAIDOFF\",\"PAIDOFF\",\"PAIDOFF\",\"PAIDOFF\",\"PAIDOFF\",\"PAIDOFF\",\"PAIDOFF\",\"PAIDOFF\",\"PAIDOFF\",\"PAIDOFF\",\"PAIDOFF\",\"PAIDOFF\",\"PAIDOFF\",\"PAIDOFF\",\"PAIDOFF\",\"PAIDOFF\",\"PAIDOFF\",\"PAIDOFF\",\"PAIDOFF\",\"PAIDOFF\",\"PAIDOFF\",\"PAIDOFF\",\"PAIDOFF\",\"PAIDOFF\",\"PAIDOFF\",\"PAIDOFF\",\"PAIDOFF\",\"PAIDOFF\",\"PAIDOFF\",\"PAIDOFF\",\"PAIDOFF\",\"PAIDOFF\",\"PAIDOFF\",\"PAIDOFF\",\"PAIDOFF\",\"PAIDOFF\",\"COLLECTION\",\"COLLECTION\",\"COLLECTION\",\"COLLECTION\",\"COLLECTION\",\"COLLECTION\",\"COLLECTION\",\"COLLECTION\",\"COLLECTION\",\"COLLECTION\",\"COLLECTION\",\"COLLECTION\",\"COLLECTION\",\"COLLECTION\",\"COLLECTION\",\"COLLECTION\",\"COLLECTION\",\"COLLECTION\",\"COLLECTION\",\"COLLECTION\",\"COLLECTION\",\"COLLECTION\",\"COLLECTION\",\"COLLECTION\",\"COLLECTION\",\"COLLECTION\",\"COLLECTION\",\"COLLECTION\",\"COLLECTION\",\"COLLECTION\",\"COLLECTION\",\"COLLECTION\",\"COLLECTION\",\"COLLECTION\"],\"xaxis\":\"x\",\"yaxis\":\"y\",\"type\":\"histogram\"},{\"alignmentgroup\":\"True\",\"bingroup\":\"x\",\"hovertemplate\":\"terms=7<br>loan_status=%{x}<br>count=%{y}<extra></extra>\",\"legendgroup\":\"7\",\"marker\":{\"color\":\"#00cc96\",\"pattern\":{\"shape\":\"\"}},\"name\":\"7\",\"offsetgroup\":\"7\",\"orientation\":\"v\",\"showlegend\":true,\"x\":[\"PAIDOFF\",\"PAIDOFF\",\"PAIDOFF\",\"PAIDOFF\",\"PAIDOFF\",\"PAIDOFF\",\"PAIDOFF\",\"PAIDOFF\",\"PAIDOFF\",\"PAIDOFF\",\"PAIDOFF\",\"PAIDOFF\",\"PAIDOFF\",\"PAIDOFF\"],\"xaxis\":\"x\",\"yaxis\":\"y\",\"type\":\"histogram\"}],                        {\"template\":{\"data\":{\"histogram2dcontour\":[{\"type\":\"histogram2dcontour\",\"colorbar\":{\"outlinewidth\":0,\"ticks\":\"\"},\"colorscale\":[[0.0,\"#0d0887\"],[0.1111111111111111,\"#46039f\"],[0.2222222222222222,\"#7201a8\"],[0.3333333333333333,\"#9c179e\"],[0.4444444444444444,\"#bd3786\"],[0.5555555555555556,\"#d8576b\"],[0.6666666666666666,\"#ed7953\"],[0.7777777777777778,\"#fb9f3a\"],[0.8888888888888888,\"#fdca26\"],[1.0,\"#f0f921\"]]}],\"choropleth\":[{\"type\":\"choropleth\",\"colorbar\":{\"outlinewidth\":0,\"ticks\":\"\"}}],\"histogram2d\":[{\"type\":\"histogram2d\",\"colorbar\":{\"outlinewidth\":0,\"ticks\":\"\"},\"colorscale\":[[0.0,\"#0d0887\"],[0.1111111111111111,\"#46039f\"],[0.2222222222222222,\"#7201a8\"],[0.3333333333333333,\"#9c179e\"],[0.4444444444444444,\"#bd3786\"],[0.5555555555555556,\"#d8576b\"],[0.6666666666666666,\"#ed7953\"],[0.7777777777777778,\"#fb9f3a\"],[0.8888888888888888,\"#fdca26\"],[1.0,\"#f0f921\"]]}],\"heatmap\":[{\"type\":\"heatmap\",\"colorbar\":{\"outlinewidth\":0,\"ticks\":\"\"},\"colorscale\":[[0.0,\"#0d0887\"],[0.1111111111111111,\"#46039f\"],[0.2222222222222222,\"#7201a8\"],[0.3333333333333333,\"#9c179e\"],[0.4444444444444444,\"#bd3786\"],[0.5555555555555556,\"#d8576b\"],[0.6666666666666666,\"#ed7953\"],[0.7777777777777778,\"#fb9f3a\"],[0.8888888888888888,\"#fdca26\"],[1.0,\"#f0f921\"]]}],\"heatmapgl\":[{\"type\":\"heatmapgl\",\"colorbar\":{\"outlinewidth\":0,\"ticks\":\"\"},\"colorscale\":[[0.0,\"#0d0887\"],[0.1111111111111111,\"#46039f\"],[0.2222222222222222,\"#7201a8\"],[0.3333333333333333,\"#9c179e\"],[0.4444444444444444,\"#bd3786\"],[0.5555555555555556,\"#d8576b\"],[0.6666666666666666,\"#ed7953\"],[0.7777777777777778,\"#fb9f3a\"],[0.8888888888888888,\"#fdca26\"],[1.0,\"#f0f921\"]]}],\"contourcarpet\":[{\"type\":\"contourcarpet\",\"colorbar\":{\"outlinewidth\":0,\"ticks\":\"\"}}],\"contour\":[{\"type\":\"contour\",\"colorbar\":{\"outlinewidth\":0,\"ticks\":\"\"},\"colorscale\":[[0.0,\"#0d0887\"],[0.1111111111111111,\"#46039f\"],[0.2222222222222222,\"#7201a8\"],[0.3333333333333333,\"#9c179e\"],[0.4444444444444444,\"#bd3786\"],[0.5555555555555556,\"#d8576b\"],[0.6666666666666666,\"#ed7953\"],[0.7777777777777778,\"#fb9f3a\"],[0.8888888888888888,\"#fdca26\"],[1.0,\"#f0f921\"]]}],\"surface\":[{\"type\":\"surface\",\"colorbar\":{\"outlinewidth\":0,\"ticks\":\"\"},\"colorscale\":[[0.0,\"#0d0887\"],[0.1111111111111111,\"#46039f\"],[0.2222222222222222,\"#7201a8\"],[0.3333333333333333,\"#9c179e\"],[0.4444444444444444,\"#bd3786\"],[0.5555555555555556,\"#d8576b\"],[0.6666666666666666,\"#ed7953\"],[0.7777777777777778,\"#fb9f3a\"],[0.8888888888888888,\"#fdca26\"],[1.0,\"#f0f921\"]]}],\"mesh3d\":[{\"type\":\"mesh3d\",\"colorbar\":{\"outlinewidth\":0,\"ticks\":\"\"}}],\"scatter\":[{\"fillpattern\":{\"fillmode\":\"overlay\",\"size\":10,\"solidity\":0.2},\"type\":\"scatter\"}],\"parcoords\":[{\"type\":\"parcoords\",\"line\":{\"colorbar\":{\"outlinewidth\":0,\"ticks\":\"\"}}}],\"scatterpolargl\":[{\"type\":\"scatterpolargl\",\"marker\":{\"colorbar\":{\"outlinewidth\":0,\"ticks\":\"\"}}}],\"bar\":[{\"error_x\":{\"color\":\"#2a3f5f\"},\"error_y\":{\"color\":\"#2a3f5f\"},\"marker\":{\"line\":{\"color\":\"#E5ECF6\",\"width\":0.5},\"pattern\":{\"fillmode\":\"overlay\",\"size\":10,\"solidity\":0.2}},\"type\":\"bar\"}],\"scattergeo\":[{\"type\":\"scattergeo\",\"marker\":{\"colorbar\":{\"outlinewidth\":0,\"ticks\":\"\"}}}],\"scatterpolar\":[{\"type\":\"scatterpolar\",\"marker\":{\"colorbar\":{\"outlinewidth\":0,\"ticks\":\"\"}}}],\"histogram\":[{\"marker\":{\"pattern\":{\"fillmode\":\"overlay\",\"size\":10,\"solidity\":0.2}},\"type\":\"histogram\"}],\"scattergl\":[{\"type\":\"scattergl\",\"marker\":{\"colorbar\":{\"outlinewidth\":0,\"ticks\":\"\"}}}],\"scatter3d\":[{\"type\":\"scatter3d\",\"line\":{\"colorbar\":{\"outlinewidth\":0,\"ticks\":\"\"}},\"marker\":{\"colorbar\":{\"outlinewidth\":0,\"ticks\":\"\"}}}],\"scattermapbox\":[{\"type\":\"scattermapbox\",\"marker\":{\"colorbar\":{\"outlinewidth\":0,\"ticks\":\"\"}}}],\"scatterternary\":[{\"type\":\"scatterternary\",\"marker\":{\"colorbar\":{\"outlinewidth\":0,\"ticks\":\"\"}}}],\"scattercarpet\":[{\"type\":\"scattercarpet\",\"marker\":{\"colorbar\":{\"outlinewidth\":0,\"ticks\":\"\"}}}],\"carpet\":[{\"aaxis\":{\"endlinecolor\":\"#2a3f5f\",\"gridcolor\":\"white\",\"linecolor\":\"white\",\"minorgridcolor\":\"white\",\"startlinecolor\":\"#2a3f5f\"},\"baxis\":{\"endlinecolor\":\"#2a3f5f\",\"gridcolor\":\"white\",\"linecolor\":\"white\",\"minorgridcolor\":\"white\",\"startlinecolor\":\"#2a3f5f\"},\"type\":\"carpet\"}],\"table\":[{\"cells\":{\"fill\":{\"color\":\"#EBF0F8\"},\"line\":{\"color\":\"white\"}},\"header\":{\"fill\":{\"color\":\"#C8D4E3\"},\"line\":{\"color\":\"white\"}},\"type\":\"table\"}],\"barpolar\":[{\"marker\":{\"line\":{\"color\":\"#E5ECF6\",\"width\":0.5},\"pattern\":{\"fillmode\":\"overlay\",\"size\":10,\"solidity\":0.2}},\"type\":\"barpolar\"}],\"pie\":[{\"automargin\":true,\"type\":\"pie\"}]},\"layout\":{\"autotypenumbers\":\"strict\",\"colorway\":[\"#636efa\",\"#EF553B\",\"#00cc96\",\"#ab63fa\",\"#FFA15A\",\"#19d3f3\",\"#FF6692\",\"#B6E880\",\"#FF97FF\",\"#FECB52\"],\"font\":{\"color\":\"#2a3f5f\"},\"hovermode\":\"closest\",\"hoverlabel\":{\"align\":\"left\"},\"paper_bgcolor\":\"white\",\"plot_bgcolor\":\"#E5ECF6\",\"polar\":{\"bgcolor\":\"#E5ECF6\",\"angularaxis\":{\"gridcolor\":\"white\",\"linecolor\":\"white\",\"ticks\":\"\"},\"radialaxis\":{\"gridcolor\":\"white\",\"linecolor\":\"white\",\"ticks\":\"\"}},\"ternary\":{\"bgcolor\":\"#E5ECF6\",\"aaxis\":{\"gridcolor\":\"white\",\"linecolor\":\"white\",\"ticks\":\"\"},\"baxis\":{\"gridcolor\":\"white\",\"linecolor\":\"white\",\"ticks\":\"\"},\"caxis\":{\"gridcolor\":\"white\",\"linecolor\":\"white\",\"ticks\":\"\"}},\"coloraxis\":{\"colorbar\":{\"outlinewidth\":0,\"ticks\":\"\"}},\"colorscale\":{\"sequential\":[[0.0,\"#0d0887\"],[0.1111111111111111,\"#46039f\"],[0.2222222222222222,\"#7201a8\"],[0.3333333333333333,\"#9c179e\"],[0.4444444444444444,\"#bd3786\"],[0.5555555555555556,\"#d8576b\"],[0.6666666666666666,\"#ed7953\"],[0.7777777777777778,\"#fb9f3a\"],[0.8888888888888888,\"#fdca26\"],[1.0,\"#f0f921\"]],\"sequentialminus\":[[0.0,\"#0d0887\"],[0.1111111111111111,\"#46039f\"],[0.2222222222222222,\"#7201a8\"],[0.3333333333333333,\"#9c179e\"],[0.4444444444444444,\"#bd3786\"],[0.5555555555555556,\"#d8576b\"],[0.6666666666666666,\"#ed7953\"],[0.7777777777777778,\"#fb9f3a\"],[0.8888888888888888,\"#fdca26\"],[1.0,\"#f0f921\"]],\"diverging\":[[0,\"#8e0152\"],[0.1,\"#c51b7d\"],[0.2,\"#de77ae\"],[0.3,\"#f1b6da\"],[0.4,\"#fde0ef\"],[0.5,\"#f7f7f7\"],[0.6,\"#e6f5d0\"],[0.7,\"#b8e186\"],[0.8,\"#7fbc41\"],[0.9,\"#4d9221\"],[1,\"#276419\"]]},\"xaxis\":{\"gridcolor\":\"white\",\"linecolor\":\"white\",\"ticks\":\"\",\"title\":{\"standoff\":15},\"zerolinecolor\":\"white\",\"automargin\":true,\"zerolinewidth\":2},\"yaxis\":{\"gridcolor\":\"white\",\"linecolor\":\"white\",\"ticks\":\"\",\"title\":{\"standoff\":15},\"zerolinecolor\":\"white\",\"automargin\":true,\"zerolinewidth\":2},\"scene\":{\"xaxis\":{\"backgroundcolor\":\"#E5ECF6\",\"gridcolor\":\"white\",\"linecolor\":\"white\",\"showbackground\":true,\"ticks\":\"\",\"zerolinecolor\":\"white\",\"gridwidth\":2},\"yaxis\":{\"backgroundcolor\":\"#E5ECF6\",\"gridcolor\":\"white\",\"linecolor\":\"white\",\"showbackground\":true,\"ticks\":\"\",\"zerolinecolor\":\"white\",\"gridwidth\":2},\"zaxis\":{\"backgroundcolor\":\"#E5ECF6\",\"gridcolor\":\"white\",\"linecolor\":\"white\",\"showbackground\":true,\"ticks\":\"\",\"zerolinecolor\":\"white\",\"gridwidth\":2}},\"shapedefaults\":{\"line\":{\"color\":\"#2a3f5f\"}},\"annotationdefaults\":{\"arrowcolor\":\"#2a3f5f\",\"arrowhead\":0,\"arrowwidth\":1},\"geo\":{\"bgcolor\":\"white\",\"landcolor\":\"#E5ECF6\",\"subunitcolor\":\"white\",\"showland\":true,\"showlakes\":true,\"lakecolor\":\"white\"},\"title\":{\"x\":0.05},\"mapbox\":{\"style\":\"light\"}}},\"xaxis\":{\"anchor\":\"y\",\"domain\":[0.0,1.0],\"title\":{\"text\":\"loan_status\"}},\"yaxis\":{\"anchor\":\"x\",\"domain\":[0.0,1.0],\"title\":{\"text\":\"count\"}},\"legend\":{\"title\":{\"text\":\"terms\"},\"tracegroupgap\":0},\"margin\":{\"t\":60},\"barmode\":\"relative\"},                        {\"responsive\": true}                    ).then(function(){\n",
       "                            \n",
       "var gd = document.getElementById('fa5b7ef8-fc25-4073-8d93-e4f41990b78d');\n",
       "var x = new MutationObserver(function (mutations, observer) {{\n",
       "        var display = window.getComputedStyle(gd).display;\n",
       "        if (!display || display === 'none') {{\n",
       "            console.log([gd, 'removed!']);\n",
       "            Plotly.purge(gd);\n",
       "            observer.disconnect();\n",
       "        }}\n",
       "}});\n",
       "\n",
       "// Listen for the removal of the full notebook cells\n",
       "var notebookContainer = gd.closest('#notebook-container');\n",
       "if (notebookContainer) {{\n",
       "    x.observe(notebookContainer, {childList: true});\n",
       "}}\n",
       "\n",
       "// Listen for the clearing of the current output cell\n",
       "var outputEl = gd.closest('.output');\n",
       "if (outputEl) {{\n",
       "    x.observe(outputEl, {childList: true});\n",
       "}}\n",
       "\n",
       "                        })                };                });            </script>        </div>"
      ]
     },
     "metadata": {},
     "output_type": "display_data"
    }
   ],
   "source": [
    "px.histogram(df, df.loan_status, color = 'terms')"
   ]
  },
  {
   "cell_type": "code",
   "execution_count": 436,
   "id": "7a91681e",
   "metadata": {},
   "outputs": [
    {
     "name": "stdout",
     "output_type": "stream",
     "text": [
      "Unique count per education:\n",
      "\n",
      "High School or Below    151\n",
      "college                 149\n",
      "Bechalor                 44\n",
      "Master or Above           2\n",
      "Name: education, dtype: int64\n"
     ]
    },
    {
     "data": {
      "application/vnd.plotly.v1+json": {
       "config": {
        "plotlyServerURL": "https://plot.ly"
       },
       "data": [
        {
         "alignmentgroup": "True",
         "hovertemplate": "education=High School or Below<br>loan_status=%{x}<br>age=%{y}<extra></extra>",
         "legendgroup": "High School or Below",
         "marker": {
          "color": "#636efa"
         },
         "name": "High School or Below",
         "notched": false,
         "offsetgroup": "High School or Below",
         "orientation": "v",
         "showlegend": true,
         "type": "box",
         "x": [
          "PAIDOFF",
          "PAIDOFF",
          "PAIDOFF",
          "PAIDOFF",
          "PAIDOFF",
          "PAIDOFF",
          "PAIDOFF",
          "PAIDOFF",
          "PAIDOFF",
          "PAIDOFF",
          "PAIDOFF",
          "PAIDOFF",
          "PAIDOFF",
          "PAIDOFF",
          "PAIDOFF",
          "PAIDOFF",
          "PAIDOFF",
          "PAIDOFF",
          "PAIDOFF",
          "PAIDOFF",
          "PAIDOFF",
          "PAIDOFF",
          "PAIDOFF",
          "PAIDOFF",
          "PAIDOFF",
          "PAIDOFF",
          "PAIDOFF",
          "PAIDOFF",
          "PAIDOFF",
          "PAIDOFF",
          "PAIDOFF",
          "PAIDOFF",
          "PAIDOFF",
          "PAIDOFF",
          "PAIDOFF",
          "PAIDOFF",
          "PAIDOFF",
          "PAIDOFF",
          "PAIDOFF",
          "PAIDOFF",
          "PAIDOFF",
          "PAIDOFF",
          "PAIDOFF",
          "PAIDOFF",
          "PAIDOFF",
          "PAIDOFF",
          "PAIDOFF",
          "PAIDOFF",
          "PAIDOFF",
          "PAIDOFF",
          "PAIDOFF",
          "PAIDOFF",
          "PAIDOFF",
          "PAIDOFF",
          "PAIDOFF",
          "PAIDOFF",
          "PAIDOFF",
          "PAIDOFF",
          "PAIDOFF",
          "PAIDOFF",
          "PAIDOFF",
          "PAIDOFF",
          "PAIDOFF",
          "PAIDOFF",
          "PAIDOFF",
          "PAIDOFF",
          "PAIDOFF",
          "PAIDOFF",
          "PAIDOFF",
          "PAIDOFF",
          "PAIDOFF",
          "PAIDOFF",
          "PAIDOFF",
          "PAIDOFF",
          "PAIDOFF",
          "PAIDOFF",
          "PAIDOFF",
          "PAIDOFF",
          "PAIDOFF",
          "PAIDOFF",
          "PAIDOFF",
          "PAIDOFF",
          "PAIDOFF",
          "PAIDOFF",
          "PAIDOFF",
          "PAIDOFF",
          "PAIDOFF",
          "PAIDOFF",
          "PAIDOFF",
          "PAIDOFF",
          "PAIDOFF",
          "PAIDOFF",
          "PAIDOFF",
          "PAIDOFF",
          "PAIDOFF",
          "PAIDOFF",
          "PAIDOFF",
          "PAIDOFF",
          "PAIDOFF",
          "PAIDOFF",
          "PAIDOFF",
          "PAIDOFF",
          "PAIDOFF",
          "PAIDOFF",
          "PAIDOFF",
          "PAIDOFF",
          "PAIDOFF",
          "PAIDOFF",
          "PAIDOFF",
          "PAIDOFF",
          "PAIDOFF",
          "PAIDOFF",
          "COLLECTION",
          "COLLECTION",
          "COLLECTION",
          "COLLECTION",
          "COLLECTION",
          "COLLECTION",
          "COLLECTION",
          "COLLECTION",
          "COLLECTION",
          "COLLECTION",
          "COLLECTION",
          "COLLECTION",
          "COLLECTION",
          "COLLECTION",
          "COLLECTION",
          "COLLECTION",
          "COLLECTION",
          "COLLECTION",
          "COLLECTION",
          "COLLECTION",
          "COLLECTION",
          "COLLECTION",
          "COLLECTION",
          "COLLECTION",
          "COLLECTION",
          "COLLECTION",
          "COLLECTION",
          "COLLECTION",
          "COLLECTION",
          "COLLECTION",
          "COLLECTION",
          "COLLECTION",
          "COLLECTION",
          "COLLECTION",
          "COLLECTION",
          "COLLECTION",
          "COLLECTION",
          "COLLECTION",
          "COLLECTION"
         ],
         "x0": " ",
         "xaxis": "x",
         "y": [
          45,
          39,
          27,
          40,
          32,
          32,
          25,
          29,
          33,
          27,
          35,
          22,
          50,
          34,
          21,
          27,
          44,
          34,
          37,
          29,
          30,
          44,
          28,
          24,
          46,
          38,
          27,
          33,
          22,
          45,
          31,
          31,
          25,
          23,
          22,
          28,
          43,
          26,
          43,
          26,
          30,
          32,
          47,
          20,
          28,
          30,
          36,
          29,
          27,
          24,
          28,
          25,
          24,
          35,
          38,
          35,
          39,
          38,
          21,
          31,
          29,
          35,
          30,
          27,
          31,
          34,
          30,
          25,
          27,
          29,
          26,
          23,
          39,
          27,
          30,
          33,
          27,
          35,
          50,
          31,
          31,
          29,
          30,
          26,
          25,
          26,
          36,
          33,
          30,
          36,
          32,
          29,
          30,
          19,
          34,
          35,
          22,
          19,
          29,
          30,
          24,
          42,
          29,
          35,
          37,
          42,
          30,
          28,
          41,
          37,
          29,
          40,
          37,
          40,
          27,
          30,
          29,
          28,
          21,
          30,
          34,
          23,
          39,
          30,
          23,
          27,
          31,
          26,
          35,
          41,
          37,
          45,
          28,
          29,
          26,
          27,
          33,
          25,
          40,
          26,
          25,
          35,
          26,
          29,
          26,
          46,
          36,
          32,
          35,
          32,
          25
         ],
         "y0": " ",
         "yaxis": "y"
        },
        {
         "alignmentgroup": "True",
         "hovertemplate": "education=Bechalor<br>loan_status=%{x}<br>age=%{y}<extra></extra>",
         "legendgroup": "Bechalor",
         "marker": {
          "color": "#EF553B"
         },
         "name": "Bechalor",
         "notched": false,
         "offsetgroup": "Bechalor",
         "orientation": "v",
         "showlegend": true,
         "type": "box",
         "x": [
          "PAIDOFF",
          "PAIDOFF",
          "PAIDOFF",
          "PAIDOFF",
          "PAIDOFF",
          "PAIDOFF",
          "PAIDOFF",
          "PAIDOFF",
          "PAIDOFF",
          "PAIDOFF",
          "PAIDOFF",
          "PAIDOFF",
          "PAIDOFF",
          "PAIDOFF",
          "PAIDOFF",
          "PAIDOFF",
          "PAIDOFF",
          "PAIDOFF",
          "PAIDOFF",
          "PAIDOFF",
          "PAIDOFF",
          "PAIDOFF",
          "PAIDOFF",
          "PAIDOFF",
          "PAIDOFF",
          "PAIDOFF",
          "PAIDOFF",
          "PAIDOFF",
          "PAIDOFF",
          "PAIDOFF",
          "PAIDOFF",
          "PAIDOFF",
          "PAIDOFF",
          "COLLECTION",
          "COLLECTION",
          "COLLECTION",
          "COLLECTION",
          "COLLECTION",
          "COLLECTION",
          "COLLECTION",
          "COLLECTION",
          "COLLECTION",
          "COLLECTION",
          "COLLECTION"
         ],
         "x0": " ",
         "xaxis": "x",
         "y": [
          33,
          39,
          34,
          21,
          31,
          24,
          35,
          35,
          26,
          34,
          28,
          43,
          33,
          31,
          35,
          34,
          38,
          26,
          35,
          31,
          26,
          33,
          37,
          36,
          35,
          34,
          31,
          30,
          28,
          24,
          34,
          34,
          36,
          24,
          22,
          24,
          28,
          35,
          44,
          38,
          26,
          28,
          30,
          38
         ],
         "y0": " ",
         "yaxis": "y"
        },
        {
         "alignmentgroup": "True",
         "hovertemplate": "education=college<br>loan_status=%{x}<br>age=%{y}<extra></extra>",
         "legendgroup": "college",
         "marker": {
          "color": "#00cc96"
         },
         "name": "college",
         "notched": false,
         "offsetgroup": "college",
         "orientation": "v",
         "showlegend": true,
         "type": "box",
         "x": [
          "PAIDOFF",
          "PAIDOFF",
          "PAIDOFF",
          "PAIDOFF",
          "PAIDOFF",
          "PAIDOFF",
          "PAIDOFF",
          "PAIDOFF",
          "PAIDOFF",
          "PAIDOFF",
          "PAIDOFF",
          "PAIDOFF",
          "PAIDOFF",
          "PAIDOFF",
          "PAIDOFF",
          "PAIDOFF",
          "PAIDOFF",
          "PAIDOFF",
          "PAIDOFF",
          "PAIDOFF",
          "PAIDOFF",
          "PAIDOFF",
          "PAIDOFF",
          "PAIDOFF",
          "PAIDOFF",
          "PAIDOFF",
          "PAIDOFF",
          "PAIDOFF",
          "PAIDOFF",
          "PAIDOFF",
          "PAIDOFF",
          "PAIDOFF",
          "PAIDOFF",
          "PAIDOFF",
          "PAIDOFF",
          "PAIDOFF",
          "PAIDOFF",
          "PAIDOFF",
          "PAIDOFF",
          "PAIDOFF",
          "PAIDOFF",
          "PAIDOFF",
          "PAIDOFF",
          "PAIDOFF",
          "PAIDOFF",
          "PAIDOFF",
          "PAIDOFF",
          "PAIDOFF",
          "PAIDOFF",
          "PAIDOFF",
          "PAIDOFF",
          "PAIDOFF",
          "PAIDOFF",
          "PAIDOFF",
          "PAIDOFF",
          "PAIDOFF",
          "PAIDOFF",
          "PAIDOFF",
          "PAIDOFF",
          "PAIDOFF",
          "PAIDOFF",
          "PAIDOFF",
          "PAIDOFF",
          "PAIDOFF",
          "PAIDOFF",
          "PAIDOFF",
          "PAIDOFF",
          "PAIDOFF",
          "PAIDOFF",
          "PAIDOFF",
          "PAIDOFF",
          "PAIDOFF",
          "PAIDOFF",
          "PAIDOFF",
          "PAIDOFF",
          "PAIDOFF",
          "PAIDOFF",
          "PAIDOFF",
          "PAIDOFF",
          "PAIDOFF",
          "PAIDOFF",
          "PAIDOFF",
          "PAIDOFF",
          "PAIDOFF",
          "PAIDOFF",
          "PAIDOFF",
          "PAIDOFF",
          "PAIDOFF",
          "PAIDOFF",
          "PAIDOFF",
          "PAIDOFF",
          "PAIDOFF",
          "PAIDOFF",
          "PAIDOFF",
          "PAIDOFF",
          "PAIDOFF",
          "PAIDOFF",
          "PAIDOFF",
          "PAIDOFF",
          "PAIDOFF",
          "PAIDOFF",
          "PAIDOFF",
          "PAIDOFF",
          "PAIDOFF",
          "PAIDOFF",
          "PAIDOFF",
          "PAIDOFF",
          "PAIDOFF",
          "PAIDOFF",
          "PAIDOFF",
          "PAIDOFF",
          "PAIDOFF",
          "PAIDOFF",
          "PAIDOFF",
          "COLLECTION",
          "COLLECTION",
          "COLLECTION",
          "COLLECTION",
          "COLLECTION",
          "COLLECTION",
          "COLLECTION",
          "COLLECTION",
          "COLLECTION",
          "COLLECTION",
          "COLLECTION",
          "COLLECTION",
          "COLLECTION",
          "COLLECTION",
          "COLLECTION",
          "COLLECTION",
          "COLLECTION",
          "COLLECTION",
          "COLLECTION",
          "COLLECTION",
          "COLLECTION",
          "COLLECTION",
          "COLLECTION",
          "COLLECTION",
          "COLLECTION",
          "COLLECTION",
          "COLLECTION",
          "COLLECTION",
          "COLLECTION",
          "COLLECTION",
          "COLLECTION",
          "COLLECTION",
          "COLLECTION",
          "COLLECTION",
          "COLLECTION"
         ],
         "x0": " ",
         "xaxis": "x",
         "y": [
          27,
          28,
          29,
          36,
          28,
          26,
          29,
          26,
          26,
          26,
          26,
          26,
          26,
          31,
          33,
          37,
          27,
          37,
          33,
          32,
          30,
          30,
          32,
          25,
          45,
          28,
          29,
          34,
          25,
          35,
          25,
          29,
          33,
          27,
          34,
          36,
          34,
          38,
          30,
          35,
          28,
          29,
          29,
          27,
          27,
          33,
          28,
          40,
          24,
          34,
          20,
          23,
          33,
          26,
          33,
          24,
          22,
          35,
          33,
          31,
          26,
          23,
          23,
          30,
          34,
          28,
          27,
          28,
          29,
          24,
          25,
          30,
          28,
          42,
          32,
          21,
          24,
          40,
          30,
          27,
          20,
          26,
          27,
          29,
          35,
          39,
          26,
          27,
          34,
          37,
          29,
          31,
          26,
          38,
          32,
          31,
          28,
          37,
          25,
          51,
          23,
          40,
          32,
          28,
          44,
          31,
          36,
          31,
          30,
          29,
          30,
          29,
          27,
          28,
          29,
          27,
          28,
          33,
          24,
          25,
          37,
          32,
          34,
          27,
          31,
          38,
          31,
          27,
          25,
          40,
          25,
          34,
          32,
          34,
          26,
          22,
          24,
          18,
          29,
          30,
          33,
          30,
          32,
          30,
          29,
          26,
          39,
          28,
          26
         ],
         "y0": " ",
         "yaxis": "y"
        },
        {
         "alignmentgroup": "True",
         "hovertemplate": "education=Master or Above<br>loan_status=%{x}<br>age=%{y}<extra></extra>",
         "legendgroup": "Master or Above",
         "marker": {
          "color": "#ab63fa"
         },
         "name": "Master or Above",
         "notched": false,
         "offsetgroup": "Master or Above",
         "orientation": "v",
         "showlegend": true,
         "type": "box",
         "x": [
          "PAIDOFF",
          "COLLECTION"
         ],
         "x0": " ",
         "xaxis": "x",
         "y": [
          39,
          50
         ],
         "y0": " ",
         "yaxis": "y"
        }
       ],
       "layout": {
        "boxmode": "group",
        "legend": {
         "title": {
          "text": "education"
         },
         "tracegroupgap": 0
        },
        "template": {
         "data": {
          "bar": [
           {
            "error_x": {
             "color": "#2a3f5f"
            },
            "error_y": {
             "color": "#2a3f5f"
            },
            "marker": {
             "line": {
              "color": "#E5ECF6",
              "width": 0.5
             },
             "pattern": {
              "fillmode": "overlay",
              "size": 10,
              "solidity": 0.2
             }
            },
            "type": "bar"
           }
          ],
          "barpolar": [
           {
            "marker": {
             "line": {
              "color": "#E5ECF6",
              "width": 0.5
             },
             "pattern": {
              "fillmode": "overlay",
              "size": 10,
              "solidity": 0.2
             }
            },
            "type": "barpolar"
           }
          ],
          "carpet": [
           {
            "aaxis": {
             "endlinecolor": "#2a3f5f",
             "gridcolor": "white",
             "linecolor": "white",
             "minorgridcolor": "white",
             "startlinecolor": "#2a3f5f"
            },
            "baxis": {
             "endlinecolor": "#2a3f5f",
             "gridcolor": "white",
             "linecolor": "white",
             "minorgridcolor": "white",
             "startlinecolor": "#2a3f5f"
            },
            "type": "carpet"
           }
          ],
          "choropleth": [
           {
            "colorbar": {
             "outlinewidth": 0,
             "ticks": ""
            },
            "type": "choropleth"
           }
          ],
          "contour": [
           {
            "colorbar": {
             "outlinewidth": 0,
             "ticks": ""
            },
            "colorscale": [
             [
              0,
              "#0d0887"
             ],
             [
              0.1111111111111111,
              "#46039f"
             ],
             [
              0.2222222222222222,
              "#7201a8"
             ],
             [
              0.3333333333333333,
              "#9c179e"
             ],
             [
              0.4444444444444444,
              "#bd3786"
             ],
             [
              0.5555555555555556,
              "#d8576b"
             ],
             [
              0.6666666666666666,
              "#ed7953"
             ],
             [
              0.7777777777777778,
              "#fb9f3a"
             ],
             [
              0.8888888888888888,
              "#fdca26"
             ],
             [
              1,
              "#f0f921"
             ]
            ],
            "type": "contour"
           }
          ],
          "contourcarpet": [
           {
            "colorbar": {
             "outlinewidth": 0,
             "ticks": ""
            },
            "type": "contourcarpet"
           }
          ],
          "heatmap": [
           {
            "colorbar": {
             "outlinewidth": 0,
             "ticks": ""
            },
            "colorscale": [
             [
              0,
              "#0d0887"
             ],
             [
              0.1111111111111111,
              "#46039f"
             ],
             [
              0.2222222222222222,
              "#7201a8"
             ],
             [
              0.3333333333333333,
              "#9c179e"
             ],
             [
              0.4444444444444444,
              "#bd3786"
             ],
             [
              0.5555555555555556,
              "#d8576b"
             ],
             [
              0.6666666666666666,
              "#ed7953"
             ],
             [
              0.7777777777777778,
              "#fb9f3a"
             ],
             [
              0.8888888888888888,
              "#fdca26"
             ],
             [
              1,
              "#f0f921"
             ]
            ],
            "type": "heatmap"
           }
          ],
          "heatmapgl": [
           {
            "colorbar": {
             "outlinewidth": 0,
             "ticks": ""
            },
            "colorscale": [
             [
              0,
              "#0d0887"
             ],
             [
              0.1111111111111111,
              "#46039f"
             ],
             [
              0.2222222222222222,
              "#7201a8"
             ],
             [
              0.3333333333333333,
              "#9c179e"
             ],
             [
              0.4444444444444444,
              "#bd3786"
             ],
             [
              0.5555555555555556,
              "#d8576b"
             ],
             [
              0.6666666666666666,
              "#ed7953"
             ],
             [
              0.7777777777777778,
              "#fb9f3a"
             ],
             [
              0.8888888888888888,
              "#fdca26"
             ],
             [
              1,
              "#f0f921"
             ]
            ],
            "type": "heatmapgl"
           }
          ],
          "histogram": [
           {
            "marker": {
             "pattern": {
              "fillmode": "overlay",
              "size": 10,
              "solidity": 0.2
             }
            },
            "type": "histogram"
           }
          ],
          "histogram2d": [
           {
            "colorbar": {
             "outlinewidth": 0,
             "ticks": ""
            },
            "colorscale": [
             [
              0,
              "#0d0887"
             ],
             [
              0.1111111111111111,
              "#46039f"
             ],
             [
              0.2222222222222222,
              "#7201a8"
             ],
             [
              0.3333333333333333,
              "#9c179e"
             ],
             [
              0.4444444444444444,
              "#bd3786"
             ],
             [
              0.5555555555555556,
              "#d8576b"
             ],
             [
              0.6666666666666666,
              "#ed7953"
             ],
             [
              0.7777777777777778,
              "#fb9f3a"
             ],
             [
              0.8888888888888888,
              "#fdca26"
             ],
             [
              1,
              "#f0f921"
             ]
            ],
            "type": "histogram2d"
           }
          ],
          "histogram2dcontour": [
           {
            "colorbar": {
             "outlinewidth": 0,
             "ticks": ""
            },
            "colorscale": [
             [
              0,
              "#0d0887"
             ],
             [
              0.1111111111111111,
              "#46039f"
             ],
             [
              0.2222222222222222,
              "#7201a8"
             ],
             [
              0.3333333333333333,
              "#9c179e"
             ],
             [
              0.4444444444444444,
              "#bd3786"
             ],
             [
              0.5555555555555556,
              "#d8576b"
             ],
             [
              0.6666666666666666,
              "#ed7953"
             ],
             [
              0.7777777777777778,
              "#fb9f3a"
             ],
             [
              0.8888888888888888,
              "#fdca26"
             ],
             [
              1,
              "#f0f921"
             ]
            ],
            "type": "histogram2dcontour"
           }
          ],
          "mesh3d": [
           {
            "colorbar": {
             "outlinewidth": 0,
             "ticks": ""
            },
            "type": "mesh3d"
           }
          ],
          "parcoords": [
           {
            "line": {
             "colorbar": {
              "outlinewidth": 0,
              "ticks": ""
             }
            },
            "type": "parcoords"
           }
          ],
          "pie": [
           {
            "automargin": true,
            "type": "pie"
           }
          ],
          "scatter": [
           {
            "fillpattern": {
             "fillmode": "overlay",
             "size": 10,
             "solidity": 0.2
            },
            "type": "scatter"
           }
          ],
          "scatter3d": [
           {
            "line": {
             "colorbar": {
              "outlinewidth": 0,
              "ticks": ""
             }
            },
            "marker": {
             "colorbar": {
              "outlinewidth": 0,
              "ticks": ""
             }
            },
            "type": "scatter3d"
           }
          ],
          "scattercarpet": [
           {
            "marker": {
             "colorbar": {
              "outlinewidth": 0,
              "ticks": ""
             }
            },
            "type": "scattercarpet"
           }
          ],
          "scattergeo": [
           {
            "marker": {
             "colorbar": {
              "outlinewidth": 0,
              "ticks": ""
             }
            },
            "type": "scattergeo"
           }
          ],
          "scattergl": [
           {
            "marker": {
             "colorbar": {
              "outlinewidth": 0,
              "ticks": ""
             }
            },
            "type": "scattergl"
           }
          ],
          "scattermapbox": [
           {
            "marker": {
             "colorbar": {
              "outlinewidth": 0,
              "ticks": ""
             }
            },
            "type": "scattermapbox"
           }
          ],
          "scatterpolar": [
           {
            "marker": {
             "colorbar": {
              "outlinewidth": 0,
              "ticks": ""
             }
            },
            "type": "scatterpolar"
           }
          ],
          "scatterpolargl": [
           {
            "marker": {
             "colorbar": {
              "outlinewidth": 0,
              "ticks": ""
             }
            },
            "type": "scatterpolargl"
           }
          ],
          "scatterternary": [
           {
            "marker": {
             "colorbar": {
              "outlinewidth": 0,
              "ticks": ""
             }
            },
            "type": "scatterternary"
           }
          ],
          "surface": [
           {
            "colorbar": {
             "outlinewidth": 0,
             "ticks": ""
            },
            "colorscale": [
             [
              0,
              "#0d0887"
             ],
             [
              0.1111111111111111,
              "#46039f"
             ],
             [
              0.2222222222222222,
              "#7201a8"
             ],
             [
              0.3333333333333333,
              "#9c179e"
             ],
             [
              0.4444444444444444,
              "#bd3786"
             ],
             [
              0.5555555555555556,
              "#d8576b"
             ],
             [
              0.6666666666666666,
              "#ed7953"
             ],
             [
              0.7777777777777778,
              "#fb9f3a"
             ],
             [
              0.8888888888888888,
              "#fdca26"
             ],
             [
              1,
              "#f0f921"
             ]
            ],
            "type": "surface"
           }
          ],
          "table": [
           {
            "cells": {
             "fill": {
              "color": "#EBF0F8"
             },
             "line": {
              "color": "white"
             }
            },
            "header": {
             "fill": {
              "color": "#C8D4E3"
             },
             "line": {
              "color": "white"
             }
            },
            "type": "table"
           }
          ]
         },
         "layout": {
          "annotationdefaults": {
           "arrowcolor": "#2a3f5f",
           "arrowhead": 0,
           "arrowwidth": 1
          },
          "autotypenumbers": "strict",
          "coloraxis": {
           "colorbar": {
            "outlinewidth": 0,
            "ticks": ""
           }
          },
          "colorscale": {
           "diverging": [
            [
             0,
             "#8e0152"
            ],
            [
             0.1,
             "#c51b7d"
            ],
            [
             0.2,
             "#de77ae"
            ],
            [
             0.3,
             "#f1b6da"
            ],
            [
             0.4,
             "#fde0ef"
            ],
            [
             0.5,
             "#f7f7f7"
            ],
            [
             0.6,
             "#e6f5d0"
            ],
            [
             0.7,
             "#b8e186"
            ],
            [
             0.8,
             "#7fbc41"
            ],
            [
             0.9,
             "#4d9221"
            ],
            [
             1,
             "#276419"
            ]
           ],
           "sequential": [
            [
             0,
             "#0d0887"
            ],
            [
             0.1111111111111111,
             "#46039f"
            ],
            [
             0.2222222222222222,
             "#7201a8"
            ],
            [
             0.3333333333333333,
             "#9c179e"
            ],
            [
             0.4444444444444444,
             "#bd3786"
            ],
            [
             0.5555555555555556,
             "#d8576b"
            ],
            [
             0.6666666666666666,
             "#ed7953"
            ],
            [
             0.7777777777777778,
             "#fb9f3a"
            ],
            [
             0.8888888888888888,
             "#fdca26"
            ],
            [
             1,
             "#f0f921"
            ]
           ],
           "sequentialminus": [
            [
             0,
             "#0d0887"
            ],
            [
             0.1111111111111111,
             "#46039f"
            ],
            [
             0.2222222222222222,
             "#7201a8"
            ],
            [
             0.3333333333333333,
             "#9c179e"
            ],
            [
             0.4444444444444444,
             "#bd3786"
            ],
            [
             0.5555555555555556,
             "#d8576b"
            ],
            [
             0.6666666666666666,
             "#ed7953"
            ],
            [
             0.7777777777777778,
             "#fb9f3a"
            ],
            [
             0.8888888888888888,
             "#fdca26"
            ],
            [
             1,
             "#f0f921"
            ]
           ]
          },
          "colorway": [
           "#636efa",
           "#EF553B",
           "#00cc96",
           "#ab63fa",
           "#FFA15A",
           "#19d3f3",
           "#FF6692",
           "#B6E880",
           "#FF97FF",
           "#FECB52"
          ],
          "font": {
           "color": "#2a3f5f"
          },
          "geo": {
           "bgcolor": "white",
           "lakecolor": "white",
           "landcolor": "#E5ECF6",
           "showlakes": true,
           "showland": true,
           "subunitcolor": "white"
          },
          "hoverlabel": {
           "align": "left"
          },
          "hovermode": "closest",
          "mapbox": {
           "style": "light"
          },
          "paper_bgcolor": "white",
          "plot_bgcolor": "#E5ECF6",
          "polar": {
           "angularaxis": {
            "gridcolor": "white",
            "linecolor": "white",
            "ticks": ""
           },
           "bgcolor": "#E5ECF6",
           "radialaxis": {
            "gridcolor": "white",
            "linecolor": "white",
            "ticks": ""
           }
          },
          "scene": {
           "xaxis": {
            "backgroundcolor": "#E5ECF6",
            "gridcolor": "white",
            "gridwidth": 2,
            "linecolor": "white",
            "showbackground": true,
            "ticks": "",
            "zerolinecolor": "white"
           },
           "yaxis": {
            "backgroundcolor": "#E5ECF6",
            "gridcolor": "white",
            "gridwidth": 2,
            "linecolor": "white",
            "showbackground": true,
            "ticks": "",
            "zerolinecolor": "white"
           },
           "zaxis": {
            "backgroundcolor": "#E5ECF6",
            "gridcolor": "white",
            "gridwidth": 2,
            "linecolor": "white",
            "showbackground": true,
            "ticks": "",
            "zerolinecolor": "white"
           }
          },
          "shapedefaults": {
           "line": {
            "color": "#2a3f5f"
           }
          },
          "ternary": {
           "aaxis": {
            "gridcolor": "white",
            "linecolor": "white",
            "ticks": ""
           },
           "baxis": {
            "gridcolor": "white",
            "linecolor": "white",
            "ticks": ""
           },
           "bgcolor": "#E5ECF6",
           "caxis": {
            "gridcolor": "white",
            "linecolor": "white",
            "ticks": ""
           }
          },
          "title": {
           "x": 0.05
          },
          "xaxis": {
           "automargin": true,
           "gridcolor": "white",
           "linecolor": "white",
           "ticks": "",
           "title": {
            "standoff": 15
           },
           "zerolinecolor": "white",
           "zerolinewidth": 2
          },
          "yaxis": {
           "automargin": true,
           "gridcolor": "white",
           "linecolor": "white",
           "ticks": "",
           "title": {
            "standoff": 15
           },
           "zerolinecolor": "white",
           "zerolinewidth": 2
          }
         }
        },
        "title": {
         "text": "Box plot per Education: Loan Status vs Age"
        },
        "xaxis": {
         "anchor": "y",
         "domain": [
          0,
          1
         ],
         "title": {
          "text": "loan_status"
         }
        },
        "yaxis": {
         "anchor": "x",
         "domain": [
          0,
          1
         ],
         "title": {
          "text": "age"
         }
        }
       }
      },
      "text/html": [
       "<div>                            <div id=\"4ce8858f-6877-469c-ad0e-3408e5e8c4a2\" class=\"plotly-graph-div\" style=\"height:525px; width:100%;\"></div>            <script type=\"text/javascript\">                require([\"plotly\"], function(Plotly) {                    window.PLOTLYENV=window.PLOTLYENV || {};                                    if (document.getElementById(\"4ce8858f-6877-469c-ad0e-3408e5e8c4a2\")) {                    Plotly.newPlot(                        \"4ce8858f-6877-469c-ad0e-3408e5e8c4a2\",                        [{\"alignmentgroup\":\"True\",\"hovertemplate\":\"education=High School or Below<br>loan_status=%{x}<br>age=%{y}<extra></extra>\",\"legendgroup\":\"High School or Below\",\"marker\":{\"color\":\"#636efa\"},\"name\":\"High School or Below\",\"notched\":false,\"offsetgroup\":\"High School or Below\",\"orientation\":\"v\",\"showlegend\":true,\"x\":[\"PAIDOFF\",\"PAIDOFF\",\"PAIDOFF\",\"PAIDOFF\",\"PAIDOFF\",\"PAIDOFF\",\"PAIDOFF\",\"PAIDOFF\",\"PAIDOFF\",\"PAIDOFF\",\"PAIDOFF\",\"PAIDOFF\",\"PAIDOFF\",\"PAIDOFF\",\"PAIDOFF\",\"PAIDOFF\",\"PAIDOFF\",\"PAIDOFF\",\"PAIDOFF\",\"PAIDOFF\",\"PAIDOFF\",\"PAIDOFF\",\"PAIDOFF\",\"PAIDOFF\",\"PAIDOFF\",\"PAIDOFF\",\"PAIDOFF\",\"PAIDOFF\",\"PAIDOFF\",\"PAIDOFF\",\"PAIDOFF\",\"PAIDOFF\",\"PAIDOFF\",\"PAIDOFF\",\"PAIDOFF\",\"PAIDOFF\",\"PAIDOFF\",\"PAIDOFF\",\"PAIDOFF\",\"PAIDOFF\",\"PAIDOFF\",\"PAIDOFF\",\"PAIDOFF\",\"PAIDOFF\",\"PAIDOFF\",\"PAIDOFF\",\"PAIDOFF\",\"PAIDOFF\",\"PAIDOFF\",\"PAIDOFF\",\"PAIDOFF\",\"PAIDOFF\",\"PAIDOFF\",\"PAIDOFF\",\"PAIDOFF\",\"PAIDOFF\",\"PAIDOFF\",\"PAIDOFF\",\"PAIDOFF\",\"PAIDOFF\",\"PAIDOFF\",\"PAIDOFF\",\"PAIDOFF\",\"PAIDOFF\",\"PAIDOFF\",\"PAIDOFF\",\"PAIDOFF\",\"PAIDOFF\",\"PAIDOFF\",\"PAIDOFF\",\"PAIDOFF\",\"PAIDOFF\",\"PAIDOFF\",\"PAIDOFF\",\"PAIDOFF\",\"PAIDOFF\",\"PAIDOFF\",\"PAIDOFF\",\"PAIDOFF\",\"PAIDOFF\",\"PAIDOFF\",\"PAIDOFF\",\"PAIDOFF\",\"PAIDOFF\",\"PAIDOFF\",\"PAIDOFF\",\"PAIDOFF\",\"PAIDOFF\",\"PAIDOFF\",\"PAIDOFF\",\"PAIDOFF\",\"PAIDOFF\",\"PAIDOFF\",\"PAIDOFF\",\"PAIDOFF\",\"PAIDOFF\",\"PAIDOFF\",\"PAIDOFF\",\"PAIDOFF\",\"PAIDOFF\",\"PAIDOFF\",\"PAIDOFF\",\"PAIDOFF\",\"PAIDOFF\",\"PAIDOFF\",\"PAIDOFF\",\"PAIDOFF\",\"PAIDOFF\",\"PAIDOFF\",\"PAIDOFF\",\"PAIDOFF\",\"PAIDOFF\",\"COLLECTION\",\"COLLECTION\",\"COLLECTION\",\"COLLECTION\",\"COLLECTION\",\"COLLECTION\",\"COLLECTION\",\"COLLECTION\",\"COLLECTION\",\"COLLECTION\",\"COLLECTION\",\"COLLECTION\",\"COLLECTION\",\"COLLECTION\",\"COLLECTION\",\"COLLECTION\",\"COLLECTION\",\"COLLECTION\",\"COLLECTION\",\"COLLECTION\",\"COLLECTION\",\"COLLECTION\",\"COLLECTION\",\"COLLECTION\",\"COLLECTION\",\"COLLECTION\",\"COLLECTION\",\"COLLECTION\",\"COLLECTION\",\"COLLECTION\",\"COLLECTION\",\"COLLECTION\",\"COLLECTION\",\"COLLECTION\",\"COLLECTION\",\"COLLECTION\",\"COLLECTION\",\"COLLECTION\",\"COLLECTION\"],\"x0\":\" \",\"xaxis\":\"x\",\"y\":[45,39,27,40,32,32,25,29,33,27,35,22,50,34,21,27,44,34,37,29,30,44,28,24,46,38,27,33,22,45,31,31,25,23,22,28,43,26,43,26,30,32,47,20,28,30,36,29,27,24,28,25,24,35,38,35,39,38,21,31,29,35,30,27,31,34,30,25,27,29,26,23,39,27,30,33,27,35,50,31,31,29,30,26,25,26,36,33,30,36,32,29,30,19,34,35,22,19,29,30,24,42,29,35,37,42,30,28,41,37,29,40,37,40,27,30,29,28,21,30,34,23,39,30,23,27,31,26,35,41,37,45,28,29,26,27,33,25,40,26,25,35,26,29,26,46,36,32,35,32,25],\"y0\":\" \",\"yaxis\":\"y\",\"type\":\"box\"},{\"alignmentgroup\":\"True\",\"hovertemplate\":\"education=Bechalor<br>loan_status=%{x}<br>age=%{y}<extra></extra>\",\"legendgroup\":\"Bechalor\",\"marker\":{\"color\":\"#EF553B\"},\"name\":\"Bechalor\",\"notched\":false,\"offsetgroup\":\"Bechalor\",\"orientation\":\"v\",\"showlegend\":true,\"x\":[\"PAIDOFF\",\"PAIDOFF\",\"PAIDOFF\",\"PAIDOFF\",\"PAIDOFF\",\"PAIDOFF\",\"PAIDOFF\",\"PAIDOFF\",\"PAIDOFF\",\"PAIDOFF\",\"PAIDOFF\",\"PAIDOFF\",\"PAIDOFF\",\"PAIDOFF\",\"PAIDOFF\",\"PAIDOFF\",\"PAIDOFF\",\"PAIDOFF\",\"PAIDOFF\",\"PAIDOFF\",\"PAIDOFF\",\"PAIDOFF\",\"PAIDOFF\",\"PAIDOFF\",\"PAIDOFF\",\"PAIDOFF\",\"PAIDOFF\",\"PAIDOFF\",\"PAIDOFF\",\"PAIDOFF\",\"PAIDOFF\",\"PAIDOFF\",\"PAIDOFF\",\"COLLECTION\",\"COLLECTION\",\"COLLECTION\",\"COLLECTION\",\"COLLECTION\",\"COLLECTION\",\"COLLECTION\",\"COLLECTION\",\"COLLECTION\",\"COLLECTION\",\"COLLECTION\"],\"x0\":\" \",\"xaxis\":\"x\",\"y\":[33,39,34,21,31,24,35,35,26,34,28,43,33,31,35,34,38,26,35,31,26,33,37,36,35,34,31,30,28,24,34,34,36,24,22,24,28,35,44,38,26,28,30,38],\"y0\":\" \",\"yaxis\":\"y\",\"type\":\"box\"},{\"alignmentgroup\":\"True\",\"hovertemplate\":\"education=college<br>loan_status=%{x}<br>age=%{y}<extra></extra>\",\"legendgroup\":\"college\",\"marker\":{\"color\":\"#00cc96\"},\"name\":\"college\",\"notched\":false,\"offsetgroup\":\"college\",\"orientation\":\"v\",\"showlegend\":true,\"x\":[\"PAIDOFF\",\"PAIDOFF\",\"PAIDOFF\",\"PAIDOFF\",\"PAIDOFF\",\"PAIDOFF\",\"PAIDOFF\",\"PAIDOFF\",\"PAIDOFF\",\"PAIDOFF\",\"PAIDOFF\",\"PAIDOFF\",\"PAIDOFF\",\"PAIDOFF\",\"PAIDOFF\",\"PAIDOFF\",\"PAIDOFF\",\"PAIDOFF\",\"PAIDOFF\",\"PAIDOFF\",\"PAIDOFF\",\"PAIDOFF\",\"PAIDOFF\",\"PAIDOFF\",\"PAIDOFF\",\"PAIDOFF\",\"PAIDOFF\",\"PAIDOFF\",\"PAIDOFF\",\"PAIDOFF\",\"PAIDOFF\",\"PAIDOFF\",\"PAIDOFF\",\"PAIDOFF\",\"PAIDOFF\",\"PAIDOFF\",\"PAIDOFF\",\"PAIDOFF\",\"PAIDOFF\",\"PAIDOFF\",\"PAIDOFF\",\"PAIDOFF\",\"PAIDOFF\",\"PAIDOFF\",\"PAIDOFF\",\"PAIDOFF\",\"PAIDOFF\",\"PAIDOFF\",\"PAIDOFF\",\"PAIDOFF\",\"PAIDOFF\",\"PAIDOFF\",\"PAIDOFF\",\"PAIDOFF\",\"PAIDOFF\",\"PAIDOFF\",\"PAIDOFF\",\"PAIDOFF\",\"PAIDOFF\",\"PAIDOFF\",\"PAIDOFF\",\"PAIDOFF\",\"PAIDOFF\",\"PAIDOFF\",\"PAIDOFF\",\"PAIDOFF\",\"PAIDOFF\",\"PAIDOFF\",\"PAIDOFF\",\"PAIDOFF\",\"PAIDOFF\",\"PAIDOFF\",\"PAIDOFF\",\"PAIDOFF\",\"PAIDOFF\",\"PAIDOFF\",\"PAIDOFF\",\"PAIDOFF\",\"PAIDOFF\",\"PAIDOFF\",\"PAIDOFF\",\"PAIDOFF\",\"PAIDOFF\",\"PAIDOFF\",\"PAIDOFF\",\"PAIDOFF\",\"PAIDOFF\",\"PAIDOFF\",\"PAIDOFF\",\"PAIDOFF\",\"PAIDOFF\",\"PAIDOFF\",\"PAIDOFF\",\"PAIDOFF\",\"PAIDOFF\",\"PAIDOFF\",\"PAIDOFF\",\"PAIDOFF\",\"PAIDOFF\",\"PAIDOFF\",\"PAIDOFF\",\"PAIDOFF\",\"PAIDOFF\",\"PAIDOFF\",\"PAIDOFF\",\"PAIDOFF\",\"PAIDOFF\",\"PAIDOFF\",\"PAIDOFF\",\"PAIDOFF\",\"PAIDOFF\",\"PAIDOFF\",\"PAIDOFF\",\"PAIDOFF\",\"COLLECTION\",\"COLLECTION\",\"COLLECTION\",\"COLLECTION\",\"COLLECTION\",\"COLLECTION\",\"COLLECTION\",\"COLLECTION\",\"COLLECTION\",\"COLLECTION\",\"COLLECTION\",\"COLLECTION\",\"COLLECTION\",\"COLLECTION\",\"COLLECTION\",\"COLLECTION\",\"COLLECTION\",\"COLLECTION\",\"COLLECTION\",\"COLLECTION\",\"COLLECTION\",\"COLLECTION\",\"COLLECTION\",\"COLLECTION\",\"COLLECTION\",\"COLLECTION\",\"COLLECTION\",\"COLLECTION\",\"COLLECTION\",\"COLLECTION\",\"COLLECTION\",\"COLLECTION\",\"COLLECTION\",\"COLLECTION\",\"COLLECTION\"],\"x0\":\" \",\"xaxis\":\"x\",\"y\":[27,28,29,36,28,26,29,26,26,26,26,26,26,31,33,37,27,37,33,32,30,30,32,25,45,28,29,34,25,35,25,29,33,27,34,36,34,38,30,35,28,29,29,27,27,33,28,40,24,34,20,23,33,26,33,24,22,35,33,31,26,23,23,30,34,28,27,28,29,24,25,30,28,42,32,21,24,40,30,27,20,26,27,29,35,39,26,27,34,37,29,31,26,38,32,31,28,37,25,51,23,40,32,28,44,31,36,31,30,29,30,29,27,28,29,27,28,33,24,25,37,32,34,27,31,38,31,27,25,40,25,34,32,34,26,22,24,18,29,30,33,30,32,30,29,26,39,28,26],\"y0\":\" \",\"yaxis\":\"y\",\"type\":\"box\"},{\"alignmentgroup\":\"True\",\"hovertemplate\":\"education=Master or Above<br>loan_status=%{x}<br>age=%{y}<extra></extra>\",\"legendgroup\":\"Master or Above\",\"marker\":{\"color\":\"#ab63fa\"},\"name\":\"Master or Above\",\"notched\":false,\"offsetgroup\":\"Master or Above\",\"orientation\":\"v\",\"showlegend\":true,\"x\":[\"PAIDOFF\",\"COLLECTION\"],\"x0\":\" \",\"xaxis\":\"x\",\"y\":[39,50],\"y0\":\" \",\"yaxis\":\"y\",\"type\":\"box\"}],                        {\"template\":{\"data\":{\"histogram2dcontour\":[{\"type\":\"histogram2dcontour\",\"colorbar\":{\"outlinewidth\":0,\"ticks\":\"\"},\"colorscale\":[[0.0,\"#0d0887\"],[0.1111111111111111,\"#46039f\"],[0.2222222222222222,\"#7201a8\"],[0.3333333333333333,\"#9c179e\"],[0.4444444444444444,\"#bd3786\"],[0.5555555555555556,\"#d8576b\"],[0.6666666666666666,\"#ed7953\"],[0.7777777777777778,\"#fb9f3a\"],[0.8888888888888888,\"#fdca26\"],[1.0,\"#f0f921\"]]}],\"choropleth\":[{\"type\":\"choropleth\",\"colorbar\":{\"outlinewidth\":0,\"ticks\":\"\"}}],\"histogram2d\":[{\"type\":\"histogram2d\",\"colorbar\":{\"outlinewidth\":0,\"ticks\":\"\"},\"colorscale\":[[0.0,\"#0d0887\"],[0.1111111111111111,\"#46039f\"],[0.2222222222222222,\"#7201a8\"],[0.3333333333333333,\"#9c179e\"],[0.4444444444444444,\"#bd3786\"],[0.5555555555555556,\"#d8576b\"],[0.6666666666666666,\"#ed7953\"],[0.7777777777777778,\"#fb9f3a\"],[0.8888888888888888,\"#fdca26\"],[1.0,\"#f0f921\"]]}],\"heatmap\":[{\"type\":\"heatmap\",\"colorbar\":{\"outlinewidth\":0,\"ticks\":\"\"},\"colorscale\":[[0.0,\"#0d0887\"],[0.1111111111111111,\"#46039f\"],[0.2222222222222222,\"#7201a8\"],[0.3333333333333333,\"#9c179e\"],[0.4444444444444444,\"#bd3786\"],[0.5555555555555556,\"#d8576b\"],[0.6666666666666666,\"#ed7953\"],[0.7777777777777778,\"#fb9f3a\"],[0.8888888888888888,\"#fdca26\"],[1.0,\"#f0f921\"]]}],\"heatmapgl\":[{\"type\":\"heatmapgl\",\"colorbar\":{\"outlinewidth\":0,\"ticks\":\"\"},\"colorscale\":[[0.0,\"#0d0887\"],[0.1111111111111111,\"#46039f\"],[0.2222222222222222,\"#7201a8\"],[0.3333333333333333,\"#9c179e\"],[0.4444444444444444,\"#bd3786\"],[0.5555555555555556,\"#d8576b\"],[0.6666666666666666,\"#ed7953\"],[0.7777777777777778,\"#fb9f3a\"],[0.8888888888888888,\"#fdca26\"],[1.0,\"#f0f921\"]]}],\"contourcarpet\":[{\"type\":\"contourcarpet\",\"colorbar\":{\"outlinewidth\":0,\"ticks\":\"\"}}],\"contour\":[{\"type\":\"contour\",\"colorbar\":{\"outlinewidth\":0,\"ticks\":\"\"},\"colorscale\":[[0.0,\"#0d0887\"],[0.1111111111111111,\"#46039f\"],[0.2222222222222222,\"#7201a8\"],[0.3333333333333333,\"#9c179e\"],[0.4444444444444444,\"#bd3786\"],[0.5555555555555556,\"#d8576b\"],[0.6666666666666666,\"#ed7953\"],[0.7777777777777778,\"#fb9f3a\"],[0.8888888888888888,\"#fdca26\"],[1.0,\"#f0f921\"]]}],\"surface\":[{\"type\":\"surface\",\"colorbar\":{\"outlinewidth\":0,\"ticks\":\"\"},\"colorscale\":[[0.0,\"#0d0887\"],[0.1111111111111111,\"#46039f\"],[0.2222222222222222,\"#7201a8\"],[0.3333333333333333,\"#9c179e\"],[0.4444444444444444,\"#bd3786\"],[0.5555555555555556,\"#d8576b\"],[0.6666666666666666,\"#ed7953\"],[0.7777777777777778,\"#fb9f3a\"],[0.8888888888888888,\"#fdca26\"],[1.0,\"#f0f921\"]]}],\"mesh3d\":[{\"type\":\"mesh3d\",\"colorbar\":{\"outlinewidth\":0,\"ticks\":\"\"}}],\"scatter\":[{\"fillpattern\":{\"fillmode\":\"overlay\",\"size\":10,\"solidity\":0.2},\"type\":\"scatter\"}],\"parcoords\":[{\"type\":\"parcoords\",\"line\":{\"colorbar\":{\"outlinewidth\":0,\"ticks\":\"\"}}}],\"scatterpolargl\":[{\"type\":\"scatterpolargl\",\"marker\":{\"colorbar\":{\"outlinewidth\":0,\"ticks\":\"\"}}}],\"bar\":[{\"error_x\":{\"color\":\"#2a3f5f\"},\"error_y\":{\"color\":\"#2a3f5f\"},\"marker\":{\"line\":{\"color\":\"#E5ECF6\",\"width\":0.5},\"pattern\":{\"fillmode\":\"overlay\",\"size\":10,\"solidity\":0.2}},\"type\":\"bar\"}],\"scattergeo\":[{\"type\":\"scattergeo\",\"marker\":{\"colorbar\":{\"outlinewidth\":0,\"ticks\":\"\"}}}],\"scatterpolar\":[{\"type\":\"scatterpolar\",\"marker\":{\"colorbar\":{\"outlinewidth\":0,\"ticks\":\"\"}}}],\"histogram\":[{\"marker\":{\"pattern\":{\"fillmode\":\"overlay\",\"size\":10,\"solidity\":0.2}},\"type\":\"histogram\"}],\"scattergl\":[{\"type\":\"scattergl\",\"marker\":{\"colorbar\":{\"outlinewidth\":0,\"ticks\":\"\"}}}],\"scatter3d\":[{\"type\":\"scatter3d\",\"line\":{\"colorbar\":{\"outlinewidth\":0,\"ticks\":\"\"}},\"marker\":{\"colorbar\":{\"outlinewidth\":0,\"ticks\":\"\"}}}],\"scattermapbox\":[{\"type\":\"scattermapbox\",\"marker\":{\"colorbar\":{\"outlinewidth\":0,\"ticks\":\"\"}}}],\"scatterternary\":[{\"type\":\"scatterternary\",\"marker\":{\"colorbar\":{\"outlinewidth\":0,\"ticks\":\"\"}}}],\"scattercarpet\":[{\"type\":\"scattercarpet\",\"marker\":{\"colorbar\":{\"outlinewidth\":0,\"ticks\":\"\"}}}],\"carpet\":[{\"aaxis\":{\"endlinecolor\":\"#2a3f5f\",\"gridcolor\":\"white\",\"linecolor\":\"white\",\"minorgridcolor\":\"white\",\"startlinecolor\":\"#2a3f5f\"},\"baxis\":{\"endlinecolor\":\"#2a3f5f\",\"gridcolor\":\"white\",\"linecolor\":\"white\",\"minorgridcolor\":\"white\",\"startlinecolor\":\"#2a3f5f\"},\"type\":\"carpet\"}],\"table\":[{\"cells\":{\"fill\":{\"color\":\"#EBF0F8\"},\"line\":{\"color\":\"white\"}},\"header\":{\"fill\":{\"color\":\"#C8D4E3\"},\"line\":{\"color\":\"white\"}},\"type\":\"table\"}],\"barpolar\":[{\"marker\":{\"line\":{\"color\":\"#E5ECF6\",\"width\":0.5},\"pattern\":{\"fillmode\":\"overlay\",\"size\":10,\"solidity\":0.2}},\"type\":\"barpolar\"}],\"pie\":[{\"automargin\":true,\"type\":\"pie\"}]},\"layout\":{\"autotypenumbers\":\"strict\",\"colorway\":[\"#636efa\",\"#EF553B\",\"#00cc96\",\"#ab63fa\",\"#FFA15A\",\"#19d3f3\",\"#FF6692\",\"#B6E880\",\"#FF97FF\",\"#FECB52\"],\"font\":{\"color\":\"#2a3f5f\"},\"hovermode\":\"closest\",\"hoverlabel\":{\"align\":\"left\"},\"paper_bgcolor\":\"white\",\"plot_bgcolor\":\"#E5ECF6\",\"polar\":{\"bgcolor\":\"#E5ECF6\",\"angularaxis\":{\"gridcolor\":\"white\",\"linecolor\":\"white\",\"ticks\":\"\"},\"radialaxis\":{\"gridcolor\":\"white\",\"linecolor\":\"white\",\"ticks\":\"\"}},\"ternary\":{\"bgcolor\":\"#E5ECF6\",\"aaxis\":{\"gridcolor\":\"white\",\"linecolor\":\"white\",\"ticks\":\"\"},\"baxis\":{\"gridcolor\":\"white\",\"linecolor\":\"white\",\"ticks\":\"\"},\"caxis\":{\"gridcolor\":\"white\",\"linecolor\":\"white\",\"ticks\":\"\"}},\"coloraxis\":{\"colorbar\":{\"outlinewidth\":0,\"ticks\":\"\"}},\"colorscale\":{\"sequential\":[[0.0,\"#0d0887\"],[0.1111111111111111,\"#46039f\"],[0.2222222222222222,\"#7201a8\"],[0.3333333333333333,\"#9c179e\"],[0.4444444444444444,\"#bd3786\"],[0.5555555555555556,\"#d8576b\"],[0.6666666666666666,\"#ed7953\"],[0.7777777777777778,\"#fb9f3a\"],[0.8888888888888888,\"#fdca26\"],[1.0,\"#f0f921\"]],\"sequentialminus\":[[0.0,\"#0d0887\"],[0.1111111111111111,\"#46039f\"],[0.2222222222222222,\"#7201a8\"],[0.3333333333333333,\"#9c179e\"],[0.4444444444444444,\"#bd3786\"],[0.5555555555555556,\"#d8576b\"],[0.6666666666666666,\"#ed7953\"],[0.7777777777777778,\"#fb9f3a\"],[0.8888888888888888,\"#fdca26\"],[1.0,\"#f0f921\"]],\"diverging\":[[0,\"#8e0152\"],[0.1,\"#c51b7d\"],[0.2,\"#de77ae\"],[0.3,\"#f1b6da\"],[0.4,\"#fde0ef\"],[0.5,\"#f7f7f7\"],[0.6,\"#e6f5d0\"],[0.7,\"#b8e186\"],[0.8,\"#7fbc41\"],[0.9,\"#4d9221\"],[1,\"#276419\"]]},\"xaxis\":{\"gridcolor\":\"white\",\"linecolor\":\"white\",\"ticks\":\"\",\"title\":{\"standoff\":15},\"zerolinecolor\":\"white\",\"automargin\":true,\"zerolinewidth\":2},\"yaxis\":{\"gridcolor\":\"white\",\"linecolor\":\"white\",\"ticks\":\"\",\"title\":{\"standoff\":15},\"zerolinecolor\":\"white\",\"automargin\":true,\"zerolinewidth\":2},\"scene\":{\"xaxis\":{\"backgroundcolor\":\"#E5ECF6\",\"gridcolor\":\"white\",\"linecolor\":\"white\",\"showbackground\":true,\"ticks\":\"\",\"zerolinecolor\":\"white\",\"gridwidth\":2},\"yaxis\":{\"backgroundcolor\":\"#E5ECF6\",\"gridcolor\":\"white\",\"linecolor\":\"white\",\"showbackground\":true,\"ticks\":\"\",\"zerolinecolor\":\"white\",\"gridwidth\":2},\"zaxis\":{\"backgroundcolor\":\"#E5ECF6\",\"gridcolor\":\"white\",\"linecolor\":\"white\",\"showbackground\":true,\"ticks\":\"\",\"zerolinecolor\":\"white\",\"gridwidth\":2}},\"shapedefaults\":{\"line\":{\"color\":\"#2a3f5f\"}},\"annotationdefaults\":{\"arrowcolor\":\"#2a3f5f\",\"arrowhead\":0,\"arrowwidth\":1},\"geo\":{\"bgcolor\":\"white\",\"landcolor\":\"#E5ECF6\",\"subunitcolor\":\"white\",\"showland\":true,\"showlakes\":true,\"lakecolor\":\"white\"},\"title\":{\"x\":0.05},\"mapbox\":{\"style\":\"light\"}}},\"xaxis\":{\"anchor\":\"y\",\"domain\":[0.0,1.0],\"title\":{\"text\":\"loan_status\"}},\"yaxis\":{\"anchor\":\"x\",\"domain\":[0.0,1.0],\"title\":{\"text\":\"age\"}},\"legend\":{\"title\":{\"text\":\"education\"},\"tracegroupgap\":0},\"title\":{\"text\":\"Box plot per Education: Loan Status vs Age\"},\"boxmode\":\"group\"},                        {\"responsive\": true}                    ).then(function(){\n",
       "                            \n",
       "var gd = document.getElementById('4ce8858f-6877-469c-ad0e-3408e5e8c4a2');\n",
       "var x = new MutationObserver(function (mutations, observer) {{\n",
       "        var display = window.getComputedStyle(gd).display;\n",
       "        if (!display || display === 'none') {{\n",
       "            console.log([gd, 'removed!']);\n",
       "            Plotly.purge(gd);\n",
       "            observer.disconnect();\n",
       "        }}\n",
       "}});\n",
       "\n",
       "// Listen for the removal of the full notebook cells\n",
       "var notebookContainer = gd.closest('#notebook-container');\n",
       "if (notebookContainer) {{\n",
       "    x.observe(notebookContainer, {childList: true});\n",
       "}}\n",
       "\n",
       "// Listen for the clearing of the current output cell\n",
       "var outputEl = gd.closest('.output');\n",
       "if (outputEl) {{\n",
       "    x.observe(outputEl, {childList: true});\n",
       "}}\n",
       "\n",
       "                        })                };                });            </script>        </div>"
      ]
     },
     "metadata": {},
     "output_type": "display_data"
    }
   ],
   "source": [
    "print(f\"Unique count per education:\\n\\n{df['education'].value_counts()}\")\n",
    "px.box(df, df.loan_status, df.age,  color = df.education, \n",
    "      title = 'Box plot per Education: Loan Status vs Age')"
   ]
  },
  {
   "cell_type": "code",
   "execution_count": 437,
   "id": "b42aac27",
   "metadata": {},
   "outputs": [
    {
     "data": {
      "text/html": [
       "<div>\n",
       "<style scoped>\n",
       "    .dataframe tbody tr th:only-of-type {\n",
       "        vertical-align: middle;\n",
       "    }\n",
       "\n",
       "    .dataframe tbody tr th {\n",
       "        vertical-align: top;\n",
       "    }\n",
       "\n",
       "    .dataframe thead th {\n",
       "        text-align: right;\n",
       "    }\n",
       "</style>\n",
       "<table border=\"1\" class=\"dataframe\">\n",
       "  <thead>\n",
       "    <tr style=\"text-align: right;\">\n",
       "      <th></th>\n",
       "      <th>Principal</th>\n",
       "      <th>terms</th>\n",
       "      <th>age</th>\n",
       "    </tr>\n",
       "  </thead>\n",
       "  <tbody>\n",
       "    <tr>\n",
       "      <th>count</th>\n",
       "      <td>346.000000</td>\n",
       "      <td>346.000000</td>\n",
       "      <td>346.000000</td>\n",
       "    </tr>\n",
       "    <tr>\n",
       "      <th>mean</th>\n",
       "      <td>943.641618</td>\n",
       "      <td>22.653179</td>\n",
       "      <td>30.939306</td>\n",
       "    </tr>\n",
       "    <tr>\n",
       "      <th>std</th>\n",
       "      <td>109.425530</td>\n",
       "      <td>7.991006</td>\n",
       "      <td>6.039418</td>\n",
       "    </tr>\n",
       "    <tr>\n",
       "      <th>min</th>\n",
       "      <td>300.000000</td>\n",
       "      <td>7.000000</td>\n",
       "      <td>18.000000</td>\n",
       "    </tr>\n",
       "    <tr>\n",
       "      <th>25%</th>\n",
       "      <td>900.000000</td>\n",
       "      <td>15.000000</td>\n",
       "      <td>27.000000</td>\n",
       "    </tr>\n",
       "    <tr>\n",
       "      <th>50%</th>\n",
       "      <td>1000.000000</td>\n",
       "      <td>30.000000</td>\n",
       "      <td>30.000000</td>\n",
       "    </tr>\n",
       "    <tr>\n",
       "      <th>75%</th>\n",
       "      <td>1000.000000</td>\n",
       "      <td>30.000000</td>\n",
       "      <td>35.000000</td>\n",
       "    </tr>\n",
       "    <tr>\n",
       "      <th>max</th>\n",
       "      <td>1000.000000</td>\n",
       "      <td>30.000000</td>\n",
       "      <td>51.000000</td>\n",
       "    </tr>\n",
       "  </tbody>\n",
       "</table>\n",
       "</div>"
      ],
      "text/plain": [
       "         Principal       terms         age\n",
       "count   346.000000  346.000000  346.000000\n",
       "mean    943.641618   22.653179   30.939306\n",
       "std     109.425530    7.991006    6.039418\n",
       "min     300.000000    7.000000   18.000000\n",
       "25%     900.000000   15.000000   27.000000\n",
       "50%    1000.000000   30.000000   30.000000\n",
       "75%    1000.000000   30.000000   35.000000\n",
       "max    1000.000000   30.000000   51.000000"
      ]
     },
     "execution_count": 437,
     "metadata": {},
     "output_type": "execute_result"
    }
   ],
   "source": [
    "df.describe()"
   ]
  },
  {
   "cell_type": "code",
   "execution_count": 810,
   "id": "f727c7fa",
   "metadata": {},
   "outputs": [
    {
     "name": "stdout",
     "output_type": "stream",
     "text": [
      "Principal     5\n",
      "terms         3\n",
      "age          32\n",
      "education     4\n",
      "dtype: int64\n",
      "\n",
      " ['High School or Below' 'Bechalor' 'college' 'Master or Above']\n"
     ]
    }
   ],
   "source": [
    "from sklearn.tree import DecisionTreeClassifier\n",
    "from sklearn.metrics import f1_score, accuracy_score, jaccard_score\n",
    "from sklearn.model_selection import train_test_split\n",
    "from sklearn import preprocessing\n",
    "\n",
    "x = dfTree.iloc[:, 1:5]\n",
    "y = dfTree.iloc[:, 0]\n",
    "print(x.nunique())\n",
    "print(\"\\n\", x['education'].unique())"
   ]
  },
  {
   "cell_type": "code",
   "execution_count": 811,
   "id": "bfa07802",
   "metadata": {},
   "outputs": [],
   "source": [
    "y = y.values\n",
    "x = x.values\n",
    "\n",
    "yy = preprocessing.LabelEncoder().fit([\"PAIDOFF\", \"COLLECTION\"])\n",
    "xx = preprocessing.LabelEncoder().fit([\"High School or Below\", \"Bechalor\", \"college\", \"Master or Above\"])\n",
    "\n",
    "x[:, 3] = xx.transform(x[:, 3])\n",
    "y = yy.transform(y)\n",
    "\n",
    "x = preprocessing.StandardScaler().fit_transform(x)"
   ]
  },
  {
   "cell_type": "code",
   "execution_count": 699,
   "id": "88321bf1",
   "metadata": {},
   "outputs": [],
   "source": [
    "# func takes dictionary with n iterations for KEY values should be scores\n",
    "'''e.g. We iterate though KNN (to find best K) -- store K in Keys()\n",
    "and store predictions in Values()'''\n",
    "\n",
    "def sorter(dict_):\n",
    "    dict_ = dict(dict_)\n",
    "    new = sorted(dict_.items(), key = lambda kv: kv[1], reverse = True)\n",
    "    return new[0:3]"
   ]
  },
  {
   "cell_type": "code",
   "execution_count": 700,
   "id": "92e26c8b",
   "metadata": {},
   "outputs": [],
   "source": [
    "\n",
    "def quickPlot(pred1, pred2, title):\n",
    "    # figsize has been hard coded to (12, 8)\n",
    "    plt.figure(figsize = (12, 8))\n",
    "    \n",
    "    # assumption; hashtable has iterative accuracy scores in values()\n",
    "    plt.plot(pred1.values(), color = 'red')\n",
    "    plt.plot(pred2.values(), color = 'blue')\n",
    "    \n",
    "    # title is to be set by user\n",
    "    plt.title(title, fontsize = 18, fontfamily = 'monospace')\n",
    "    \n",
    "    # fontsize & family == 18, monospace); x('Epochs'), y('Accuracy')\n",
    "    plt.xlabel('Epochs', fontsize = 18, fontfamily = 'monospace')\n",
    "    plt.ylabel('Accuracy', fontsize = 18, fontfamily = 'monospace')\n",
    "    \n",
    "    plt.xticks(fontsize=18)\n",
    "    plt.yticks(fontsize=18)"
   ]
  },
  {
   "cell_type": "markdown",
   "id": "cc1cbc02",
   "metadata": {},
   "source": [
    "## Model Creation and Evaluation:"
   ]
  },
  {
   "cell_type": "markdown",
   "id": "33176977",
   "metadata": {},
   "source": [
    "### Decision Tree:\n",
    "\n",
    "In the box's below, i will iterate through parameters 'criterion' and 'random_state' to find the best version of our Decision Tree model."
   ]
  },
  {
   "cell_type": "code",
   "execution_count": 722,
   "id": "9746b866",
   "metadata": {},
   "outputs": [
    {
     "name": "stdout",
     "output_type": "stream",
     "text": [
      "Best Vector(criterion, model score)\n",
      "\n",
      "Jaccard---- [('entropy', 0.7391304347826086), ('gini', 0.7246376811594203), ('log_loss', 0.7246376811594203)]\n",
      "\n",
      "F1---- [('entropy', 0.8500000000000001), ('gini', 0.8403361344537815), ('log_loss', 0.8403361344537815)]\n"
     ]
    }
   ],
   "source": [
    "jaccardScore_tree = {}\n",
    "f1Score_tree = {}\n",
    "\n",
    "\n",
    "crit = ['gini', 'entropy', 'log_loss']  \n",
    "for n in crit:\n",
    "    train_x, test_x, train_y, test_y = train_test_split(\n",
    "            \n",
    "            x, y, test_size = .2, random_state = 13)\n",
    "\n",
    "    \n",
    "    treeNumModel = DecisionTreeClassifier(criterion = n).fit(train_x, train_y)\n",
    "    \n",
    "    # prediction\n",
    "    treeNumYhat = treeNumModel.predict(test_x)\n",
    "\n",
    "\n",
    "    jaccardScore_tree[n] = jaccard_score(test_y, treeNumYhat)\n",
    "\n",
    "    f1Score_tree[n] = f1_score(test_y, treeNumYhat)\n",
    "    \n",
    "\n",
    "print(\"Best Vector(criterion, model score)\\n\\nJaccard----\", sorter(jaccardScore_tree))\n",
    "print(\"\\nF1----\", sorter(f1Score_tree))"
   ]
  },
  {
   "cell_type": "markdown",
   "id": "b5d0ae47",
   "metadata": {},
   "source": [
    "### Best criterion = log-loss"
   ]
  },
  {
   "cell_type": "code",
   "execution_count": 723,
   "id": "cc7af384",
   "metadata": {},
   "outputs": [
    {
     "data": {
      "image/png": "[encoded data removed]",
      "text/plain": [
       "<Figure size 864x576 with 1 Axes>"
      ]
     },
     "metadata": {
      "needs_background": "light"
     },
     "output_type": "display_data"
    }
   ],
   "source": [
    "quickPlot(jaccardScore_tree, f1Score_tree, title = 'Decision Tree Criterion: \\nGini, Entropy, Log-Loss\\n\\nJaccard Score (Red) vs F1-Score (blue)')"
   ]
  },
  {
   "cell_type": "markdown",
   "id": "fc7592c2",
   "metadata": {},
   "source": [
    "To further **optimize** our model, I will iterate through the ***random_states*** parameter, on the '**train_test_split**' algorithm -- using our now pre-defined critierion, '**log-loss**.'"
   ]
  },
  {
   "cell_type": "code",
   "execution_count": 821,
   "id": "5779bf15",
   "metadata": {},
   "outputs": [
    {
     "name": "stdout",
     "output_type": "stream",
     "text": [
      "Best Vector(random_state, model score)\n",
      "\n",
      "Jaccard---- [(13, 0.7391304347826086), (11, 0.6865671641791045), (30, 0.6764705882352942)]\n",
      "\n",
      "F1---- [(13, 0.8500000000000001), (11, 0.8141592920353983), (30, 0.8070175438596491)]\n"
     ]
    }
   ],
   "source": [
    "jaccardScore_tree_v2 = {}\n",
    "f1Score_tree_v2 = {}\n",
    "\n",
    "for n in range(1, 50):\n",
    "    train_x, test_x, train_y, test_y = train_test_split(\n",
    "            x, y, test_size = .2, random_state = n)\n",
    "\n",
    "    treeNumModel = DecisionTreeClassifier(criterion = 'log_loss').fit(train_x, train_y)\n",
    "    # prediction\n",
    "    treeNumYhat = treeNumModel.predict(test_x)\n",
    "\n",
    "    jaccardScore_tree_v2[n] = jaccard_score(test_y, treeNumYhat)\n",
    "\n",
    "    f1Score_tree_v2[n] = f1_score(test_y, treeNumYhat)\n",
    "    \n",
    "print(\"Best Vector(random_state, model score)\\n\\nJaccard----\", sorter(jaccardScore_tree_v2))\n",
    "print(\"\\nF1----\", sorter(f1Score_tree_v2))"
   ]
  },
  {
   "cell_type": "markdown",
   "id": "bb6b88da",
   "metadata": {},
   "source": [
    "### Best random_state = 13\n",
    "\n",
    "* Jaccard(Epochs, Accuracy) = (13, .739)\n",
    "\n",
    "\n",
    "* F1(Epochs, Accuracy) = (13, .850)"
   ]
  },
  {
   "cell_type": "code",
   "execution_count": 822,
   "id": "fa2380b4",
   "metadata": {},
   "outputs": [
    {
     "data": {
      "image/png": "[encoded data removed]",
      "text/plain": [
       "<Figure size 864x576 with 1 Axes>"
      ]
     },
     "metadata": {
      "needs_background": "light"
     },
     "output_type": "display_data"
    }
   ],
   "source": [
    "quickPlot(jaccardScore_tree, f1Score_tree, \n",
    "          title = 'Decision Tree:\\nrandom_state (1 - 50)\\n\\nJaccard Score (Red) vs F1-Score (blue)')"
   ]
  },
  {
   "cell_type": "markdown",
   "id": "fcf98380",
   "metadata": {},
   "source": [
    "### Final Decision Tree Model:"
   ]
  },
  {
   "cell_type": "code",
   "execution_count": 823,
   "id": "997d69c1",
   "metadata": {},
   "outputs": [],
   "source": [
    "train_x, test_x, train_y, test_y = train_test_split(\n",
    "    x, y, test_size = .2, random_state = 13)\n",
    "\n",
    "treeNumModel = DecisionTreeClassifier(criterion = 'log_loss').fit(train_x, train_y)\n",
    "treeNumYhat = treeNumModel.predict(test_x)\n",
    "\n",
    "jaccard_dt_v3 = jaccard_score(test_y, treeNumYhat)\n",
    "\n",
    "f1_dt_v3 = f1_score(test_y, treeNumYhat)"
   ]
  },
  {
   "cell_type": "markdown",
   "id": "ecdf005a",
   "metadata": {},
   "source": [
    "### Support Vector Machine (SVM):\n",
    "\n",
    "In the box's below, i will iterate through parameters 'kernel' and 'random_state' to find the best version of our SVM model."
   ]
  },
  {
   "cell_type": "code",
   "execution_count": 826,
   "id": "673be16f",
   "metadata": {},
   "outputs": [
    {
     "name": "stdout",
     "output_type": "stream",
     "text": [
      "Kernel and Top Jaccard Score:\n",
      "[('rbf', 0.814), ('linear', 0.814), ('poly', 0.814)]\n",
      "\n",
      "Kernel and Top F-1 Score:\n",
      "[('rbf', 0.898), ('linear', 0.898), ('poly', 0.898)]\n"
     ]
    }
   ],
   "source": [
    "from sklearn.svm import SVC\n",
    "jaccard_preds = {}\n",
    "f1_preds = {}\n",
    "\n",
    "kernels = ['rbf', 'linear', 'poly', 'sigmoid']\n",
    "for n in kernels:\n",
    "    svcModel = SVC(kernel = n).fit(train_x, train_y)\n",
    "    svcYhat = svcModel.predict(test_x)\n",
    "\n",
    "    jaccard_preds[n] = round(jaccard_score(test_y, knnYhat), 3)\n",
    "    f1_preds[n] = round(f1_score(test_y, knnYhat), 3)\n",
    "\n",
    "print(f\"Kernel and Top Jaccard Score:\\n{sorter(jaccard_preds)}\")\n",
    "print(f\"\\nKernel and Top F-1 Score:\\n{sorter(f1_preds)}\")"
   ]
  },
  {
   "cell_type": "markdown",
   "id": "fc3ab382",
   "metadata": {},
   "source": [
    "### Best kernel = any (will choose rbf)\n",
    "\n",
    "* Jaccard(Epochs, Accuracy) = (rbf, .0.7)\n",
    "\n",
    "\n",
    "* F1(Epochs, Accuracy) = (rbf, .0.824)"
   ]
  },
  {
   "cell_type": "code",
   "execution_count": 735,
   "id": "c83584d5",
   "metadata": {},
   "outputs": [
    {
     "data": {
      "image/png": "[encoded data removed]",
      "text/plain": [
       "<Figure size 864x576 with 1 Axes>"
      ]
     },
     "metadata": {
      "needs_background": "light"
     },
     "output_type": "display_data"
    }
   ],
   "source": [
    "quickPlot(jaccard_preds, f1_preds, \n",
    "          title = 'Support Vector Machine Kernels:\\nrbf, linear, poly, sigmoid\\n')"
   ]
  },
  {
   "cell_type": "code",
   "execution_count": 827,
   "id": "f35194cb",
   "metadata": {},
   "outputs": [
    {
     "name": "stdout",
     "output_type": "stream",
     "text": [
      "Random State and Top Jaccard Score:\n",
      "[(30, 0.857), (16, 0.843), (2, 0.829)]\n",
      "\n",
      "Random State and Top F-1 Score:\n",
      "[(30, 0.923), (16, 0.915), (2, 0.906)]\n"
     ]
    }
   ],
   "source": [
    "jaccard_preds_v2 = {}\n",
    "f1_preds_v2 = {}\n",
    "\n",
    "for n in range(1, 50):\n",
    "    train_x, test_x, train_y, test_y = train_test_split(x, y, test_size = .2, random_state = n)\n",
    "\n",
    "    svcModel = SVC(kernel = 'rbf').fit(train_x, train_y)\n",
    "    svcYhat = svcModel.predict(test_x)\n",
    "    jaccard_preds_v2[n] = round(jaccard_score(test_y, svcYhat), 3)\n",
    "    f1_preds_v2[n] = round(f1_score(test_y, svcYhat), 3)\n",
    "\n",
    "print(f\"Random State and Top Jaccard Score:\\n{sorter(jaccard_preds_v2)}\")\n",
    "print(f\"\\nRandom State and Top F-1 Score:\\n{sorter(f1_preds_v2)}\")"
   ]
  },
  {
   "cell_type": "markdown",
   "id": "01b1cac2",
   "metadata": {},
   "source": [
    "### Best random_state = 30 ---- Jaccard & F1-Score\n",
    "\n",
    "* Jaccard(Epochs, Accuracy) = (30, 0.857)\n",
    "\n",
    "\n",
    "* F1(Epochs, Accuracy) = (30, 0.923)"
   ]
  },
  {
   "cell_type": "code",
   "execution_count": 828,
   "id": "f1560417",
   "metadata": {},
   "outputs": [
    {
     "data": {
      "image/png": "[encoded data removed]",
      "text/plain": [
       "<Figure size 864x576 with 1 Axes>"
      ]
     },
     "metadata": {
      "needs_background": "light"
     },
     "output_type": "display_data"
    }
   ],
   "source": [
    "quickPlot(jaccard_preds_v2, f1_preds_v2, \n",
    "          title = 'Support Vector Machine random_state:\\n(1 - 50)\\n\\nJaccard Score (Red) vs F1-Score (blue)')"
   ]
  },
  {
   "cell_type": "markdown",
   "id": "d00ce0c0",
   "metadata": {},
   "source": [
    "### Final SVM Model:"
   ]
  },
  {
   "cell_type": "code",
   "execution_count": 816,
   "id": "67943b9a",
   "metadata": {},
   "outputs": [
    {
     "data": {
      "text/plain": [
       "0.923"
      ]
     },
     "execution_count": 816,
     "metadata": {},
     "output_type": "execute_result"
    }
   ],
   "source": [
    "train_x, test_x, train_y, test_y = train_test_split(x, y, test_size = .2, random_state = 30)\n",
    "svcModel = SVC(kernel = 'rbf').fit(train_x, train_y)\n",
    "\n",
    "svcYhat = svcModel.predict(test_x)\n",
    "\n",
    "jaccard_svm_v3 = round(jaccard_score(test_y, svcYhat), 3)\n",
    "f1_svm_v3 = round(f1_score(test_y, svcYhat), 3)\n",
    "\n",
    "f1_svm_v3"
   ]
  },
  {
   "cell_type": "markdown",
   "id": "36b9d002",
   "metadata": {},
   "source": [
    "### K-Neighbors (KNN):\n",
    "\n",
    "In the box's below, i will iterate through parameters 'k' and 'random_state' to find the best version of our SVM model."
   ]
  },
  {
   "cell_type": "code",
   "execution_count": 829,
   "id": "b24cf8c0",
   "metadata": {},
   "outputs": [
    {
     "name": "stdout",
     "output_type": "stream",
     "text": [
      "[(12, 0.725), (14, 0.725), (5, 0.721)]\n",
      "\n",
      " [(12, 0.84), (14, 0.84), (5, 0.838)]\n"
     ]
    }
   ],
   "source": [
    "from sklearn.neighbors import KNeighborsClassifier as kNN\n",
    "\n",
    "jaccard_knn = {}\n",
    "f1_knn = {}\n",
    "# iterate though k's to find the best fit\n",
    "for k in range(1, 20):\n",
    "    knnModel = kNN(k).fit(train_x, train_y)    \n",
    "    knnYhat = knnModel.predict(test_x)\n",
    "    \n",
    "    # store different k's and their corresponding scores\n",
    "    jaccard_knn[k] = round(jaccard_score(test_y, knnYhat), 3)\n",
    "    f1_knn[k] = round(f1_score(test_y, knnYhat), 3)\n",
    "\n",
    "\n",
    "print(sorter(jaccard_knn))\n",
    "print(\"\\n\", sorter(f1_knn))"
   ]
  },
  {
   "cell_type": "markdown",
   "id": "fcabc8ce",
   "metadata": {},
   "source": [
    "### Best K = 13 ---- Jaccard & F1-Score\n",
    "\n",
    "* Jaccard(Epochs, Accuracy) = (13, 0.87)\n",
    "\n",
    "\n",
    "* F1(Epochs, Accuracy) = (13, 0.93)"
   ]
  },
  {
   "cell_type": "code",
   "execution_count": 830,
   "id": "8923f8f4",
   "metadata": {},
   "outputs": [
    {
     "data": {
      "image/png": "[encoded data removed]",
      "text/plain": [
       "<Figure size 864x576 with 1 Axes>"
      ]
     },
     "metadata": {
      "needs_background": "light"
     },
     "output_type": "display_data"
    }
   ],
   "source": [
    "quickPlot(jaccard_knn, f1_knn, \n",
    "          title = 'K-Neighbors K(n):\\n(1 - 20)\\n\\nJaccard Score (Red) vs F1-Score (blue)')"
   ]
  },
  {
   "cell_type": "markdown",
   "id": "96e61f2f",
   "metadata": {},
   "source": [
    "### Iterate through random_state:"
   ]
  },
  {
   "cell_type": "code",
   "execution_count": 832,
   "id": "74d722cf",
   "metadata": {},
   "outputs": [
    {
     "name": "stdout",
     "output_type": "stream",
     "text": [
      "[(30, 0.87), (40, 0.841), (46, 0.829)]\n",
      "\n",
      " [(30, 0.93), (40, 0.913), (46, 0.906)]\n"
     ]
    }
   ],
   "source": [
    "jaccard_knn_v2 = {}\n",
    "f1_knn_v2 = {}\n",
    "\n",
    "for n in range(1, 50):\n",
    "    train_x, test_x, train_y, test_y = train_test_split(\n",
    "        x, y, test_size = .2, random_state = n)\n",
    "\n",
    "\n",
    "    knnModel = kNN(13).fit(train_x, train_y)    \n",
    "    knnYhat = knnModel.predict(test_x)\n",
    "    \n",
    "    # store different k's and their corresponding scores\n",
    "    jaccard_knn_v2[n] = round(jaccard_score(test_y, knnYhat), 3)\n",
    "    f1_knn_v2[n] = round(f1_score(test_y, knnYhat), 3)\n",
    "\n",
    "\n",
    "print(sorter(jaccard_knn_v2))\n",
    "print(\"\\n\", sorter(f1_knn_v2))"
   ]
  },
  {
   "cell_type": "markdown",
   "id": "195163d2",
   "metadata": {},
   "source": [
    "### Best random_state = 30 ---- Jaccard & F1-Score\n",
    "\n",
    "* Jaccard(Epochs, Accuracy) = (30, 0.87)\n",
    "\n",
    "\n",
    "* F1(Epochs, Accuracy) = (30, 0.93)"
   ]
  },
  {
   "cell_type": "code",
   "execution_count": 833,
   "id": "297afd81",
   "metadata": {},
   "outputs": [
    {
     "data": {
      "image/png": "[encoded data removed]",
      "text/plain": [
       "<Figure size 864x576 with 1 Axes>"
      ]
     },
     "metadata": {
      "needs_background": "light"
     },
     "output_type": "display_data"
    }
   ],
   "source": [
    "quickPlot(jaccard_knn_v2, f1_knn_v2, \n",
    "          title = 'K-Neighbors random_state:\\n(1 - 50)\\n\\nJaccard Score (Red) vs F1-Score (blue)')"
   ]
  },
  {
   "cell_type": "markdown",
   "id": "843246d6",
   "metadata": {},
   "source": [
    "### Final SVM Model:"
   ]
  },
  {
   "cell_type": "code",
   "execution_count": 834,
   "id": "736ada1c",
   "metadata": {},
   "outputs": [
    {
     "data": {
      "text/plain": [
       "0.93"
      ]
     },
     "execution_count": 834,
     "metadata": {},
     "output_type": "execute_result"
    }
   ],
   "source": [
    "train_x, test_x, train_y, test_y = train_test_split(\n",
    "    x, y, test_size = .2, random_state = 30)\n",
    "\n",
    "\n",
    "knnModel = kNN(13).fit(train_x, train_y)    \n",
    "knnYhat = knnModel.predict(test_x)\n",
    "    \n",
    "# store different k's and their corresponding scores\n",
    "jaccard_knn_v3 = round(jaccard_score(test_y, knnYhat), 3)\n",
    "f1_knn_v3 = round(f1_score(test_y, knnYhat), 3)\n",
    "\n",
    "f1_knn_v3"
   ]
  },
  {
   "cell_type": "markdown",
   "id": "d0ba5f68",
   "metadata": {},
   "source": [
    "### Logistic Regression (LR):\n",
    "\n",
    "In the box's below, i will iterate through parameters 'solvers' and 'random_state' to find the best version of our LR model."
   ]
  },
  {
   "cell_type": "code",
   "execution_count": 799,
   "id": "d0b9a878",
   "metadata": {},
   "outputs": [
    {
     "name": "stdout",
     "output_type": "stream",
     "text": [
      "Log-loss [('liblinear', 0.714), ('newton-cg', 0.714), ('lbfgs', 0.714)]\n",
      "\n",
      "Jaccard [('liblinear', 0.714), ('newton-cg', 0.714), ('lbfgs', 0.714)]\n",
      "\n",
      "F1 [('liblinear', 0.833), ('newton-cg', 0.833), ('lbfgs', 0.833)]\n"
     ]
    }
   ],
   "source": [
    "from sklearn.linear_model import LogisticRegression as LR\n",
    "from sklearn.metrics import log_loss\n",
    "\n",
    "jaccard_lr_v1 = {}\n",
    "f1_lr_v1 = {}\n",
    "logLoss_lr_v1 = {}\n",
    "\n",
    "solvers = ['liblinear', 'newton-cg', 'lbfgs', 'sag', 'saga']\n",
    "\n",
    "for n in solvers:\n",
    "    lrModel = LR(solver = n).fit(train_x, train_y)\n",
    "  \n",
    "    lrYhat = lrModel.predict(test_x)\n",
    "    \n",
    "    logLoss_lr_v1[n] = round(lrModel.score(test_x, test_y), 3)\n",
    "    jaccard_lr_v1[n] = round(jaccard_score(test_y, lrYhat), 3)\n",
    "    f1_lr_v1[n] = round(f1_score(test_y, lrYhat), 3)\n",
    "\n",
    "print(\"Log-loss\", sorter(logLoss_lr_v1))\n",
    "print(\"\\nJaccard\", sorter(jaccard_lr_v1))\n",
    "print(\"\\nF1\", sorter(f1_lr_v1))"
   ]
  },
  {
   "cell_type": "code",
   "execution_count": 800,
   "id": "cb0859da",
   "metadata": {},
   "outputs": [
    {
     "data": {
      "image/png": "[encoded data removed]",
      "text/plain": [
       "<Figure size 864x576 with 1 Axes>"
      ]
     },
     "metadata": {
      "needs_background": "light"
     },
     "output_type": "display_data"
    }
   ],
   "source": [
    "quickPlot(logLoss_lr_v1, f1_lr_v1, \n",
    "          title = 'Logistic Regression Solver:\\n(liblinear, newton-cg, lbfgs, sag, saga)\\n\\nLog-Loss Score (Red) vs F1-Score (blue)')"
   ]
  },
  {
   "cell_type": "code",
   "execution_count": 803,
   "id": "00d2d1f3",
   "metadata": {},
   "outputs": [
    {
     "name": "stdout",
     "output_type": "stream",
     "text": [
      "Log-loss [(30, 0.857), (16, 0.843), (2, 0.829)]\n",
      "\n",
      "Jaccard [(30, 0.857), (16, 0.843), (2, 0.829)]\n",
      "\n",
      "F1 [(30, 0.923), (16, 0.915), (2, 0.906)]\n"
     ]
    }
   ],
   "source": [
    "jaccard_lr_v2 = {}\n",
    "f1_lr_v2 = {}\n",
    "logLoss_lr_v2 = {}\n",
    "\n",
    "for n in range(1, 50):\n",
    "    train_x, test_x, train_y, test_y = train_test_split(\n",
    "        x, y, test_size = .2, random_state = n)\n",
    "    \n",
    "    lrModel = LR(solver = 'newton-cg').fit(train_x, train_y)\n",
    "  \n",
    "    lrYhat = lrModel.predict(test_x)\n",
    "    \n",
    "    logLoss_lr_v2[n] = round(lrModel.score(test_x, test_y), 3)\n",
    "    jaccard_lr_v2[n] = round(jaccard_score(test_y, lrYhat), 3)\n",
    "    f1_lr_v2[n] = round(f1_score(test_y, lrYhat), 3)\n",
    "\n",
    "print(\"Log-loss\", sorter(logLoss_lr_v2))\n",
    "print(\"\\nJaccard\", sorter(jaccard_lr_v2))\n",
    "print(\"\\nF1\", sorter(f1_lr_v2))"
   ]
  },
  {
   "cell_type": "code",
   "execution_count": 804,
   "id": "7fa5400e",
   "metadata": {},
   "outputs": [
    {
     "data": {
      "image/png": "[encoded data removed]",
      "text/plain": [
       "<Figure size 864x576 with 1 Axes>"
      ]
     },
     "metadata": {
      "needs_background": "light"
     },
     "output_type": "display_data"
    }
   ],
   "source": [
    "quickPlot(logLoss_lr_v2, f1_lr_v2, \n",
    "          title = 'Logistic Regression random_state:\\n(1-50)\\n\\nLog-Loss Score (Red) vs F1-Score (blue)')"
   ]
  },
  {
   "cell_type": "code",
   "execution_count": 805,
   "id": "ec15d2a0",
   "metadata": {},
   "outputs": [
    {
     "data": {
      "text/plain": [
       "0.857"
      ]
     },
     "execution_count": 805,
     "metadata": {},
     "output_type": "execute_result"
    }
   ],
   "source": [
    "train_x, test_x, train_y, test_y = train_test_split(\n",
    "     x, y, test_size = .2, random_state = 30)\n",
    "    \n",
    "lrModel = LR(solver = 'newton-cg').fit(train_x, train_y)\n",
    "  \n",
    "lrYhat = lrModel.predict(test_x)\n",
    "    \n",
    "logLoss_lr_v3 = round(lrModel.score(test_x, test_y), 3)\n",
    "jaccard_lr_v3 = round(jaccard_score(test_y, lrYhat), 3)\n",
    "f1_lr_v3 = round(f1_score(test_y, lrYhat), 3)\n",
    "\n",
    "logLoss_lr_v3"
   ]
  },
  {
   "cell_type": "markdown",
   "id": "235a346a",
   "metadata": {},
   "source": [
    "### Dataframe Containing Algorithms and their best scores, per metric --- after iterations:"
   ]
  },
  {
   "cell_type": "code",
   "execution_count": 835,
   "id": "ef0eada3",
   "metadata": {},
   "outputs": [
    {
     "data": {
      "text/html": [
       "<div>\n",
       "<style scoped>\n",
       "    .dataframe tbody tr th:only-of-type {\n",
       "        vertical-align: middle;\n",
       "    }\n",
       "\n",
       "    .dataframe tbody tr th {\n",
       "        vertical-align: top;\n",
       "    }\n",
       "\n",
       "    .dataframe thead th {\n",
       "        text-align: right;\n",
       "    }\n",
       "</style>\n",
       "<table border=\"1\" class=\"dataframe\">\n",
       "  <thead>\n",
       "    <tr style=\"text-align: right;\">\n",
       "      <th></th>\n",
       "      <th>Algorithm</th>\n",
       "      <th>Jaccard-Similarity</th>\n",
       "      <th>F-1 Score</th>\n",
       "      <th>Log-Loss</th>\n",
       "    </tr>\n",
       "  </thead>\n",
       "  <tbody>\n",
       "    <tr>\n",
       "      <th>0</th>\n",
       "      <td>K-Neighbors</td>\n",
       "      <td>0.87000</td>\n",
       "      <td>0.930</td>\n",
       "      <td>False</td>\n",
       "    </tr>\n",
       "    <tr>\n",
       "      <th>1</th>\n",
       "      <td>Decision Tree</td>\n",
       "      <td>0.73913</td>\n",
       "      <td>0.850</td>\n",
       "      <td>False</td>\n",
       "    </tr>\n",
       "    <tr>\n",
       "      <th>2</th>\n",
       "      <td>Logistic Regression</td>\n",
       "      <td>0.85700</td>\n",
       "      <td>0.923</td>\n",
       "      <td>0.857</td>\n",
       "    </tr>\n",
       "    <tr>\n",
       "      <th>3</th>\n",
       "      <td>SVM</td>\n",
       "      <td>0.85700</td>\n",
       "      <td>0.923</td>\n",
       "      <td>False</td>\n",
       "    </tr>\n",
       "  </tbody>\n",
       "</table>\n",
       "</div>"
      ],
      "text/plain": [
       "             Algorithm  Jaccard-Similarity  F-1 Score Log-Loss\n",
       "0          K-Neighbors             0.87000      0.930    False\n",
       "1        Decision Tree             0.73913      0.850    False\n",
       "2  Logistic Regression             0.85700      0.923    0.857\n",
       "3                  SVM             0.85700      0.923    False"
      ]
     },
     "execution_count": 835,
     "metadata": {},
     "output_type": "execute_result"
    }
   ],
   "source": [
    "data = [['K-Neighbors', jaccard_knn_v3, f1_knn_v3, False], \n",
    "       ['Decision Tree', jaccard_dt_v3, f1_dt_v3, False], \n",
    "       ['Logistic Regression', jaccard_lr_v3, f1_lr_v3, logLoss_lr_v3], \n",
    "       ['SVM', jaccard_svm_v3, f1_svm_v3, False]]\n",
    "evaluation_df = pd.DataFrame(data, columns = ['Algorithm', 'Jaccard-Similarity', 'F-1 Score', 'Log-Loss'])\n",
    "evaluation_df"
   ]
  },
  {
   "cell_type": "code",
   "execution_count": null,
   "id": "25a93a18",
   "metadata": {},
   "outputs": [],
   "source": []
  }
 ],
 "metadata": {
  "kernelspec": {
   "display_name": "Python 3 (ipykernel)",
   "language": "python",
   "name": "python3"
  },
  "language_info": {
   "codemirror_mode": {
    "name": "ipython",
    "version": 3
   },
   "file_extension": ".py",
   "mimetype": "text/x-python",
   "name": "python",
   "nbconvert_exporter": "python",
   "pygments_lexer": "ipython3",
   "version": "3.9.2"
  }
 },
 "nbformat": 4,
 "nbformat_minor": 5
}
