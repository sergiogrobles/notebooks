{
 "cells": [
  {
   "cell_type": "markdown",
   "id": "f327f04d",
   "metadata": {},
   "source": [
    "# Objective:\n",
    "\n",
    "* Solve Classification Problem\n",
    "\n",
    "\n",
    "* Use different algorithms\n",
    "\n",
    "\n",
    "* Use different evaluation metrics\n",
    "\n",
    "### Questions to be asked:\n",
    "\n",
    "\n",
    "\n",
    "\n",
    "\n",
    "\n",
    "* What is the goal in solving the classification problem? \n",
    "\n",
    "\n",
    "* What are we attempting to predict? \n",
    "\n",
    "\n",
    "* What algorithms are to be used to build our model?\n",
    "\n",
    "\n",
    "* What evaluation metrics are we using?\n",
    "\n",
    "### Answers:\n",
    "* The goal: Predict whether a loan case will be paid off or not, as well as making sure the data is cleaned i.e. fill/clear NULL, clear duplicates, format datatypes, remove unneccessary features.\n",
    "\n",
    "\n",
    "* We are attempting to predict whether a customer will pay off there loan and vise-versa.\n",
    "\n",
    "\n",
    "* We will use ML algorithms: **KNN, Decision Tree, SVM, Logistic Regression.**\n",
    "\n",
    "\n",
    "* We will. use evaluation metrics: **Jaccard Index, F1-Score, Log-Loss, Confusion Matrix**"
   ]
  },
  {
   "cell_type": "code",
   "execution_count": 2,
   "id": "ca06196f",
   "metadata": {},
   "outputs": [],
   "source": [
    "import pandas as pd\n",
    "import numpy as np\n",
    "import plotly.express as px\n",
    "import matplotlib.pyplot as plt\n",
    "%matplotlib inline"
   ]
  },
  {
   "cell_type": "code",
   "execution_count": 3,
   "id": "1e730887",
   "metadata": {},
   "outputs": [],
   "source": [
    "path = 'https://cf-courses-data.s3.us.cloud-object-storage.appdomain.cloud/IBMDeveloperSkillsNetwork-ML0101EN-SkillsNetwork/labs/FinalModule_Coursera/data/loan_train.csv'\n",
    "df = pd.read_csv(path)"
   ]
  },
  {
   "cell_type": "code",
   "execution_count": 4,
   "id": "10f8d442",
   "metadata": {},
   "outputs": [
    {
     "data": {
      "text/html": [
       "<div>\n",
       "<style scoped>\n",
       "    .dataframe tbody tr th:only-of-type {\n",
       "        vertical-align: middle;\n",
       "    }\n",
       "\n",
       "    .dataframe tbody tr th {\n",
       "        vertical-align: top;\n",
       "    }\n",
       "\n",
       "    .dataframe thead th {\n",
       "        text-align: right;\n",
       "    }\n",
       "</style>\n",
       "<table border=\"1\" class=\"dataframe\">\n",
       "  <thead>\n",
       "    <tr style=\"text-align: right;\">\n",
       "      <th></th>\n",
       "      <th>Unnamed: 0.1</th>\n",
       "      <th>Unnamed: 0</th>\n",
       "      <th>loan_status</th>\n",
       "      <th>Principal</th>\n",
       "      <th>terms</th>\n",
       "      <th>effective_date</th>\n",
       "      <th>due_date</th>\n",
       "      <th>age</th>\n",
       "      <th>education</th>\n",
       "      <th>Gender</th>\n",
       "    </tr>\n",
       "  </thead>\n",
       "  <tbody>\n",
       "    <tr>\n",
       "      <th>0</th>\n",
       "      <td>0</td>\n",
       "      <td>0</td>\n",
       "      <td>PAIDOFF</td>\n",
       "      <td>1000</td>\n",
       "      <td>30</td>\n",
       "      <td>9/8/2016</td>\n",
       "      <td>10/7/2016</td>\n",
       "      <td>45</td>\n",
       "      <td>High School or Below</td>\n",
       "      <td>male</td>\n",
       "    </tr>\n",
       "    <tr>\n",
       "      <th>1</th>\n",
       "      <td>2</td>\n",
       "      <td>2</td>\n",
       "      <td>PAIDOFF</td>\n",
       "      <td>1000</td>\n",
       "      <td>30</td>\n",
       "      <td>9/8/2016</td>\n",
       "      <td>10/7/2016</td>\n",
       "      <td>33</td>\n",
       "      <td>Bechalor</td>\n",
       "      <td>female</td>\n",
       "    </tr>\n",
       "    <tr>\n",
       "      <th>2</th>\n",
       "      <td>3</td>\n",
       "      <td>3</td>\n",
       "      <td>PAIDOFF</td>\n",
       "      <td>1000</td>\n",
       "      <td>15</td>\n",
       "      <td>9/8/2016</td>\n",
       "      <td>9/22/2016</td>\n",
       "      <td>27</td>\n",
       "      <td>college</td>\n",
       "      <td>male</td>\n",
       "    </tr>\n",
       "    <tr>\n",
       "      <th>3</th>\n",
       "      <td>4</td>\n",
       "      <td>4</td>\n",
       "      <td>PAIDOFF</td>\n",
       "      <td>1000</td>\n",
       "      <td>30</td>\n",
       "      <td>9/9/2016</td>\n",
       "      <td>10/8/2016</td>\n",
       "      <td>28</td>\n",
       "      <td>college</td>\n",
       "      <td>female</td>\n",
       "    </tr>\n",
       "    <tr>\n",
       "      <th>4</th>\n",
       "      <td>6</td>\n",
       "      <td>6</td>\n",
       "      <td>PAIDOFF</td>\n",
       "      <td>1000</td>\n",
       "      <td>30</td>\n",
       "      <td>9/9/2016</td>\n",
       "      <td>10/8/2016</td>\n",
       "      <td>29</td>\n",
       "      <td>college</td>\n",
       "      <td>male</td>\n",
       "    </tr>\n",
       "  </tbody>\n",
       "</table>\n",
       "</div>"
      ],
      "text/plain": [
       "   Unnamed: 0.1  Unnamed: 0 loan_status  Principal  terms effective_date  \\\n",
       "0             0           0     PAIDOFF       1000     30       9/8/2016   \n",
       "1             2           2     PAIDOFF       1000     30       9/8/2016   \n",
       "2             3           3     PAIDOFF       1000     15       9/8/2016   \n",
       "3             4           4     PAIDOFF       1000     30       9/9/2016   \n",
       "4             6           6     PAIDOFF       1000     30       9/9/2016   \n",
       "\n",
       "    due_date  age             education  Gender  \n",
       "0  10/7/2016   45  High School or Below    male  \n",
       "1  10/7/2016   33              Bechalor  female  \n",
       "2  9/22/2016   27               college    male  \n",
       "3  10/8/2016   28               college  female  \n",
       "4  10/8/2016   29               college    male  "
      ]
     },
     "execution_count": 4,
     "metadata": {},
     "output_type": "execute_result"
    }
   ],
   "source": [
    "df.head()"
   ]
  },
  {
   "cell_type": "code",
   "execution_count": 5,
   "id": "58d1c546",
   "metadata": {},
   "outputs": [
    {
     "data": {
      "text/plain": [
       "array(['PAIDOFF', 'COLLECTION'], dtype=object)"
      ]
     },
     "execution_count": 5,
     "metadata": {},
     "output_type": "execute_result"
    }
   ],
   "source": [
    "df['loan_status'].unique()"
   ]
  },
  {
   "cell_type": "code",
   "execution_count": 6,
   "id": "21f15710",
   "metadata": {},
   "outputs": [
    {
     "data": {
      "text/plain": [
       "loan_status       object\n",
       "Principal          int64\n",
       "terms              int64\n",
       "effective_date    object\n",
       "due_date          object\n",
       "age                int64\n",
       "education         object\n",
       "Gender            object\n",
       "dtype: object"
      ]
     },
     "execution_count": 6,
     "metadata": {},
     "output_type": "execute_result"
    }
   ],
   "source": [
    "df = df.drop(labels = ['Unnamed: 0.1', 'Unnamed: 0'], axis = 1)\n",
    "\n",
    "# dfTree will a variable used later, while testing the accuracy of your Decision Tree \n",
    "dfTree = df\n",
    "\n",
    "df.dtypes"
   ]
  },
  {
   "cell_type": "code",
   "execution_count": 7,
   "id": "5b158f30",
   "metadata": {},
   "outputs": [],
   "source": [
    "dfTree.head()\n",
    "dfTree = dfTree.drop(['effective_date', 'due_date'], axis = 1)"
   ]
  },
  {
   "cell_type": "code",
   "execution_count": 29,
   "id": "f727c7fa",
   "metadata": {},
   "outputs": [
    {
     "name": "stdout",
     "output_type": "stream",
     "text": [
      "Principal     5\n",
      "terms         3\n",
      "age          32\n",
      "education     4\n",
      "dtype: int64\n",
      "\n",
      " ['High School or Below' 'Bechalor' 'college' 'Master or Above']\n"
     ]
    }
   ],
   "source": [
    "from sklearn.tree import DecisionTreeClassifier\n",
    "from sklearn.metrics import f1_score, accuracy_score, jaccard_score\n",
    "from sklearn.model_selection import train_test_split\n",
    "from sklearn import preprocessing\n",
    "\n",
    "x = dfTree.iloc[:, 1:5]\n",
    "y = dfTree.iloc[:, 0]\n",
    "print(x.nunique())\n",
    "print(\"\\n\", x['education'].unique())"
   ]
  },
  {
   "cell_type": "code",
   "execution_count": 30,
   "id": "bfa07802",
   "metadata": {},
   "outputs": [],
   "source": [
    "y = y.values\n",
    "x = x.values\n",
    "\n",
    "yy = preprocessing.LabelEncoder().fit([\"PAIDOFF\", \"COLLECTION\"])\n",
    "xx = preprocessing.LabelEncoder().fit([\"High School or Below\", \"Bechalor\", \"college\", \"Master or Above\"])\n",
    "x[:, 3] = xx.transform(x[:, 3])\n",
    "y = yy.transform(y)\n",
    "\n",
    "x = preprocessing.StandardScaler().fit_transform(x)"
   ]
  },
  {
   "cell_type": "markdown",
   "id": "cc1cbc02",
   "metadata": {},
   "source": [
    "### Model Creation and Evaluation:"
   ]
  },
  {
   "cell_type": "code",
   "execution_count": 57,
   "id": "9746b866",
   "metadata": {},
   "outputs": [
    {
     "name": "stdout",
     "output_type": "stream",
     "text": [
      "Decision Tree Evaluation:\n",
      "Train Score: 0.841\n",
      "\n",
      "Jaccard-Simialirty:\n",
      "Test Score: 0.603\n",
      "\n",
      "F1-Score:\n",
      "Test Score: 0.752\n"
     ]
    }
   ],
   "source": [
    "train_x, test_x, train_y, test_y = train_test_split(x, y, test_size = .2, random_state = 5)\n",
    "\n",
    "treeNumModel = DecisionTreeClassifier(criterion = 'entropy').fit(train_x, train_y)\n",
    "trainNumYhat = treeNumModel.predict(train_x)\n",
    "\n",
    "print(\"Decision Tree Evaluation:\\nTrain Score:% .3f\" % accuracy_score(train_y, trainNumYhat))\n",
    "\n",
    "treeNumYhat = treeNumModel.predict(test_x)\n",
    "print(\"\\nJaccard-Simialirty:\\nTest Score:% .3f\" % jaccard_score(test_y, treeNumYhat))\n",
    "print(\"\\nF1-Score:\\nTest Score:% .3f\" % f1_score(test_y, treeNumYhat))"
   ]
  },
  {
   "cell_type": "code",
   "execution_count": 58,
   "id": "673be16f",
   "metadata": {},
   "outputs": [
    {
     "name": "stdout",
     "output_type": "stream",
     "text": [
      "SVM Evaluation:\n",
      "Train Score: 0.764\n",
      "\n",
      "Jaccard-Similarity:\n",
      "Test Score: 0.700\n",
      "\n",
      "F-Score:\n",
      "Test Score: 0.824\n"
     ]
    }
   ],
   "source": [
    "from sklearn.svm import SVC\n",
    "\n",
    "svcModel = SVC(kernel = 'linear').fit(train_x, train_y)\n",
    "trainYhat = svcModel.predict(train_x)\n",
    "\n",
    "print(\"SVM Evaluation:\\nTrain Score:% .3f\" %(accuracy_score(train_y, trainYhat)))\n",
    "\n",
    "svcYhat = svcModel.predict(test_x)\n",
    "print(\"\\nJaccard-Similarity:\\nTest Score:% .3f\" % jaccard_score(test_y, svcYhat))\n",
    "print(\"\\nF-Score:\\nTest Score:% .3f\" % f1_score(test_y, svcYhat))"
   ]
  },
  {
   "cell_type": "code",
   "execution_count": 60,
   "id": "736ada1c",
   "metadata": {},
   "outputs": [
    {
     "name": "stdout",
     "output_type": "stream",
     "text": [
      "KNN Evaluation:\n",
      "Train Score: 0.768\n",
      "\n",
      "Jaccard-Similarity:\n",
      "Test Score: 0.701\n",
      "\n",
      "F1-Score:\n",
      "Test Score: 0.825\n"
     ]
    }
   ],
   "source": [
    "from sklearn.neighbors import KNeighborsClassifier as kNN\n",
    "    \n",
    "knnModel = kNN(9).fit(train_x, train_y)\n",
    "\n",
    "trainYhat = knnModel.predict(train_x)\n",
    "print(\"KNN Evaluation:\\nTrain Score:% .3f\" % jaccard_score(train_y, trainYhat))\n",
    "    \n",
    "knnYhat = knnModel.predict(test_x)\n",
    "print(\"\\nJaccard-Similarity:\\nTest Score:% .3f\" % jaccard_score(test_y, knnYhat))\n",
    "print(\"\\nF1-Score:\\nTest Score:% .3f\" % f1_score(test_y, knnYhat))"
   ]
  },
  {
   "cell_type": "code",
   "execution_count": 65,
   "id": "d0b9a878",
   "metadata": {},
   "outputs": [
    {
     "name": "stdout",
     "output_type": "stream",
     "text": [
      "Logistic Regression Evaluation:\n",
      "Train Score: 0.537\n",
      "\n",
      "Log-Loss:\n",
      "Test Score: 0.627\n"
     ]
    }
   ],
   "source": [
    "import sklearn.linear_model\n",
    "from sklearn.linear_model import LinearRegression as LR\n",
    "from sklearn.metrics import log_loss\n",
    "\n",
    "lrModel = LR().fit(train_x, train_y)\n",
    "trainLrYhat = lrModel.predict(train_x)\n",
    "print(\"Logistic Regression Evaluation:\\nTrain Score:% .3f\" % log_loss(train_y, trainLrYhat))\n",
    "    \n",
    "lrYhat = lrModel.predict(test_x)\n",
    "print(\"\\nLog-Loss:\\nTest Score:% .3f\" % log_loss(test_y, lrYhat))"
   ]
  },
  {
   "cell_type": "code",
   "execution_count": 45,
   "id": "6cd77397",
   "metadata": {},
   "outputs": [
    {
     "name": "stdout",
     "output_type": "stream",
     "text": [
      "MLP:\n",
      "Train Score:  0.634\n",
      "\n",
      "Test Score:  0.923\n"
     ]
    },
    {
     "name": "stderr",
     "output_type": "stream",
     "text": [
      "/Library/Frameworks/Python.framework/Versions/3.9/lib/python3.9/site-packages/sklearn/neural_network/_multilayer_perceptron.py:702: ConvergenceWarning: Stochastic Optimizer: Maximum iterations (200) reached and the optimization hasn't converged yet.\n",
      "  warnings.warn(\n"
     ]
    }
   ],
   "source": [
    "from sklearn.neural_network import MLPClassifier as MLP\n",
    "\n",
    "train_x, test_x, train_y, test_y = train_test_split(x, y, test_size = .20, random_state = 30)\n",
    "\n",
    "neuralModel = MLP(solver = 'adam').fit(train_x, train_y)\n",
    "trainYhatNeural = neuralModel.predict(train_x)\n",
    "print(\"MLP:\\nTrain Score: % .3f\" % accuracy_score(train_y, trainNumYhat))\n",
    "\n",
    "neuralYhat = neuralModel.predict(test_x)\n",
    "print(\"\\nTest Score: % .3f\" % f1_score(test_y, neuralYhat))"
   ]
  },
  {
   "cell_type": "code",
   "execution_count": null,
   "id": "ef0eada3",
   "metadata": {},
   "outputs": [],
   "source": []
  }
 ],
 "metadata": {
  "kernelspec": {
   "display_name": "Python 3 (ipykernel)",
   "language": "python",
   "name": "python3"
  },
  "language_info": {
   "codemirror_mode": {
    "name": "ipython",
    "version": 3
   },
   "file_extension": ".py",
   "mimetype": "text/x-python",
   "name": "python",
   "nbconvert_exporter": "python",
   "pygments_lexer": "ipython3",
   "version": "3.9.2"
  }
 },
 "nbformat": 4,
 "nbformat_minor": 5
}
